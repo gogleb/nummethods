{
 "cells": [
  {
   "cell_type": "code",
   "execution_count": 1,
   "metadata": {
    "ExecuteTime": {
     "end_time": "2019-05-30T11:49:02.039429Z",
     "start_time": "2019-05-30T11:48:56.183822Z"
    }
   },
   "outputs": [],
   "source": [
    "import pandas as pd\n",
    "import geocoder\n",
    "import numpy as np\n",
    "from sklearn.metrics import r2_score\n",
    "from scipy.stats import normaltest\n",
    "import matplotlib.pyplot as plt \n",
    "import statsmodels.api as sm\n",
    "from nltk.corpus import stopwords\n",
    "from sklearn.feature_extraction.text import CountVectorizer\n",
    "from sklearn.preprocessing import StandardScaler\n",
    "from sklearn.model_selection import train_test_split\n",
    "from statsmodels.stats.diagnostic import het_white,het_breuschpagan"
   ]
  },
  {
   "cell_type": "markdown",
   "metadata": {},
   "source": [
    "#  ТЕКСТОВЫЙ АНАЛИЗ НА РЫНКЕ НЕДВИЖИМОСТИ\n",
    "## Проектная работа по предмету количественные методы в экономике \n",
    "### Выполнили: Гончаров Глеб, Егоров Владимир\n",
    "### Основано на \"TEXTUAL ANALYSIS IN REAL ESTATE\"\n",
    "by ADAM NOWAK AND PATRICK SMITH"
   ]
  },
  {
   "cell_type": "markdown",
   "metadata": {},
   "source": [
    "### Работе рассматриваются три модели\n",
    "<center>1. Базовая</center>\n",
    "$$ p_it=(z_it,a_1 )+(v_i,a_2 )+ε_i$$\n",
    "<center>2. Модель с униграммами</center>\n",
    "$$ p_it=(z_it,a_1 )+(v_i,a_2 )+ε_i$$\n",
    "<center>3. Модель с биграммами</center>\n",
    "$$ p_it=(z_it,a_1 )+(w_i,a_2 )+ε_i$$"
   ]
  },
  {
   "cell_type": "code",
   "execution_count": 2,
   "metadata": {
    "ExecuteTime": {
     "end_time": "2019-05-30T11:49:02.057563Z",
     "start_time": "2019-05-30T11:49:02.043181Z"
    }
   },
   "outputs": [],
   "source": [
    "def adj_r2_score(y_true, y_pred, n):\n",
    "    return 1 - (1 - r2_score(y_true, y_pred)) * (y_true.shape[0] - 1 )/ ( y_true.shape[0] - n - 1)\n",
    "def return_words(vectorizer, regresor, n):\n",
    "    params = np.array(regresor.params[3:])\n",
    "    good_ind = params.argsort()[-n:]\n",
    "    bad_ind = params.argsort()[:n]\n",
    "    good, bad = [],[]\n",
    "    \n",
    "    for i in good_ind:\n",
    "        for key, value in vectorizer.vocabulary_.items():\n",
    "            if value == i:\n",
    "                good.append(key)\n",
    "    for i in bad_ind:\n",
    "        for key, value in vectorizer.vocabulary_.items():\n",
    "            if value == i:\n",
    "                bad.append(key)\n",
    "    return good, bad"
   ]
  },
  {
   "cell_type": "markdown",
   "metadata": {},
   "source": [
    "# I. Обработка первончальных данных, описательная статистика"
   ]
  },
  {
   "cell_type": "markdown",
   "metadata": {},
   "source": [
    "### Вид первончальных данных"
   ]
  },
  {
   "cell_type": "code",
   "execution_count": 3,
   "metadata": {
    "ExecuteTime": {
     "end_time": "2019-05-30T11:49:02.137648Z",
     "start_time": "2019-05-30T11:49:02.062487Z"
    }
   },
   "outputs": [
    {
     "data": {
      "text/html": [
       "<div>\n",
       "<style scoped>\n",
       "    .dataframe tbody tr th:only-of-type {\n",
       "        vertical-align: middle;\n",
       "    }\n",
       "\n",
       "    .dataframe tbody tr th {\n",
       "        vertical-align: top;\n",
       "    }\n",
       "\n",
       "    .dataframe thead th {\n",
       "        text-align: right;\n",
       "    }\n",
       "</style>\n",
       "<table border=\"1\" class=\"dataframe\">\n",
       "  <thead>\n",
       "    <tr style=\"text-align: right;\">\n",
       "      <th></th>\n",
       "      <th>advAddress</th>\n",
       "      <th>metro</th>\n",
       "      <th>price</th>\n",
       "      <th>advName</th>\n",
       "      <th>description</th>\n",
       "    </tr>\n",
       "  </thead>\n",
       "  <tbody>\n",
       "    <tr>\n",
       "      <th>0</th>\n",
       "      <td>Московская область, Одинцово, мкр. 4, ул. Ново...</td>\n",
       "      <td>-</td>\n",
       "      <td>6 950 000</td>\n",
       "      <td>4-комн. квартира, 65 м²</td>\n",
       "      <td>Продается 4-х комнатная квартира! г. Одинцово,...</td>\n",
       "    </tr>\n",
       "    <tr>\n",
       "      <th>1</th>\n",
       "      <td>Московская область, Одинцово, ул. Сколковская, 3А</td>\n",
       "      <td>-</td>\n",
       "      <td>4 485 000</td>\n",
       "      <td>1-комн. квартира, 38 м²</td>\n",
       "      <td>Сколковский.ПЕРЕУСТУПКА от Собственника!!!  Де...</td>\n",
       "    </tr>\n",
       "    <tr>\n",
       "      <th>2</th>\n",
       "      <td>Московская область, Одинцово, ул. Гвардейская, 9</td>\n",
       "      <td>Молодежная, Крылатское, Кунцевская</td>\n",
       "      <td>5 450 000</td>\n",
       "      <td>1-комн. квартира, 39 м²</td>\n",
       "      <td>Проедается новая квартира с качественной дизай...</td>\n",
       "    </tr>\n",
       "    <tr>\n",
       "      <th>3</th>\n",
       "      <td>Московская область, Одинцово, Северная ул., 5к3</td>\n",
       "      <td>Славянский бульвар, Кунцевская, Молодежная</td>\n",
       "      <td>5 700 000</td>\n",
       "      <td>1-комн. квартира, 32 м²</td>\n",
       "      <td>ЖК Одинбург! Квартира только после ремонта и у...</td>\n",
       "    </tr>\n",
       "    <tr>\n",
       "      <th>4</th>\n",
       "      <td>Московская область, Одинцово, мкр. 7, 7-й микр...</td>\n",
       "      <td>Кунцевская, Славянский бульвар</td>\n",
       "      <td>2 402 000</td>\n",
       "      <td>Студия, 25,4 м²</td>\n",
       "      <td>Продается квартира-студия площадью 25,4 кв.м н...</td>\n",
       "    </tr>\n",
       "  </tbody>\n",
       "</table>\n",
       "</div>"
      ],
      "text/plain": [
       "                                          advAddress  \\\n",
       "0  Московская область, Одинцово, мкр. 4, ул. Ново...   \n",
       "1  Московская область, Одинцово, ул. Сколковская, 3А   \n",
       "2   Московская область, Одинцово, ул. Гвардейская, 9   \n",
       "3    Московская область, Одинцово, Северная ул., 5к3   \n",
       "4  Московская область, Одинцово, мкр. 7, 7-й микр...   \n",
       "\n",
       "                                        metro      price  \\\n",
       "0                                           -  6 950 000   \n",
       "1                                           -  4 485 000   \n",
       "2          Молодежная, Крылатское, Кунцевская  5 450 000   \n",
       "3  Славянский бульвар, Кунцевская, Молодежная  5 700 000   \n",
       "4              Кунцевская, Славянский бульвар  2 402 000   \n",
       "\n",
       "                   advName                                        description  \n",
       "0  4-комн. квартира, 65 м²  Продается 4-х комнатная квартира! г. Одинцово,...  \n",
       "1  1-комн. квартира, 38 м²  Сколковский.ПЕРЕУСТУПКА от Собственника!!!  Де...  \n",
       "2  1-комн. квартира, 39 м²  Проедается новая квартира с качественной дизай...  \n",
       "3  1-комн. квартира, 32 м²  ЖК Одинбург! Квартира только после ремонта и у...  \n",
       "4          Студия, 25,4 м²  Продается квартира-студия площадью 25,4 кв.м н...  "
      ]
     },
     "execution_count": 3,
     "metadata": {},
     "output_type": "execute_result"
    }
   ],
   "source": [
    "#Initail datased (parsed cian)\n",
    "df = pd.read_csv('odi_cian.csv')\n",
    "df.head()"
   ]
  },
  {
   "cell_type": "markdown",
   "metadata": {},
   "source": [
    "### Из поля advName взяли количество комнат и квадратных метров, добавили дами-переменные для станций метро"
   ]
  },
  {
   "cell_type": "code",
   "execution_count": 4,
   "metadata": {
    "ExecuteTime": {
     "end_time": "2019-05-30T11:49:02.197432Z",
     "start_time": "2019-05-30T11:49:02.141992Z"
    }
   },
   "outputs": [],
   "source": [
    "#Added rooms and sq param\n",
    "df['rooms'] = df['advName'].apply(lambda x: int(x[0]) if str.isdigit(x[0]) else 1)\n",
    "df['sq'] = df['advName'].apply(lambda x: int(x.split(',')[-1].split(' ')[1]) \n",
    "                                if x.split(',')[-1].split(' ')[1] != 'м²' \n",
    "                                 else int(x.split(',')[-2].split(' ')[1]))\n",
    "df.drop('advName',axis=1,inplace=True)\n",
    "#Added dummies for subway stations\n",
    "metr = []\n",
    "for s in df['metro'].unique()[1:]:\n",
    "    for j in s.split(','):\n",
    "        if j.strip() not in metr:\n",
    "            metr.append(j.strip())\n",
    "for m in metr:\n",
    "    df[m] = df['metro'].apply(lambda x : 1 if m in x else 0)\n",
    "df.drop('metro',inplace=True,axis=1)"
   ]
  },
  {
   "cell_type": "code",
   "execution_count": 5,
   "metadata": {
    "ExecuteTime": {
     "end_time": "2019-05-30T11:49:02.229810Z",
     "start_time": "2019-05-30T11:49:02.200542Z"
    },
    "scrolled": true
   },
   "outputs": [
    {
     "data": {
      "text/html": [
       "<div>\n",
       "<style scoped>\n",
       "    .dataframe tbody tr th:only-of-type {\n",
       "        vertical-align: middle;\n",
       "    }\n",
       "\n",
       "    .dataframe tbody tr th {\n",
       "        vertical-align: top;\n",
       "    }\n",
       "\n",
       "    .dataframe thead th {\n",
       "        text-align: right;\n",
       "    }\n",
       "</style>\n",
       "<table border=\"1\" class=\"dataframe\">\n",
       "  <thead>\n",
       "    <tr style=\"text-align: right;\">\n",
       "      <th></th>\n",
       "      <th>advAddress</th>\n",
       "      <th>price</th>\n",
       "      <th>description</th>\n",
       "      <th>rooms</th>\n",
       "      <th>sq</th>\n",
       "      <th>Молодежная</th>\n",
       "      <th>Крылатское</th>\n",
       "      <th>Кунцевская</th>\n",
       "      <th>Славянский бульвар</th>\n",
       "      <th>Киевская</th>\n",
       "      <th>...</th>\n",
       "      <th>Боровское шоссе</th>\n",
       "      <th>Солнцево</th>\n",
       "      <th>Деловой центр</th>\n",
       "      <th>Беговая</th>\n",
       "      <th>Белорусская</th>\n",
       "      <th>Говорово</th>\n",
       "      <th>Филевский парк</th>\n",
       "      <th>Тропарево</th>\n",
       "      <th>Саларьево</th>\n",
       "      <th>Пионерская</th>\n",
       "    </tr>\n",
       "  </thead>\n",
       "  <tbody>\n",
       "    <tr>\n",
       "      <th>0</th>\n",
       "      <td>Московская область, Одинцово, мкр. 4, ул. Ново...</td>\n",
       "      <td>6 950 000</td>\n",
       "      <td>Продается 4-х комнатная квартира! г. Одинцово,...</td>\n",
       "      <td>4</td>\n",
       "      <td>65</td>\n",
       "      <td>0</td>\n",
       "      <td>0</td>\n",
       "      <td>0</td>\n",
       "      <td>0</td>\n",
       "      <td>0</td>\n",
       "      <td>...</td>\n",
       "      <td>0</td>\n",
       "      <td>0</td>\n",
       "      <td>0</td>\n",
       "      <td>0</td>\n",
       "      <td>0</td>\n",
       "      <td>0</td>\n",
       "      <td>0</td>\n",
       "      <td>0</td>\n",
       "      <td>0</td>\n",
       "      <td>0</td>\n",
       "    </tr>\n",
       "    <tr>\n",
       "      <th>1</th>\n",
       "      <td>Московская область, Одинцово, ул. Сколковская, 3А</td>\n",
       "      <td>4 485 000</td>\n",
       "      <td>Сколковский.ПЕРЕУСТУПКА от Собственника!!!  Де...</td>\n",
       "      <td>1</td>\n",
       "      <td>38</td>\n",
       "      <td>0</td>\n",
       "      <td>0</td>\n",
       "      <td>0</td>\n",
       "      <td>0</td>\n",
       "      <td>0</td>\n",
       "      <td>...</td>\n",
       "      <td>0</td>\n",
       "      <td>0</td>\n",
       "      <td>0</td>\n",
       "      <td>0</td>\n",
       "      <td>0</td>\n",
       "      <td>0</td>\n",
       "      <td>0</td>\n",
       "      <td>0</td>\n",
       "      <td>0</td>\n",
       "      <td>0</td>\n",
       "    </tr>\n",
       "    <tr>\n",
       "      <th>2</th>\n",
       "      <td>Московская область, Одинцово, ул. Гвардейская, 9</td>\n",
       "      <td>5 450 000</td>\n",
       "      <td>Проедается новая квартира с качественной дизай...</td>\n",
       "      <td>1</td>\n",
       "      <td>39</td>\n",
       "      <td>1</td>\n",
       "      <td>1</td>\n",
       "      <td>1</td>\n",
       "      <td>0</td>\n",
       "      <td>0</td>\n",
       "      <td>...</td>\n",
       "      <td>0</td>\n",
       "      <td>0</td>\n",
       "      <td>0</td>\n",
       "      <td>0</td>\n",
       "      <td>0</td>\n",
       "      <td>0</td>\n",
       "      <td>0</td>\n",
       "      <td>0</td>\n",
       "      <td>0</td>\n",
       "      <td>0</td>\n",
       "    </tr>\n",
       "    <tr>\n",
       "      <th>3</th>\n",
       "      <td>Московская область, Одинцово, Северная ул., 5к3</td>\n",
       "      <td>5 700 000</td>\n",
       "      <td>ЖК Одинбург! Квартира только после ремонта и у...</td>\n",
       "      <td>1</td>\n",
       "      <td>32</td>\n",
       "      <td>1</td>\n",
       "      <td>0</td>\n",
       "      <td>1</td>\n",
       "      <td>1</td>\n",
       "      <td>0</td>\n",
       "      <td>...</td>\n",
       "      <td>0</td>\n",
       "      <td>0</td>\n",
       "      <td>0</td>\n",
       "      <td>0</td>\n",
       "      <td>0</td>\n",
       "      <td>0</td>\n",
       "      <td>0</td>\n",
       "      <td>0</td>\n",
       "      <td>0</td>\n",
       "      <td>0</td>\n",
       "    </tr>\n",
       "    <tr>\n",
       "      <th>4</th>\n",
       "      <td>Московская область, Одинцово, мкр. 7, 7-й микр...</td>\n",
       "      <td>2 402 000</td>\n",
       "      <td>Продается квартира-студия площадью 25,4 кв.м н...</td>\n",
       "      <td>1</td>\n",
       "      <td>25</td>\n",
       "      <td>0</td>\n",
       "      <td>0</td>\n",
       "      <td>1</td>\n",
       "      <td>1</td>\n",
       "      <td>0</td>\n",
       "      <td>...</td>\n",
       "      <td>0</td>\n",
       "      <td>0</td>\n",
       "      <td>0</td>\n",
       "      <td>0</td>\n",
       "      <td>0</td>\n",
       "      <td>0</td>\n",
       "      <td>0</td>\n",
       "      <td>0</td>\n",
       "      <td>0</td>\n",
       "      <td>0</td>\n",
       "    </tr>\n",
       "  </tbody>\n",
       "</table>\n",
       "<p>5 rows × 26 columns</p>\n",
       "</div>"
      ],
      "text/plain": [
       "                                          advAddress      price  \\\n",
       "0  Московская область, Одинцово, мкр. 4, ул. Ново...  6 950 000   \n",
       "1  Московская область, Одинцово, ул. Сколковская, 3А  4 485 000   \n",
       "2   Московская область, Одинцово, ул. Гвардейская, 9  5 450 000   \n",
       "3    Московская область, Одинцово, Северная ул., 5к3  5 700 000   \n",
       "4  Московская область, Одинцово, мкр. 7, 7-й микр...  2 402 000   \n",
       "\n",
       "                                         description  rooms  sq  Молодежная  \\\n",
       "0  Продается 4-х комнатная квартира! г. Одинцово,...      4  65           0   \n",
       "1  Сколковский.ПЕРЕУСТУПКА от Собственника!!!  Де...      1  38           0   \n",
       "2  Проедается новая квартира с качественной дизай...      1  39           1   \n",
       "3  ЖК Одинбург! Квартира только после ремонта и у...      1  32           1   \n",
       "4  Продается квартира-студия площадью 25,4 кв.м н...      1  25           0   \n",
       "\n",
       "   Крылатское  Кунцевская  Славянский бульвар  Киевская     ...      \\\n",
       "0           0           0                   0         0     ...       \n",
       "1           0           0                   0         0     ...       \n",
       "2           1           1                   0         0     ...       \n",
       "3           0           1                   1         0     ...       \n",
       "4           0           1                   1         0     ...       \n",
       "\n",
       "   Боровское шоссе  Солнцево  Деловой центр  Беговая  Белорусская  Говорово  \\\n",
       "0                0         0              0        0            0         0   \n",
       "1                0         0              0        0            0         0   \n",
       "2                0         0              0        0            0         0   \n",
       "3                0         0              0        0            0         0   \n",
       "4                0         0              0        0            0         0   \n",
       "\n",
       "   Филевский парк  Тропарево  Саларьево  Пионерская  \n",
       "0               0          0          0           0  \n",
       "1               0          0          0           0  \n",
       "2               0          0          0           0  \n",
       "3               0          0          0           0  \n",
       "4               0          0          0           0  \n",
       "\n",
       "[5 rows x 26 columns]"
      ]
     },
     "execution_count": 5,
     "metadata": {},
     "output_type": "execute_result"
    }
   ],
   "source": [
    "df.head()"
   ]
  },
  {
   "cell_type": "markdown",
   "metadata": {},
   "source": [
    "### Перевели адреса в координаты"
   ]
  },
  {
   "cell_type": "code",
   "execution_count": null,
   "metadata": {
    "ExecuteTime": {
     "start_time": "2019-05-30T11:48:56.296Z"
    }
   },
   "outputs": [
    {
     "name": "stderr",
     "output_type": "stream",
     "text": [
      "Status code Unknown from https://geocode-maps.yandex.ru/1.x/: ERROR - HTTPSConnectionPool(host='geocode-maps.yandex.ru', port=443): Read timed out. (read timeout=5.0)\n"
     ]
    }
   ],
   "source": [
    "#Executes about 8 minutes\n",
    "latlng = [] \n",
    "for s in df['advAddress']:\n",
    "    latlng.append(geocoder.yandex(s).latlng)\n",
    "df.drop('advAddress',axis=1,inplace=True)\n",
    "latlng = np.array(latlng)\n",
    "df['lat'] = latlng[:,0]\n",
    "df['lon'] = latlng[:,1]\n",
    "df.head()\n",
    "col = ['price','rooms', 'sq','lat', 'lon','description', 'Молодежная', 'Крылатское',\n",
    "       'Кунцевская', 'Славянский бульвар', 'Киевская', 'Парк Победы',\n",
    "       'Юго-Западная', 'Новопеределкино', 'Фили', 'Рассказовка', 'Кутузовская',\n",
    "       'Боровское шоссе', 'Солнцево', 'Деловой центр', 'Беговая',\n",
    "       'Белорусская', 'Говорово', 'Филевский парк', 'Тропарево', 'Саларьево',\n",
    "       'Пионерская']\n",
    "df = df.reindex(columns=col)\n",
    "df.to_csv('odi_latlon.csv',index=False)"
   ]
  },
  {
   "cell_type": "code",
   "execution_count": null,
   "metadata": {
    "ExecuteTime": {
     "start_time": "2019-05-30T11:48:56.304Z"
    }
   },
   "outputs": [],
   "source": [
    "df = pd.read_csv('odi_latlon.csv')\n",
    "df.head()"
   ]
  },
  {
   "cell_type": "markdown",
   "metadata": {},
   "source": [
    "### Мы поняли, что добавлять каждую станцию метро - это не оч хорошая идея, потому что они \"идут\" вместе. Объеденили станции в три группы: желтая и красная - по цвету веток, остальные - отдельная группа. Получили вид итогового датасета."
   ]
  },
  {
   "cell_type": "code",
   "execution_count": null,
   "metadata": {
    "ExecuteTime": {
     "start_time": "2019-05-30T11:48:56.306Z"
    }
   },
   "outputs": [],
   "source": [
    "#To add subways isn't really good idea, so we united them in groups\n",
    "railway = ['Молодежная', \"Крылатское\", \"Кунцевская\", \"Славянский бульвар\", \"Киевская\",\"Парк Победы\",\"Фили\", \"Кутузовская\",\"Деловой центр\", \"Филевский парк\", \"Пионерская\",\"Беговая\", \"Белорусская\"]\n",
    "red = [\"Юго-Западная\", \"Тропарево\",\"Саларьево\"]\n",
    "yellow =[\"Новопеределкино\",\"Рассказовка\", \"Боровское шоссе\", \"Солнцево\",\"Говорово\"]\n",
    "col = df['Молодежная'].copy()\n",
    "for i in railway[1:]:\n",
    "    col += df[i]\n",
    "df['railway'] = col.apply(lambda x: 1 if x >= 1 else 0)\n",
    "col = df['Юго-Западная'].copy()\n",
    "for i in red[1:]:\n",
    "    col += df[i]\n",
    "df['red'] = col.apply(lambda x: 1 if x >= 1 else 0)\n",
    "col = df['Новопеределкино'].copy()\n",
    "for i in yellow[1:]:\n",
    "    col += df[i]\n",
    "df['yellow'] = col.apply(lambda x: 1 if x >= 1 else 0)\n",
    "df.drop(railway,axis=1,inplace=True)\n",
    "df.drop(red,axis=1,inplace=True)\n",
    "df.drop(yellow,axis=1,inplace=True)\n",
    "df['price'] = df['price'].apply(lambda x: x.replace(' ',''))\n",
    "df['price'].astype('int64')\n",
    "df['description'] = df['description'].apply(lambda x: str.lower(x))\n",
    "df.head()\n",
    "df.to_csv('odi_final.csv',index=False)"
   ]
  },
  {
   "cell_type": "code",
   "execution_count": null,
   "metadata": {
    "ExecuteTime": {
     "start_time": "2019-05-30T11:48:56.309Z"
    }
   },
   "outputs": [],
   "source": [
    "df = pd.read_csv('odi_final.csv')\n",
    "df.head()"
   ]
  },
  {
   "cell_type": "markdown",
   "metadata": {},
   "source": [
    "### Корреляция между квадратными метрами и количеством комнта сильная - убираем количество комнат из модели. "
   ]
  },
  {
   "cell_type": "code",
   "execution_count": null,
   "metadata": {
    "ExecuteTime": {
     "start_time": "2019-05-30T11:48:56.312Z"
    }
   },
   "outputs": [],
   "source": [
    "df.corr()"
   ]
  },
  {
   "cell_type": "code",
   "execution_count": null,
   "metadata": {
    "ExecuteTime": {
     "start_time": "2019-05-30T11:48:56.318Z"
    }
   },
   "outputs": [],
   "source": [
    "df.describe()"
   ]
  },
  {
   "cell_type": "markdown",
   "metadata": {},
   "source": [
    "### Объявление с максимальной ценой"
   ]
  },
  {
   "cell_type": "code",
   "execution_count": null,
   "metadata": {
    "ExecuteTime": {
     "start_time": "2019-05-30T11:48:56.320Z"
    }
   },
   "outputs": [],
   "source": [
    "df[df['price'] == df['price'].max()].T"
   ]
  },
  {
   "cell_type": "markdown",
   "metadata": {},
   "source": [
    "## II. Model #1. Simple Linear Regression"
   ]
  },
  {
   "cell_type": "code",
   "execution_count": null,
   "metadata": {
    "ExecuteTime": {
     "start_time": "2019-05-30T11:48:56.324Z"
    }
   },
   "outputs": [],
   "source": [
    "df.drop('rooms',axis=1,inplace=True)\n",
    "X_train, X_test, Y_train, Y_test  = train_test_split(df.drop(['price'], axis=1),\n",
    "                                                     np.log(df['price']), test_size=0.2, random_state=3)\n",
    "lr = sm.OLS(Y_train,X_train.drop(['description'],axis=1)).fit()\n",
    "print(lr.summary())"
   ]
  },
  {
   "cell_type": "markdown",
   "metadata": {},
   "source": [
    "### R2 и Adjusted R2"
   ]
  },
  {
   "cell_type": "code",
   "execution_count": null,
   "metadata": {
    "ExecuteTime": {
     "start_time": "2019-05-30T11:48:56.330Z"
    }
   },
   "outputs": [],
   "source": [
    "print('In sample r2:',adj_r2_score(Y_train,lr.predict(X_train.drop('description',axis=1)),X_train.shape[1] - 1), \n",
    "      'Out of sample r2:',adj_r2_score(Y_test,lr.predict(X_test.drop('description',axis=1)),X_train.shape[1]))"
   ]
  },
  {
   "cell_type": "markdown",
   "metadata": {},
   "source": [
    "### Проверка предпосылок теоремы Гаусса-Маркова\n",
    "1. Равенство матожидания 0"
   ]
  },
  {
   "cell_type": "code",
   "execution_count": null,
   "metadata": {
    "ExecuteTime": {
     "start_time": "2019-05-30T11:48:56.343Z"
    }
   },
   "outputs": [],
   "source": [
    "eps = Y_train - lr.predict(X_train.drop('description',axis=1))\n",
    "print('Residuals mean:', eps.mean())"
   ]
  },
  {
   "cell_type": "markdown",
   "metadata": {},
   "source": [
    "2. Независимость остатков и переменных видна из графика"
   ]
  },
  {
   "cell_type": "code",
   "execution_count": null,
   "metadata": {
    "ExecuteTime": {
     "start_time": "2019-05-30T11:48:56.345Z"
    }
   },
   "outputs": [],
   "source": [
    "plt.figure(figsize=(8,8))\n",
    "plt.scatter(range(len(eps)),eps,s=3);"
   ]
  },
  {
   "cell_type": "markdown",
   "metadata": {},
   "source": [
    "3. Согласно тесту условие гетероскедастичности не выполняется"
   ]
  },
  {
   "cell_type": "code",
   "execution_count": null,
   "metadata": {
    "ExecuteTime": {
     "start_time": "2019-05-30T11:48:56.347Z"
    }
   },
   "outputs": [],
   "source": [
    "p_value = het_breuschpagan(eps,lr.model.exog)[-1]\n",
    "print('P-value:', p_value)"
   ]
  },
  {
   "cell_type": "markdown",
   "metadata": {},
   "source": [
    "4. Не понимаем, как проверить ковариации остатков"
   ]
  },
  {
   "cell_type": "markdown",
   "metadata": {},
   "source": [
    "### Проверка нормальности распредления остатков\n",
    "Из теста на нормальность, как и из графика видно, что остатки не распределны нормально"
   ]
  },
  {
   "cell_type": "code",
   "execution_count": null,
   "metadata": {
    "ExecuteTime": {
     "start_time": "2019-05-30T11:48:56.354Z"
    }
   },
   "outputs": [],
   "source": [
    "plt.figure(figsize=(8,8))\n",
    "plt.hist(eps)\n",
    "print('P-value:', normaltest(eps)[-1], '\\np-value почти ноль - отклоняем нулевую гипотезу, поэтому распредление остатков не является нормальным')"
   ]
  },
  {
   "cell_type": "markdown",
   "metadata": {},
   "source": [
    "## Model #2. Linear Regression with Unigrams"
   ]
  },
  {
   "cell_type": "code",
   "execution_count": null,
   "metadata": {
    "ExecuteTime": {
     "start_time": "2019-05-30T11:48:56.358Z"
    }
   },
   "outputs": [],
   "source": [
    "stop_words = stopwords.words('russian')\n",
    "vectorizer_uni = CountVectorizer(min_df=120,stop_words=stop_words)\n",
    "train_uni_descr = vectorizer_uni.fit_transform(X_train['description'])\n",
    "test_uni_descr = vectorizer_uni.transform(X_test['description'])\n",
    "train_uni_descr.shape"
   ]
  },
  {
   "cell_type": "code",
   "execution_count": null,
   "metadata": {
    "ExecuteTime": {
     "start_time": "2019-05-30T11:48:56.360Z"
    }
   },
   "outputs": [],
   "source": [
    "X_train_unigram = np.hstack([X_train[['sq','lat','lon']], train_uni_descr.toarray()])\n",
    "X_test_unigram = np.hstack([X_test[['sq','lat','lon']], test_uni_descr.toarray()])\n",
    "X_train_unigram.shape"
   ]
  },
  {
   "cell_type": "code",
   "execution_count": null,
   "metadata": {
    "ExecuteTime": {
     "start_time": "2019-05-30T11:48:56.362Z"
    }
   },
   "outputs": [],
   "source": [
    "X_test_unigram[0,:]"
   ]
  },
  {
   "cell_type": "code",
   "execution_count": null,
   "metadata": {
    "ExecuteTime": {
     "start_time": "2019-05-30T11:48:56.364Z"
    }
   },
   "outputs": [],
   "source": [
    "lr_uni = sm.OLS(Y_train,X_train_unigram).fit()\n",
    "print(lr_uni.summary())"
   ]
  },
  {
   "cell_type": "markdown",
   "metadata": {},
   "source": [
    "### R2 и Adjusted R2"
   ]
  },
  {
   "cell_type": "code",
   "execution_count": null,
   "metadata": {
    "ExecuteTime": {
     "start_time": "2019-05-30T11:48:56.366Z"
    }
   },
   "outputs": [],
   "source": [
    "print('In sample r2:',adj_r2_score(Y_train,lr_uni.predict(X_train_unigram),X_train.shape[1]), \n",
    "      'Out of sample r2:',adj_r2_score(Y_test,lr_uni.predict(X_test_unigram),X_train.shape[1]))"
   ]
  },
  {
   "cell_type": "code",
   "execution_count": null,
   "metadata": {
    "ExecuteTime": {
     "start_time": "2019-05-30T11:48:56.368Z"
    }
   },
   "outputs": [],
   "source": [
    "good_uni, bad_uni = return_words(vectorizer_uni, lr_uni,20)\n",
    "print('Good ones:\\n', good_uni)\n",
    "print('Bad ones:\\n',bad_uni)"
   ]
  },
  {
   "cell_type": "markdown",
   "metadata": {},
   "source": [
    "<div style='float:left'><img width=400 src=\"1.png\" alt=\"HSE logo\"></img></div> \n",
    "<div style='float:right'><img width=400 src=\"2.png\" alt=\"HSE logo\"></img></div> \n",
    "\n"
   ]
  },
  {
   "cell_type": "markdown",
   "metadata": {},
   "source": [
    "## Model #3. Linear Regression with Bigrams"
   ]
  },
  {
   "cell_type": "code",
   "execution_count": null,
   "metadata": {
    "ExecuteTime": {
     "start_time": "2019-05-30T11:48:56.370Z"
    }
   },
   "outputs": [],
   "source": [
    "vectorizer_bi = CountVectorizer(min_df=76,stop_words=stop_words,ngram_range=(2,2))\n",
    "train_bi_descr = vectorizer_bi.fit_transform(X_train['description'])\n",
    "test_bi_descr = vectorizer_bi.transform(X_test['description'])\n",
    "train_bi_descr.shape"
   ]
  },
  {
   "cell_type": "code",
   "execution_count": null,
   "metadata": {
    "ExecuteTime": {
     "start_time": "2019-05-30T11:48:56.372Z"
    }
   },
   "outputs": [],
   "source": [
    "X_train_bigram = np.hstack([X_train[['sq','lat','lon']], train_bi_descr.toarray()])\n",
    "X_test_bigram = np.hstack([X_test[['sq','lat','lon']], test_bi_descr.toarray()])\n",
    "X_train_bigram.shape"
   ]
  },
  {
   "cell_type": "code",
   "execution_count": null,
   "metadata": {
    "ExecuteTime": {
     "start_time": "2019-05-30T11:48:56.375Z"
    }
   },
   "outputs": [],
   "source": [
    "lr_bi = sm.OLS(Y_train,X_train_bigram).fit()\n",
    "print(lr_bi.summary())"
   ]
  },
  {
   "cell_type": "code",
   "execution_count": null,
   "metadata": {
    "ExecuteTime": {
     "start_time": "2019-05-30T11:48:56.377Z"
    }
   },
   "outputs": [],
   "source": [
    "print('In sample r2:',adj_r2_score(Y_train,lr_bi.predict(X_train_bigram),X_train.shape[1]), \n",
    "      'Out of sample r2:',adj_r2_score(Y_test,lr_bi.predict(X_test_bigram),X_train.shape[1]))"
   ]
  },
  {
   "cell_type": "code",
   "execution_count": null,
   "metadata": {
    "ExecuteTime": {
     "start_time": "2019-05-30T11:48:56.379Z"
    }
   },
   "outputs": [],
   "source": [
    "good_bi, bad_bi = return_words(vectorizer_bi, lr_bi,20)\n",
    "print('Good ones:\\n', good_bi)\n",
    "print('Bad ones:\\n', bad_bi)"
   ]
  },
  {
   "cell_type": "markdown",
   "metadata": {
    "ExecuteTime": {
     "end_time": "2019-05-30T11:25:45.994631Z",
     "start_time": "2019-05-30T11:25:45.986596Z"
    }
   },
   "source": [
    "<div style='float:left'><img width=400 src=\"3.png\" alt=\"HSE logo\"></img></div> \n",
    "<div style='float:right'><img width=400 src=\"4.png\" alt=\"HSE logo\"></img></div> \n"
   ]
  },
  {
   "cell_type": "code",
   "execution_count": null,
   "metadata": {},
   "outputs": [],
   "source": []
  }
 ],
 "metadata": {
  "kernelspec": {
   "display_name": "Python 3",
   "language": "python",
   "name": "python3"
  },
  "language_info": {
   "codemirror_mode": {
    "name": "ipython",
    "version": 3
   },
   "file_extension": ".py",
   "mimetype": "text/x-python",
   "name": "python",
   "nbconvert_exporter": "python",
   "pygments_lexer": "ipython3",
   "version": "3.6.5"
  }
 },
 "nbformat": 4,
 "nbformat_minor": 2
}
