{
 "cells": [
  {
   "cell_type": "markdown",
   "metadata": {},
   "source": [
    "## <center>Лабораторная работа 3</center>\n",
    "#### Вариант 22 Гончаров Г. И."
   ]
  },
  {
   "cell_type": "code",
   "execution_count": 1,
   "metadata": {
    "ExecuteTime": {
     "end_time": "2019-02-27T12:26:26.919180Z",
     "start_time": "2019-02-27T12:26:26.895646Z"
    }
   },
   "outputs": [
    {
     "data": {
      "text/plain": [
       "22"
      ]
     },
     "execution_count": 1,
     "metadata": {},
     "output_type": "execute_result"
    }
   ],
   "source": [
    "len('Гончаров Глеб Игоревич') % 3022"
   ]
  },
  {
   "cell_type": "code",
   "execution_count": 2,
   "metadata": {
    "ExecuteTime": {
     "end_time": "2019-02-27T12:26:27.039182Z",
     "start_time": "2019-02-27T12:26:26.923829Z"
    }
   },
   "outputs": [],
   "source": [
    "import numpy as np"
   ]
  },
  {
   "cell_type": "markdown",
   "metadata": {},
   "source": [
    "#### Задача 3.1. \n",
    "Дана система уравнений Ax=b порядка n=5. Исследовать зависимость погрешности решения x от погрешностей правой части системы b. $$a_{ij}=\\frac{150}{13c^3 +777c}, c=c_{ij}=2.2*i*j, b_{i}=22$$"
   ]
  },
  {
   "cell_type": "markdown",
   "metadata": {},
   "source": [
    "Построим и вывыведем нашу матрицу"
   ]
  },
  {
   "cell_type": "code",
   "execution_count": 3,
   "metadata": {
    "ExecuteTime": {
     "end_time": "2019-02-27T12:26:27.052859Z",
     "start_time": "2019-02-27T12:26:27.042150Z"
    }
   },
   "outputs": [
    {
     "name": "stdout",
     "output_type": "stream",
     "text": [
      "[[8.11765623e-02 3.31404412e-02 1.69192370e-02 9.55612683e-03\n",
      "  5.80270793e-03]\n",
      " [3.31404412e-02 9.55612683e-03 3.73543330e-03 1.77413409e-03\n",
      "  9.64518577e-04]\n",
      " [1.69192370e-02 3.73543330e-03 1.28981557e-03 5.77568461e-04\n",
      "  3.04369529e-04]\n",
      " [9.55612683e-03 1.77413409e-03 5.77568461e-04 2.52382871e-04\n",
      "  1.31396836e-04]\n",
      " [5.80270793e-03 9.64518577e-04 3.04369529e-04 1.31396836e-04\n",
      "  6.80083968e-05]]\n"
     ]
    }
   ],
   "source": [
    "n = 5\n",
    "B = np.array([22.0] * n)\n",
    "C, A = np.ones((n,n)), np.ones((n,n))\n",
    "for i in range(n):\n",
    "    for j in range(n):\n",
    "        C[i][j] = 2.2 * (i + 1) * (j + 1)\n",
    "        A[i][j] = 150 / (13 * C[i][j] ** 3 + 777 * C[i][j])\n",
    "print(A)"
   ]
  },
  {
   "cell_type": "markdown",
   "metadata": {},
   "source": [
    "Нашли решение с помощью встроенной функции numpy"
   ]
  },
  {
   "cell_type": "code",
   "execution_count": 4,
   "metadata": {
    "ExecuteTime": {
     "end_time": "2019-02-27T12:26:27.112470Z",
     "start_time": "2019-02-27T12:26:27.056835Z"
    }
   },
   "outputs": [
    {
     "name": "stdout",
     "output_type": "stream",
     "text": [
      "[ 6.12459681e+04 -2.97214518e+06  3.14972246e+07 -9.81621158e+07\n",
      "  8.59407521e+07]\n"
     ]
    }
   ],
   "source": [
    "x = np.linalg.solve(A,B)\n",
    "print(x)"
   ]
  },
  {
   "cell_type": "markdown",
   "metadata": {},
   "source": [
    "Найдем число обусловленности. Я не оч понимаю, по какой норме нашли, но нашли. вроде бы это котора про сингулярое число"
   ]
  },
  {
   "cell_type": "code",
   "execution_count": 5,
   "metadata": {
    "ExecuteTime": {
     "end_time": "2019-02-27T12:26:27.123655Z",
     "start_time": "2019-02-27T12:26:27.116439Z"
    }
   },
   "outputs": [
    {
     "name": "stdout",
     "output_type": "stream",
     "text": [
      "8422543.146725489\n"
     ]
    }
   ],
   "source": [
    "condA = np.linalg.cond(A,np.inf)\n",
    "print(condA)"
   ]
  },
  {
   "cell_type": "markdown",
   "metadata": {},
   "source": [
    "Видим, что задача плохо обусловлена, поэтому колебания ответов должны быть большими"
   ]
  },
  {
   "cell_type": "markdown",
   "metadata": {
    "ExecuteTime": {
     "end_time": "2019-02-23T12:12:10.566075Z",
     "start_time": "2019-02-23T12:12:10.559739Z"
    }
   },
   "source": [
    "Рассмотрим погрешности вектора В, которые равные 0.01% от максимального значения (0.022)"
   ]
  },
  {
   "cell_type": "code",
   "execution_count": 6,
   "metadata": {
    "ExecuteTime": {
     "end_time": "2019-02-27T12:26:27.140056Z",
     "start_time": "2019-02-27T12:26:27.127354Z"
    }
   },
   "outputs": [
    {
     "name": "stdout",
     "output_type": "stream",
     "text": [
      "[22.022 22.    22.    22.    22.   ]\n",
      "[22.    22.022 22.    22.    22.   ]\n",
      "[22.    22.    22.022 22.    22.   ]\n",
      "[22.    22.    22.    22.022 22.   ]\n",
      "[22.    22.    22.    22.    22.022]\n"
     ]
    }
   ],
   "source": [
    "#Рассмотрим погрешности вектора В, равныe 0.1% от значения В\n",
    "eps = 0.022\n",
    "x_eps = np.ones((5,5))\n",
    "for i in range(n):\n",
    "    B_eps = B.copy()\n",
    "    B_eps[i] += eps\n",
    "    print(B_eps)\n",
    "    x_eps[i] = np.linalg.solve(A,B_eps)"
   ]
  },
  {
   "cell_type": "markdown",
   "metadata": {
    "ExecuteTime": {
     "end_time": "2019-02-23T12:12:23.271671Z",
     "start_time": "2019-02-23T12:12:23.263860Z"
    }
   },
   "source": [
    "Тут я немного не понимаю, какую норму использовать."
   ]
  },
  {
   "cell_type": "code",
   "execution_count": 7,
   "metadata": {
    "ExecuteTime": {
     "end_time": "2019-02-27T12:26:27.153748Z",
     "start_time": "2019-02-27T12:26:27.142810Z"
    }
   },
   "outputs": [
    {
     "name": "stdout",
     "output_type": "stream",
     "text": [
      "[2.52595762e-06 1.59488934e-04 1.81391944e-03 5.80736334e-03\n",
      " 5.15040397e-03]\n",
      "Индекс максимального элемента:  4\n",
      "Значение максимального элемента:  0.005807363336827501\n"
     ]
    }
   ],
   "source": [
    "# idk what norm to choose. So standart np euclidian (i hope) norm is here.\n",
    "delta = np.array([0.0] * n)\n",
    "for i in range(n):\n",
    "    delta[i] = np.linalg.norm((x - x_eps)[i]) / np.linalg.norm(x)\n",
    "print(delta)\n",
    "print('Индекс максимального элемента: ', delta.argmax() + 1)\n",
    "print('Значение максимального элемента: ', delta.max())"
   ]
  },
  {
   "cell_type": "code",
   "execution_count": 8,
   "metadata": {
    "ExecuteTime": {
     "end_time": "2019-02-27T12:26:27.167205Z",
     "start_time": "2019-02-27T12:26:27.157598Z"
    }
   },
   "outputs": [
    {
     "name": "stdout",
     "output_type": "stream",
     "text": [
      "[2.45170178e-06 1.56474216e-04 1.79897039e-03 5.78184697e-03\n",
      " 5.13698486e-03]\n",
      "Индекс максимального элемента:  4\n",
      "Значение максимального элемента:  0.005781846965201137\n"
     ]
    }
   ],
   "source": [
    "#So norm is inf\n",
    "delta = np.array([0.0] * n)\n",
    "for i in range(n):\n",
    "    delta[i] = np.max(np.abs(x - x_eps)[i]) / np.max(np.abs(x))\n",
    "print(delta)\n",
    "print('Индекс максимального элемента: ', delta.argmax() + 1)\n",
    "print('Значение максимального элемента: ', delta.max())"
   ]
  },
  {
   "cell_type": "markdown",
   "metadata": {},
   "source": [
    "Получили, что четвертый елемент вектора В больше всего влияет на погрешность. "
   ]
  },
  {
   "cell_type": "code",
   "execution_count": 9,
   "metadata": {
    "ExecuteTime": {
     "end_time": "2019-02-27T12:26:27.181236Z",
     "start_time": "2019-02-27T12:26:27.173881Z"
    }
   },
   "outputs": [
    {
     "data": {
      "text/plain": [
       "8422.543146724902"
      ]
     },
     "execution_count": 9,
     "metadata": {},
     "output_type": "execute_result"
    }
   ],
   "source": [
    "condA * np.max(np.abs(B_eps - B)) / np.max(B)"
   ]
  },
  {
   "cell_type": "markdown",
   "metadata": {
    "ExecuteTime": {
     "end_time": "2019-02-23T10:20:41.933068Z",
     "start_time": "2019-02-23T10:20:41.929143Z"
    }
   },
   "source": [
    "Получилось, что фактическая погрешность намного меньше того, что получилось на практике. Это странно, но противоречия нет"
   ]
  },
  {
   "cell_type": "markdown",
   "metadata": {},
   "source": [
    "### Задание 2. \n",
    "<b>Задание 3.4</b>\n",
    "Решить систему из задания 1 LU-разложением. ПОРЯДОК РЕШЕНИЯ ЗАДАЧИ:\n",
    "1. Используя встроенную функцию lu(A) пакета MATHCAD (либо scipy.linalg.lu_factor), получить LU- разложение матрицы A.\n",
    "2. Преобразовать вектор b по формулам прямого хода метода Гаусса. С помощью обратной подстановки найти решение системы x.\n",
    "УКАЗАНИЕ. Функция lu(A) возвращает матрицу, в которой содержатся матрицы P, L и U такие, что PA=LU (P- матрица перестановок)."
   ]
  },
  {
   "cell_type": "code",
   "execution_count": 10,
   "metadata": {
    "ExecuteTime": {
     "end_time": "2019-02-27T12:26:27.222425Z",
     "start_time": "2019-02-27T12:26:27.186491Z"
    }
   },
   "outputs": [],
   "source": [
    "from scipy.linalg import lu_factor"
   ]
  },
  {
   "cell_type": "markdown",
   "metadata": {},
   "source": [
    "Проверим, как у нас раскладывает scipy "
   ]
  },
  {
   "cell_type": "code",
   "execution_count": 11,
   "metadata": {
    "ExecuteTime": {
     "end_time": "2019-02-27T12:26:27.236781Z",
     "start_time": "2019-02-27T12:26:27.225305Z"
    }
   },
   "outputs": [
    {
     "data": {
      "text/plain": [
       "True"
      ]
     },
     "execution_count": 11,
     "metadata": {},
     "output_type": "execute_result"
    }
   ],
   "source": [
    "lu, p = lu_factor(A)\n",
    "l, u = np.tril(lu, k=-1) + np.eye(n), np.triu(lu)\n",
    "ind=[0,1,2,4,3]\n",
    "np.allclose(A, (l @ u)[ind])"
   ]
  },
  {
   "cell_type": "markdown",
   "metadata": {},
   "source": [
    "Все окей, мы смогли нормально разобраться с библиотекой. \n",
    "Найдем Вектор Bnew - вектор Б, после преобразования матрицы А к верхнему треугольному виду. Ну, и да, лучше ис"
   ]
  },
  {
   "cell_type": "code",
   "execution_count": 12,
   "metadata": {
    "ExecuteTime": {
     "end_time": "2019-02-27T12:26:27.252008Z",
     "start_time": "2019-02-27T12:26:27.242139Z"
    }
   },
   "outputs": [
    {
     "data": {
      "text/plain": [
       "array([22.        , 13.01847027,  7.02258981, 10.68957699, -3.74946786])"
      ]
     },
     "execution_count": 12,
     "metadata": {},
     "output_type": "execute_result"
    }
   ],
   "source": [
    "#Solve(l,b) better than inv\n",
    "Bnew = np.linalg.inv(l) @ B[ind]\n",
    "Bnew"
   ]
  },
  {
   "cell_type": "code",
   "execution_count": 13,
   "metadata": {
    "ExecuteTime": {
     "end_time": "2019-02-27T12:26:27.260802Z",
     "start_time": "2019-02-27T12:26:27.255775Z"
    }
   },
   "outputs": [],
   "source": [
    "#Сделали Solv'ом и получили тот же ответ\n",
    "Bnew = np.linalg.solve(l,B)"
   ]
  },
  {
   "cell_type": "code",
   "execution_count": 14,
   "metadata": {
    "ExecuteTime": {
     "end_time": "2019-02-27T12:26:27.271748Z",
     "start_time": "2019-02-27T12:26:27.263402Z"
    }
   },
   "outputs": [
    {
     "data": {
      "text/plain": [
       "(5, 6)"
      ]
     },
     "execution_count": 14,
     "metadata": {},
     "output_type": "execute_result"
    }
   ],
   "source": [
    "unew = np.append(u,Bnew.reshape(5,1),axis=1)\n",
    "unew.shape"
   ]
  },
  {
   "cell_type": "markdown",
   "metadata": {
    "ExecuteTime": {
     "end_time": "2019-02-27T12:26:27.282098Z",
     "start_time": "2019-02-27T12:26:27.275651Z"
    }
   },
   "source": [
    "Верхняя треугольная матрица дополнена стоблцом со свободными членами. Дальше обратный ход метода Гаусса. "
   ]
  },
  {
   "cell_type": "code",
   "execution_count": 16,
   "metadata": {
    "ExecuteTime": {
     "end_time": "2019-02-27T12:26:38.960399Z",
     "start_time": "2019-02-27T12:26:38.955245Z"
    }
   },
   "outputs": [],
   "source": [
    "for i in range(n-1,-1,-1):\n",
    "    unew[i,n] /= unew[i,i]\n",
    "    unew[i,i] = 1\n",
    "    for j in range(0,i):\n",
    "        unew[j,n] -=  unew[j,i] * unew[i,n]\n",
    "        unew[j,i] = 0"
   ]
  },
  {
   "cell_type": "markdown",
   "metadata": {},
   "source": [
    "Проверим, близки ли векторы, которые у нас получились"
   ]
  },
  {
   "cell_type": "code",
   "execution_count": 17,
   "metadata": {
    "ExecuteTime": {
     "end_time": "2019-02-27T12:26:39.625164Z",
     "start_time": "2019-02-27T12:26:39.617753Z"
    }
   },
   "outputs": [
    {
     "data": {
      "text/plain": [
       "True"
      ]
     },
     "execution_count": 17,
     "metadata": {},
     "output_type": "execute_result"
    }
   ],
   "source": [
    "np.allclose(unew[:,5], x)"
   ]
  },
  {
   "cell_type": "markdown",
   "metadata": {},
   "source": [
    "Видим, что все окей, т.к. ответы совпали"
   ]
  },
  {
   "cell_type": "markdown",
   "metadata": {},
   "source": [
    "### Задание 3\n",
    "<b>Задание 3.7</b>\n",
    "Исследовать зависимость числа обусловленности матрицы A из задачи 3.1 от порядка n матрицы.\n",
    "ПОРЯДОК РЕШЕНИЯ ЗАДАЧИ:\n",
    "1. Cоставить программу, выполняющую LU- разложение матрицы произвольного порядка n (схема\n",
    "единственного деления).\n",
    "2. Используя составленную программу, для каждого n=1,2,3,..., k (k - максимально возможное\n",
    "значение, при котором удается решить задачу) найти обратную матрицу A−1 .\n",
    "3. Вычислить число обусловленности матрицы по формуле cond ( A) = A ⋅ A−1 для каждого\n",
    "значения n.\n",
    "4. Построить график зависимости cond(A) от n."
   ]
  },
  {
   "cell_type": "code",
   "execution_count": 18,
   "metadata": {
    "ExecuteTime": {
     "end_time": "2019-02-27T12:26:40.563569Z",
     "start_time": "2019-02-27T12:26:40.554761Z"
    }
   },
   "outputs": [],
   "source": [
    "#разложение lu\n",
    "def lu_factorizer(A):\n",
    "    shape = A.shape[0]\n",
    "    l, u = np.eye(shape).astype('float64'), A.copy().astype('float64')\n",
    "    pivot = np.zeros(shape)\n",
    "    for i in range(shape):\n",
    "        #найдем максимальный элемент по строке для и-го столбца\n",
    "        row, maxelem = i, np.abs(u[i,i])\n",
    "        for k in range(i+1,shape):\n",
    "            if (np.abs(u[k,i]) > maxelem):\n",
    "                maxelem = np.abs(u[k,i])\n",
    "                row = k\n",
    "        pivot[i] = row\n",
    "        #меняем местами строки\n",
    "        for k in range(i,shape):\n",
    "            temp = u[i,k]\n",
    "            u[i,k] = u[row,k]\n",
    "            u[row,k] = temp\n",
    "        #Ну, тут вот мы находим l, u методом Гаусса\n",
    "        for k in range(i+1,shape):\n",
    "            g = u[k,i] / u[i,i]\n",
    "            l[k,i] = g\n",
    "            for j in range(i, shape):\n",
    "                u[k,j] -= g * u[i,j]        \n",
    "    return l, u, pivot"
   ]
  },
  {
   "cell_type": "code",
   "execution_count": 19,
   "metadata": {
    "ExecuteTime": {
     "end_time": "2019-02-27T12:26:40.831417Z",
     "start_time": "2019-02-27T12:26:40.824374Z"
    }
   },
   "outputs": [],
   "source": [
    "#Функция для тестов\n",
    "def test(A):\n",
    "    eps = 1e-12\n",
    "    l, u, p = lu_factorizer(A)\n",
    "    np_lu, p = lu_factor(A)\n",
    "    lu = u + np.tril(l, k=-1)\n",
    "    #У здесь не учитываю перестановки строк, поэтому считаю норму по стоблцу\n",
    "    if np.abs(np.linalg.norm(l @ u,ord=np.inf) - np.linalg.norm(A, ord=np.inf)) < eps:\n",
    "        return True\n",
    "    else:\n",
    "        return False"
   ]
  },
  {
   "cell_type": "code",
   "execution_count": 25,
   "metadata": {
    "ExecuteTime": {
     "end_time": "2019-02-27T12:28:31.435181Z",
     "start_time": "2019-02-27T12:28:01.099392Z"
    }
   },
   "outputs": [],
   "source": [
    "#Cделаем тесты на наших матрицах\n",
    "n=np.arange(2,150)\n",
    "for m in n:\n",
    "    C, A = np.ones((m,m)).astype('float64'), np.ones((m,m)).astype('float64')\n",
    "    for i in range(m):\n",
    "        for j in range(m):\n",
    "            C[i][j] = 2.2 * (i + 1) * (j + 1)\n",
    "            A[i][j] = 150 / (13 * C[i][j] ** 3 + 777 * C[i][j])\n",
    "    if(not test(A)):\n",
    "        print('Test ', m,' failed')\n",
    "#Видим, что все ок"
   ]
  },
  {
   "cell_type": "markdown",
   "metadata": {},
   "source": [
    "Разложим нашу функцию по на l,u. Найдем обратную матрицу следующим способом\n",
    "$$A = LU$$\n",
    "$$E = LUA^{-1}$$\n",
    "Решим систему $$LY=E$$\n",
    "А потом систему $$UA^{-1}=Y$$\n",
    "Решение системы - наш ответ"
   ]
  },
  {
   "cell_type": "code",
   "execution_count": 21,
   "metadata": {
    "ExecuteTime": {
     "end_time": "2019-02-27T12:26:49.584187Z",
     "start_time": "2019-02-27T12:26:41.630590Z"
    }
   },
   "outputs": [],
   "source": [
    "cond_list=[]\n",
    "n=np.arange(2,100)\n",
    "for m in n:\n",
    "    C, A = np.ones((m,m)), np.ones((m,m))\n",
    "    for i in range(m):\n",
    "        for j in range(m):\n",
    "            C[i][j] = 2.2 * (i + 1) * (j + 1)\n",
    "            A[i][j] = 150 / (13 * C[i][j] ** 3 + 777 * C[i][j])\n",
    "    l, u, p = lu_factorizer(A)\n",
    "    Ainv = np.linalg.solve(u,np.linalg.solve(l, np.eye(l.shape[0])))\n",
    "    cond = np.linalg.norm(Ainv, np.inf) * np.linalg.norm(A, np.inf)\n",
    "    cond_list.append(cond)"
   ]
  },
  {
   "cell_type": "code",
   "execution_count": 23,
   "metadata": {
    "ExecuteTime": {
     "end_time": "2019-02-27T12:27:02.512141Z",
     "start_time": "2019-02-27T12:27:02.357847Z"
    }
   },
   "outputs": [
    {
     "data": {
      "image/png": "[encoded data removed]",
      "text/plain": [
       "<Figure size 432x288 with 1 Axes>"
      ]
     },
     "metadata": {},
     "output_type": "display_data"
    }
   ],
   "source": [
    "import matplotlib.pyplot as plt\n",
    "plt.plot(n,np.log(cond_list))\n",
    "plt.xlabel('N')\n",
    "plt.ylabel('log scale cond num');"
   ]
  },
  {
   "cell_type": "code",
   "execution_count": null,
   "metadata": {},
   "outputs": [],
   "source": []
  }
 ],
 "metadata": {
  "kernelspec": {
   "display_name": "Python 3",
   "language": "python",
   "name": "python3"
  },
  "language_info": {
   "codemirror_mode": {
    "name": "ipython",
    "version": 3
   },
   "file_extension": ".py",
   "mimetype": "text/x-python",
   "name": "python",
   "nbconvert_exporter": "python",
   "pygments_lexer": "ipython3",
   "version": "3.6.5"
  }
 },
 "nbformat": 4,
 "nbformat_minor": 2
}
