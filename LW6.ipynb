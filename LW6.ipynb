{
 "cells": [
  {
   "cell_type": "markdown",
   "metadata": {
    "ExecuteTime": {
     "start_time": "2019-05-08T07:09:53.210Z"
    }
   },
   "source": [
    "## <div align='center'>Лабораторная работа 5</div>\n",
    "\n"
   ]
  },
  {
   "cell_type": "markdown",
   "metadata": {},
   "source": [
    "### <div align='center'>Вариант 21</div> "
   ]
  },
  {
   "cell_type": "markdown",
   "metadata": {},
   "source": [
    "6.1.21, 6.4.7, 6.8.7, 6.6.21, 6.9.21"
   ]
  },
  {
   "cell_type": "markdown",
   "metadata": {},
   "source": [
    "Вычислить значение интеграла I = ∫ P (x)dx , где P (x) = ∑c x ,\n",
    "1\n",
    "с помощью квадратурных формул трапеций и Симпсона для элементарного\n",
    "отрезка интегрирования. Оценить величину погрешности. Применяя те же квадратурные формулы для составного отрезка интегрирования, вычислить интеграл I с точностью 0.0001. Предварительно оценить шаг интегрирования, при котором достигается заданная точность.\n",
    "ПОРЯДОК РЕШЕНИЯ ЗАДАЧИ:\n",
    "1. Вычислить значение интеграла I аналитически.\n",
    "2. Задать многочлен Pn ( x) . Вычислить значение интеграла I по формулам трапеций и Симпсона, считая отрезок [1,1.44] элементарным отрезком интегрирования.\n",
    "3. Найти абсолютные погрешности результатов.\n",
    "4. Используя выражение для остаточных членов интегрирования (см. ПРИЛОЖЕНИЕ 6.C), оценить шаги интегрирования, при которых величина погрешности каждой квадратурной формулы будет меньше 0.0001.\n",
    "5. Вычислить значения интеграла по составной квадратурной формуле с найденным шагом (см. ПРИЛОЖЕНИЕ 6.B).\n",
    "6. Найти абсолютные погрешности результатов."
   ]
  },
  {
   "cell_type": "code",
   "execution_count": 1,
   "metadata": {
    "ExecuteTime": {
     "end_time": "2019-05-27T15:38:41.742691Z",
     "start_time": "2019-05-27T15:38:41.732053Z"
    }
   },
   "outputs": [],
   "source": [
    "def p(x):\n",
    "    return 0.8 + 6.5 * x - 4.4 * x**2 + 6.1 * x**3 - 3.6 * x**4 + 2.4 * x**5"
   ]
  },
  {
   "cell_type": "markdown",
   "metadata": {},
   "source": [
    "$$ \\int _1^{1.44} (0.8 + 6.5 x - 4.4 x^2 + 6.1 x^3 - 3.6 x^4 + 2.4 x^5) dx = 5.38903 $$"
   ]
  },
  {
   "cell_type": "code",
   "execution_count": 2,
   "metadata": {
    "ExecuteTime": {
     "end_time": "2019-05-27T15:38:42.033373Z",
     "start_time": "2019-05-27T15:38:41.747308Z"
    }
   },
   "outputs": [],
   "source": [
    "import numpy as np\n",
    "def trapeze_elementary(func, a,b):\n",
    "    return (b - a ) / 2 * (func(a) + func(b))\n",
    "\n",
    "def simpsons_elementary (func, a,b):\n",
    "    return (b - a)/ 6 *(func(a) + func(b) + 4 * func((a + b) / 2))\n",
    "    "
   ]
  },
  {
   "cell_type": "code",
   "execution_count": 3,
   "metadata": {
    "ExecuteTime": {
     "end_time": "2019-05-27T15:38:42.062018Z",
     "start_time": "2019-05-27T15:38:42.042710Z"
    }
   },
   "outputs": [
    {
     "name": "stdout",
     "output_type": "stream",
     "text": [
      "Trapeze absolute err =  0.4258975267071987 Simpsons absolute err = 0.0015215151018654893\n"
     ]
    }
   ],
   "source": [
    "sq_tr, sq_smps = trapeze_elementary(p, 1,1.44), simpsons_elementary(p,1,1.44)\n",
    "sq_exact = 5.38903\n",
    "eps_tr, eps_smps = np.abs(sq_exact - sq_tr), np.abs(sq_exact - sq_smps)\n",
    "print('Trapeze absolute err = ', eps_tr,'Simpsons absolute err =',eps_smps)"
   ]
  },
  {
   "cell_type": "code",
   "execution_count": 4,
   "metadata": {
    "ExecuteTime": {
     "end_time": "2019-05-27T15:38:42.093956Z",
     "start_time": "2019-05-27T15:38:42.067050Z"
    }
   },
   "outputs": [],
   "source": [
    "def p2(x):\n",
    "    return -8.8  + 36.6 * x  - 43.2 * x**2 + 48 * x**4\n",
    "def p4(x):\n",
    "    return  -3.6 * np.math.factorial(4) + 2.4 * np.math.factorial(5) * x"
   ]
  },
  {
   "cell_type": "code",
   "execution_count": 5,
   "metadata": {
    "ExecuteTime": {
     "end_time": "2019-05-27T15:38:42.787506Z",
     "start_time": "2019-05-27T15:38:42.100328Z"
    }
   },
   "outputs": [],
   "source": [
    "x = np.linspace(1,1.44,100)\n",
    "import matplotlib.pyplot as plt\n",
    "plt.plot(x, p2(x));\n",
    "plt.plot(x, p4(x));\n",
    "#Многочлен монотононен на данном отрезе - максимум в 1.44"
   ]
  },
  {
   "cell_type": "code",
   "execution_count": 6,
   "metadata": {
    "ExecuteTime": {
     "end_time": "2019-05-27T15:38:42.799613Z",
     "start_time": "2019-05-27T15:38:42.789905Z"
    }
   },
   "outputs": [
    {
     "name": "stdout",
     "output_type": "stream",
     "text": [
      "Trapeze theoretical err =  1.140867140375893 Simpsons theoretical err = 0.0018800449535999995\n"
     ]
    }
   ],
   "source": [
    "t_eps_tr, t_eps_smps = p2(1.44) * .44**3 / 12, p4(1.44) * .44 **5 / 2880\n",
    "print('Trapeze theoretical err = ', t_eps_tr,'Simpsons theoretical err =',t_eps_smps)"
   ]
  },
  {
   "cell_type": "code",
   "execution_count": 7,
   "metadata": {
    "ExecuteTime": {
     "end_time": "2019-05-27T15:38:42.822770Z",
     "start_time": "2019-05-27T15:38:42.806891Z"
    }
   },
   "outputs": [
    {
     "name": "stdout",
     "output_type": "stream",
     "text": [
      "Trapeze step =  0.004119411154856359 Simpsons step = 0.21130541083481116\n"
     ]
    }
   ],
   "source": [
    "b, a = 1.44, 1\n",
    "eps = 1e-4\n",
    "h_tr, h_smps = np.sqrt(eps * 12 / p2(1.44) /(b - a)), (eps * 2880 / p4(1.44) /(b - a))**.25\n",
    "print('Trapeze step = ', h_tr,'Simpsons step =',h_smps)"
   ]
  },
  {
   "cell_type": "code",
   "execution_count": 8,
   "metadata": {
    "ExecuteTime": {
     "end_time": "2019-05-27T15:38:42.840229Z",
     "start_time": "2019-05-27T15:38:42.830091Z"
    }
   },
   "outputs": [],
   "source": [
    "def trapeze(func,a,b,h):\n",
    "    n = np.linspace(a,b,np.ceil((b-a)/h).astype('int64'))\n",
    "    s = 0\n",
    "    for num, i in enumerate(n[:-1]):\n",
    "        s += trapeze_elementary(func,n[num],n[num + 1])\n",
    "    return s\n",
    "\n",
    "def simpsons(func,a,b,h):\n",
    "    n = np.linspace(a,b,np.ceil((b-a)/h).astype('int64'))\n",
    "    s = 0\n",
    "    for num, i in enumerate(n[:-1]):\n",
    "        s += simpsons_elementary(func,n[num],n[num + 1])\n",
    "    return s"
   ]
  },
  {
   "cell_type": "code",
   "execution_count": 9,
   "metadata": {
    "ExecuteTime": {
     "end_time": "2019-05-27T15:38:42.873397Z",
     "start_time": "2019-05-27T15:38:42.853959Z"
    }
   },
   "outputs": [
    {
     "name": "stdout",
     "output_type": "stream",
     "text": [
      "Trapeze absolute err =  4.2730271269775244e-05 Simpsons absolute err = 9.911266986506462e-05\n"
     ]
    }
   ],
   "source": [
    "sq_tr, sq_smps = trapeze(p, a,b,h_tr), simpsons(p,a,b,h_smps)\n",
    "sq_exact = 5.38903\n",
    "eps_tr, eps_smps = np.abs(sq_exact - sq_tr), np.abs(sq_exact - sq_smps)\n",
    "print('Trapeze absolute err = ', eps_tr,'Simpsons absolute err =',eps_smps)"
   ]
  },
  {
   "cell_type": "markdown",
   "metadata": {},
   "source": [
    "Задача6.4.\n",
    "Построить график функции F(x)=∫f(x,t)dt, x1≤x≤x2. Для вычисления интеграла с точностью 10-8 использовать квадратурную формулу, указанную в индивидуальном варианте, и правило Рунге оценки погрешности.\n",
    "$$ f = sin(t^2 + xt), a=0,b=2, 0<x<2$$\n",
    "Квадратурная формула - трапеций"
   ]
  },
  {
   "cell_type": "code",
   "execution_count": 10,
   "metadata": {
    "ExecuteTime": {
     "end_time": "2019-05-27T15:38:42.887123Z",
     "start_time": "2019-05-27T15:38:42.877814Z"
    }
   },
   "outputs": [],
   "source": [
    "eps = 1e-8\n",
    "a,b = 0,2\n",
    "h_tr = np.sqrt(eps * 12 / 2 /(b - a))"
   ]
  },
  {
   "cell_type": "code",
   "execution_count": 11,
   "metadata": {
    "ExecuteTime": {
     "end_time": "2019-05-27T15:38:42.901793Z",
     "start_time": "2019-05-27T15:38:42.895409Z"
    }
   },
   "outputs": [],
   "source": [
    "def f(t,x):\n",
    "    return np.sin(t**2 + x * t)"
   ]
  },
  {
   "cell_type": "code",
   "execution_count": 12,
   "metadata": {
    "ExecuteTime": {
     "end_time": "2019-05-27T15:38:42.916832Z",
     "start_time": "2019-05-27T15:38:42.906310Z"
    }
   },
   "outputs": [],
   "source": [
    "def trapeze_elementary_2var(func, a,b,x):\n",
    "    return (b - a ) / 2 * (func(a,x) + func(b,x))\n",
    "def trapeze_2var_func(func,a,b,h,x):\n",
    "    n = np.linspace(a,b,np.ceil((b-a)/h).astype('int64'))\n",
    "    s = 0\n",
    "    for num, i in enumerate(n[:-1]):\n",
    "        s += trapeze_elementary_2var(func,n[num],n[num + 1],x)\n",
    "    return s"
   ]
  },
  {
   "cell_type": "code",
   "execution_count": 13,
   "metadata": {
    "ExecuteTime": {
     "end_time": "2019-05-27T15:38:43.326913Z",
     "start_time": "2019-05-27T15:38:42.923785Z"
    }
   },
   "outputs": [
    {
     "data": {
      "image/png": "[encoded data removed]",
      "text/plain": [
       "<Figure size 432x288 with 1 Axes>"
      ]
     },
     "metadata": {},
     "output_type": "display_data"
    }
   ],
   "source": [
    "x = np.linspace(a,b,100)\n",
    "y = trapeze_2var_func(f,a,b,h_tr,x)\n",
    "plt.plot(x,y);\n",
    "plt.title('F(x)');"
   ]
  },
  {
   "cell_type": "markdown",
   "metadata": {},
   "source": [
    "Задача 6.8. Используя указанную в индивидуальном варианте квадратурную \n",
    "формулу, вычислить двойной интеграл ∫∫ f (x, y)dxdy от функции двух\n",
    "переменных f(x,y) по прямоугольной области D={(x,y),x∈[0,2],y∈[0,2]} с точностью 0.001.\n",
    "$$ f = sin(y^2 + xy)$$\n",
    "Квадратура - трапеции"
   ]
  },
  {
   "cell_type": "code",
   "execution_count": 14,
   "metadata": {
    "ExecuteTime": {
     "end_time": "2019-05-27T15:38:43.345794Z",
     "start_time": "2019-05-27T15:38:43.331171Z"
    }
   },
   "outputs": [],
   "source": [
    "def trapeze_2var(func,a,b,h):\n",
    "    n = np.linspace(a,b,np.ceil((b-a)/h).astype('int64'))\n",
    "    v = trapeze_2var_func(func,a,b,h,n)\n",
    "    return h * ( (v[0] + v[-1]) / 2 + v[1:-1].sum())"
   ]
  },
  {
   "cell_type": "code",
   "execution_count": 15,
   "metadata": {
    "ExecuteTime": {
     "end_time": "2019-05-27T15:38:52.469759Z",
     "start_time": "2019-05-27T15:38:43.350616Z"
    }
   },
   "outputs": [
    {
     "name": "stdout",
     "output_type": "stream",
     "text": [
      "Double integral is  0.9077075601286632\n"
     ]
    }
   ],
   "source": [
    "sq = trapeze_2var(f,a,b,h_tr)\n",
    "print('Double integral is ', sq)"
   ]
  },
  {
   "cell_type": "markdown",
   "metadata": {},
   "source": [
    "Задача 6.6. Вычислить значение интеграла I из задачи 6.1, используя квадратурную формулу Гаусса с одним, двумя, тремя, четырьмя узлами (см. ПРИЛОЖЕНИЕ 6.C). Определить абсолютную погрешность результата. Построить гистограмму зависимости погрешности от числа узлов. Убедиться, что квадратурные формулы Гаусса с N+1 (N=0,1,2,3) узлом точны для многочленов 1, t,...,tm, где m=2N+1."
   ]
  },
  {
   "cell_type": "code",
   "execution_count": 16,
   "metadata": {
    "ExecuteTime": {
     "end_time": "2019-05-27T15:38:52.577869Z",
     "start_time": "2019-05-27T15:38:52.513610Z"
    }
   },
   "outputs": [],
   "source": [
    "def gauss(func, a,b, nodes = 1):\n",
    "    if nodes == 1:\n",
    "        t = [0]\n",
    "        A = [2]\n",
    "    elif nodes == 2:\n",
    "        t = [-0.577350269189626, 0.577350269189626]\n",
    "        A = [1,1]\n",
    "    elif nodes == 4:\n",
    "        t = [-0.861136311594052, -0.339981043584856,0.339981043584856, 0.861136311594052]\n",
    "        A = [0.347854845137454, 0.652145154862546, 0.652145154862546,0.347854845137454]\n",
    "    elif nodes == 3:\n",
    "        t = [-0.77459666929954,0.00000000000000, 0.77459666929954]\n",
    "        A = [0.55555555555556, 0.88888888888888, 0.55555555555556]\n",
    "    else:\n",
    "        return None\n",
    "    s = 0\n",
    "    for i in range(len(t)):\n",
    "        s += A[i] * func((b + a) / 2 + (b - a) / 2 * t[i])\n",
    "    s *= (b-a) / 2\n",
    "    return s"
   ]
  },
  {
   "cell_type": "code",
   "execution_count": 17,
   "metadata": {
    "ExecuteTime": {
     "end_time": "2019-05-27T15:38:52.616773Z",
     "start_time": "2019-05-27T15:38:52.588584Z"
    }
   },
   "outputs": [
    {
     "data": {
      "text/plain": [
       "5.389034285841065"
      ]
     },
     "execution_count": 17,
     "metadata": {},
     "output_type": "execute_result"
    }
   ],
   "source": [
    "def line(x0):\n",
    "    return x0\n",
    "\n",
    "def poisson(x):\n",
    "    return np.exp(-x**2)\n",
    "\n",
    "gauss(p,1,1.44,4)"
   ]
  },
  {
   "cell_type": "code",
   "execution_count": 18,
   "metadata": {
    "ExecuteTime": {
     "end_time": "2019-05-27T15:38:53.256703Z",
     "start_time": "2019-05-27T15:38:52.634137Z"
    }
   },
   "outputs": [
    {
     "name": "stdout",
     "output_type": "stream",
     "text": [
      "5.1783635092992\n",
      "5.388022799667198\n",
      "5.389034285872989\n",
      "5.389034285841065\n"
     ]
    },
    {
     "data": {
      "text/plain": [
       "<matplotlib.collections.PathCollection at 0x113dcfa58>"
      ]
     },
     "execution_count": 18,
     "metadata": {},
     "output_type": "execute_result"
    },
    {
     "data": {
      "image/png": "[encoded data removed]",
      "text/plain": [
       "<Figure size 432x288 with 1 Axes>"
      ]
     },
     "metadata": {},
     "output_type": "display_data"
    }
   ],
   "source": [
    "err_gauss = []\n",
    "sq_exact = 5.389034285841067\n",
    "for i in range(1,5):\n",
    "    sq_gauss = gauss(p,1,1.44,i)\n",
    "    print(sq_gauss)\n",
    "    err_gauss.append(np.abs(sq_gauss - sq_exact))\n",
    "plt.scatter(range(1,5),err_gauss)"
   ]
  },
  {
   "cell_type": "markdown",
   "metadata": {},
   "source": [
    "Задача 6.9. Для интегрального уравнения\n",
    "b y(x)−λ∫k(x,t)y(t)dt= f(x)\n",
    "a\n",
    "составить таблицу значений решения с тремя верными значащими цифрами с постоянным шагом h=(b−a)/10, используя указанную в индивидуальном варианте квадратурную формулу. Построить график решения.\n",
    "$$ y(x) - 0.25 \\int _0 ^1 \\frac{y(t)}{5x + t + 2}dt = e^{-x}$$\n",
    "$$ [a,b] =[0,1]$$\n",
    "Квадратуры Симпсона"
   ]
  },
  {
   "cell_type": "code",
   "execution_count": 19,
   "metadata": {
    "ExecuteTime": {
     "end_time": "2019-05-27T15:38:53.290846Z",
     "start_time": "2019-05-27T15:38:53.274747Z"
    }
   },
   "outputs": [],
   "source": [
    "def ker(x,t):\n",
    "    return -0.25 / (5 * x + 2 + t)\n",
    "h = 0.1\n",
    "a = 0\n",
    "b = 1"
   ]
  },
  {
   "cell_type": "code",
   "execution_count": 20,
   "metadata": {
    "ExecuteTime": {
     "end_time": "2019-05-27T15:38:53.486706Z",
     "start_time": "2019-05-27T15:38:53.306287Z"
    }
   },
   "outputs": [],
   "source": [
    "#Составим матрицу соответсущую системе\n",
    "t = np.linspace(a, b, 21)\n",
    "n = 21\n",
    "A = np.eye(n)\n",
    "\n",
    "for i in range(n):\n",
    "    for k in range(n):\n",
    "        if k == 0 or k == n-1:\n",
    "            A[i][k] = h / 6 * ker(t[i],t[k])\n",
    "        elif k % 2 == 1:\n",
    "            A[i][k] = h / 6 * 4 * ker(t[i],t[k])\n",
    "        else:\n",
    "            A[i][k] = h / 6 * 2 * ker(t[i],t[k])\n",
    "f = np.exp(-t)\n",
    "A += np.eye(n)\n",
    "y = np.linalg.solve(A,f)"
   ]
  },
  {
   "cell_type": "code",
   "execution_count": 25,
   "metadata": {
    "ExecuteTime": {
     "end_time": "2019-05-27T15:40:03.333648Z",
     "start_time": "2019-05-27T15:40:03.086862Z"
    }
   },
   "outputs": [
    {
     "data": {
      "image/png": "[encoded data removed]",
      "text/plain": [
       "<Figure size 432x288 with 1 Axes>"
      ]
     },
     "metadata": {},
     "output_type": "display_data"
    }
   ],
   "source": [
    "plt.plot(t,y);"
   ]
  },
  {
   "cell_type": "code",
   "execution_count": null,
   "metadata": {},
   "outputs": [],
   "source": []
  }
 ],
 "metadata": {
  "kernelspec": {
   "display_name": "Python 3",
   "language": "python",
   "name": "python3"
  },
  "language_info": {
   "codemirror_mode": {
    "name": "ipython",
    "version": 3
   },
   "file_extension": ".py",
   "mimetype": "text/x-python",
   "name": "python",
   "nbconvert_exporter": "python",
   "pygments_lexer": "ipython3",
   "version": "3.6.5"
  }
 },
 "nbformat": 4,
 "nbformat_minor": 2
}
