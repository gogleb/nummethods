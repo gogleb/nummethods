{
 "cells": [
  {
   "cell_type": "code",
   "execution_count": 1,
   "metadata": {
    "ExecuteTime": {
     "end_time": "2019-03-18T07:16:16.314937Z",
     "start_time": "2019-03-18T07:16:16.187197Z"
    }
   },
   "outputs": [],
   "source": [
    "import numpy as np"
   ]
  },
  {
   "cell_type": "markdown",
   "metadata": {},
   "source": [
    "# <center>Лабораторная работа #4\n",
    "## <center>Вариант 22\n",
    "### <center> Гончаров Г.И."
   ]
  },
  {
   "cell_type": "markdown",
   "metadata": {},
   "source": [
    "### Задача 4.1\n",
    "Дана система уравнений Ax=b. Найти решение системы с помощью метода Гаусса. Выполнить 10 итераций по методу Зейделя. Принимая решение, полученное с помощью метода Гаусса за точное, найти величину абсолютной погрешности итерационного решения."
   ]
  },
  {
   "cell_type": "code",
   "execution_count": 154,
   "metadata": {
    "ExecuteTime": {
     "end_time": "2019-03-18T09:14:00.776295Z",
     "start_time": "2019-03-18T09:14:00.768081Z"
    }
   },
   "outputs": [
    {
     "data": {
      "text/plain": [
       "(matrix([[ 4.95,  1.12,  2.9 ,  0.66],\n",
       "         [ 8.91, 19.9 , -4.  ,  6.93],\n",
       "         [-2.97,  2.2 , -5.8 ,  0.  ],\n",
       "         [ 5.94,  1.3 , 10.5 , 17.82]]),\n",
       " array([-31.024, -37.81 ,  28.58 ,   9.32 ]))"
      ]
     },
     "execution_count": 154,
     "metadata": {},
     "output_type": "execute_result"
    }
   ],
   "source": [
    "#Задание матрицы А и вектора свободных членов В\n",
    "A = np.matrix([[4.95, 1.12, 2.9, 0.66], [8.91, 19.9, -4, 6.93], [-2.97, 2.2, -5.8, 0], [5.94, 1.3, 10.5, 17.82]])\n",
    "b = np.array([-31.024, -37.81, 28.58, 9.32])\n",
    "A,b"
   ]
  },
  {
   "cell_type": "code",
   "execution_count": 155,
   "metadata": {
    "ExecuteTime": {
     "end_time": "2019-03-18T09:14:01.714724Z",
     "start_time": "2019-03-18T09:14:01.710091Z"
    }
   },
   "outputs": [],
   "source": [
    "from math import sqrt\n",
    "import numpy as np"
   ]
  },
  {
   "cell_type": "code",
   "execution_count": 156,
   "metadata": {
    "ExecuteTime": {
     "end_time": "2019-03-18T09:14:02.443891Z",
     "start_time": "2019-03-18T09:14:02.435196Z"
    }
   },
   "outputs": [],
   "source": [
    "def seidel (A, B, x0, eps=1e-7, iterations=300):\n",
    "    '''Solves system of linear eq with seidel method'''\n",
    "    n = B.shape[0]\n",
    "    x = np.zeros(shape=n)\n",
    "    x_prev = x0.copy()\n",
    "    for i in range(iterations):\n",
    "        for ind in range(n):\n",
    "            sum1 = np.sum(A[ind,j] * x[j] for j in range(ind))\n",
    "            sum2 = np.sum(A[ind,j] * x_prev[j] for j in range(ind + 1, n))\n",
    "            x[ind] = (B[ind] - sum1 - sum2 ) / A[ind,ind]\n",
    "        if np.linalg.norm(x - x_prev) < eps:\n",
    "            return (x, i + 1)\n",
    "        x_prev = x.copy()\n",
    "    return (x, iterations)"
   ]
  },
  {
   "cell_type": "markdown",
   "metadata": {},
   "source": [
    "Возьмем два начальных вектора (11,0,100,0) и (0,0,0,0) и помотрим, какая будет погрешность при 10 итерациях"
   ]
  },
  {
   "cell_type": "code",
   "execution_count": 116,
   "metadata": {
    "ExecuteTime": {
     "end_time": "2019-03-18T08:52:24.223978Z",
     "start_time": "2019-03-18T08:52:24.219521Z"
    }
   },
   "outputs": [],
   "source": [
    "x_np = np.linalg.solve(A,b)"
   ]
  },
  {
   "cell_type": "code",
   "execution_count": 157,
   "metadata": {
    "ExecuteTime": {
     "end_time": "2019-03-18T09:14:09.859205Z",
     "start_time": "2019-03-18T09:14:09.851982Z"
    }
   },
   "outputs": [
    {
     "name": "stdout",
     "output_type": "stream",
     "text": [
      "Абсолютная погрешность при начальном векторе (0,0,0,0) =  0.05413793551877255\n"
     ]
    }
   ],
   "source": [
    "x0 = np.array([0,0,0,0])\n",
    "x, it = seidel(A,b,x0,iterations=10)\n",
    "a_err = np.linalg.norm(x - x_np,ord=np.inf)\n",
    "print('Абсолютная погрешность при начальном векторе (0,0,0,0) = ', a_err)"
   ]
  },
  {
   "cell_type": "code",
   "execution_count": 158,
   "metadata": {
    "ExecuteTime": {
     "end_time": "2019-03-18T09:14:13.778161Z",
     "start_time": "2019-03-18T09:14:13.771428Z"
    }
   },
   "outputs": [
    {
     "name": "stdout",
     "output_type": "stream",
     "text": [
      "Абсолютная погрешность при начальном векторе (11,0,100,0) =  1.0912668254115339\n"
     ]
    }
   ],
   "source": [
    "x0 = np.array([11,0,100,0])\n",
    "x, it = seidel(A,b,x0,iterations=10)\n",
    "a_err = np.linalg.norm(x - x_np,ord=np.inf)\n",
    "print('Абсолютная погрешность при начальном векторе (11,0,100,0) = ', a_err)"
   ]
  },
  {
   "cell_type": "markdown",
   "metadata": {},
   "source": [
    "### Задача 4.2\n",
    "Для системы уравнений Ax=b из задачи 4.1 найти решение по методу Зейделя с точностью ε= 10−6 , взяв любое начальное приближение. Предусмотреть подсчет количества итераций, потребовавшихся для достижения точности ε."
   ]
  },
  {
   "cell_type": "code",
   "execution_count": 159,
   "metadata": {
    "ExecuteTime": {
     "end_time": "2019-03-18T09:14:18.120093Z",
     "start_time": "2019-03-18T09:14:18.107936Z"
    }
   },
   "outputs": [
    {
     "name": "stdout",
     "output_type": "stream",
     "text": [
      "Количество итераций:  41\n",
      "Абсолютная погрешность при начальном векторе (11,0,100,0) =  1.082533312768419e-06\n"
     ]
    }
   ],
   "source": [
    "x0 = np.array([11,0,100,0])\n",
    "x, it = seidel(A,b,x0,eps=1e-6)\n",
    "print(\"Количество итераций: \", it)\n",
    "a_err = np.linalg.norm(x - x_np,ord=np.inf)\n",
    "print('Абсолютная погрешность при начальном векторе (11,0,100,0) = ', a_err)"
   ]
  },
  {
   "cell_type": "markdown",
   "metadata": {},
   "source": [
    "## Задача 4.3\n",
    "Для системы уравнений Ax=b из задачи 4.1 выполнить 10 итераций по методу простой итерации. Оценить абсолютную погрешность полученного решения теоретически. Найти реальную величину абсолютной погрешности."
   ]
  },
  {
   "cell_type": "markdown",
   "metadata": {
    "ExecuteTime": {
     "end_time": "2019-03-18T08:48:30.485047Z",
     "start_time": "2019-03-18T08:48:30.478750Z"
    }
   },
   "source": [
    "<b>Как я понял, метод простой итерации - это метод Якоби. Поэтому решим систему методом Якоби. "
   ]
  },
  {
   "cell_type": "code",
   "execution_count": 161,
   "metadata": {
    "ExecuteTime": {
     "end_time": "2019-03-18T09:14:29.621714Z",
     "start_time": "2019-03-18T09:14:29.614670Z"
    }
   },
   "outputs": [],
   "source": [
    "def simple_iterations(A,B, x0, eps=1e-7, iterations=300):\n",
    "    n = B.shape[0]\n",
    "    x = np.zeros(shape=n)\n",
    "    x_prev = x0.copy()\n",
    "    for i in range(iterations):\n",
    "        for ind in range(n):\n",
    "            sum1 = np.sum(A[ind,j] * x_prev[j] for j in range(ind))\n",
    "            sum2 = np.sum(A[ind,j] * x_prev[j] for j in range(ind + 1, n))\n",
    "            x[ind] = (B[ind] - sum1 - sum2) / A[ind,ind]\n",
    "        if np.linalg.norm(x - x_prev) < eps:\n",
    "            return (x, i + 1)\n",
    "        x_prev = x.copy()\n",
    "    return (x, iterations)"
   ]
  },
  {
   "cell_type": "code",
   "execution_count": 166,
   "metadata": {
    "ExecuteTime": {
     "end_time": "2019-03-18T09:15:30.257764Z",
     "start_time": "2019-03-18T09:15:30.249822Z"
    }
   },
   "outputs": [
    {
     "name": "stdout",
     "output_type": "stream",
     "text": [
      "Количество итераций:  10\n",
      "Абсолютная погрешность при начальном векторе (0,0,0,0) =  0.08817524248236497\n"
     ]
    }
   ],
   "source": [
    "x0 = np.array([0,0,0,0])\n",
    "x, it = simple_iterations(A,b,x0,iterations=10)\n",
    "print(\"Количество итераций: \", it)\n",
    "a_err = np.linalg.norm(x - x_np, ord=np.inf)\n",
    "print('Абсолютная погрешность при начальном векторе (0,0,0,0) = ', a_err)"
   ]
  },
  {
   "cell_type": "markdown",
   "metadata": {},
   "source": [
    "Найдем теоретическую оценку погрешности"
   ]
  },
  {
   "cell_type": "code",
   "execution_count": 167,
   "metadata": {
    "ExecuteTime": {
     "end_time": "2019-03-18T09:15:37.999124Z",
     "start_time": "2019-03-18T09:15:37.990604Z"
    }
   },
   "outputs": [
    {
     "name": "stdout",
     "output_type": "stream",
     "text": [
      "Теоретическая погрешность:  4.096632454493892\n"
     ]
    }
   ],
   "source": [
    "B = A.copy()\n",
    "for i in range(B.shape[0]):\n",
    "    for k in range(B.shape[1]):\n",
    "        if i == k:\n",
    "            B[i,k] = 0\n",
    "        else:\n",
    "            B[i,k] = - A[i,k] / A[i,i]\n",
    "B_n = np.linalg.norm(B, ord=np.inf)\n",
    "print ('Теоретическая погрешность: ', np.linalg.norm(x0 - x_np, ord=np.inf) * B_n ** it)"
   ]
  },
  {
   "cell_type": "markdown",
   "metadata": {},
   "source": [
    "Видим, что абсолютная погрешность получилась значительно меньше теоретической"
   ]
  },
  {
   "cell_type": "markdown",
   "metadata": {},
   "source": [
    "## Задача 4.8.6* \n",
    "Дана система уравнений Ax=b, где A – симметричная положительно определенная матрица размерности n х n. Найти решение системы с помощью явного и неявного нестационарных методов с\n",
    "чебышевским набором параметров с точностью ε=10−6 . Сравнить скорость сходимости методов."
   ]
  },
  {
   "cell_type": "code",
   "execution_count": null,
   "metadata": {},
   "outputs": [],
   "source": [
    "def cheb(A,B, eps=1e-6, iterations=100):\n",
    "    '''Явный метод'''\n",
    "    eig = np.linalg.eigvals(A)\n",
    "    max_eig = np.max(eig)\n",
    "    min_eig = np.min(eig)\n",
    "    x = np.zeros(B.shape[0])\n",
    "    x = x.reshape(-1,1)\n",
    "    b = B.copy().reshape(-1,1)\n",
    "    x_prev = x.copy()\n",
    "    for i in range(iterations):\n",
    "        gamma = 2 / (max_eig + min_eig) / (1 + (1 - min_eig / max_eig) \\\n",
    "        /(1 + min_eig / max_eig) * np.cos(np.pi * (2 * i - 1)/(2 * iterations)))\n",
    "        x = gamma * (b - np.dot(A,x_prev)) + x_prev\n",
    "        if np.linalg.norm(x - x_prev) < eps:\n",
    "            return (x,i)\n",
    "        x_prev = x.copy()\n",
    "    return (x,iterations)\n",
    "\n",
    "def cheb1(A,A1,B, eps=1e-6, iterations=100):\n",
    "    '''Неявный метод. А1 - вспомогательная матрица'''\n",
    "    A1_inv = np.linalg.inv(A1)\n",
    "    eig = np.linalg.eigvals(np.dot(A1_inv, A))\n",
    "    max_eig = np.max(eig)\n",
    "    min_eig = np.min(eig)\n",
    "    x = np.zeros(B.shape[0])\n",
    "    x = x.reshape(-1,1)\n",
    "    b = B.copy().reshape(-1,1)\n",
    "    x_prev = x.copy()\n",
    "    for i in range(iterations):\n",
    "        gamma = 2 / (max_eig + min_eig) / (1 + (1 - min_eig / max_eig) \\\n",
    "        /(1 + min_eig / max_eig) * np.cos(np.pi * (2 * i - 1)/(2 * iterations)))\n",
    "        x = gamma * np.dot(A1_inv,(b - np.dot(A,x_prev))) + x_prev\n",
    "        if np.linalg.norm(x - x_prev) < eps:\n",
    "            return (x,i)\n",
    "        x_prev = x.copy()\n",
    "    return (x,iterations)"
   ]
  },
  {
   "cell_type": "code",
   "execution_count": 300,
   "metadata": {
    "ExecuteTime": {
     "end_time": "2019-03-18T12:29:16.553901Z",
     "start_time": "2019-03-18T12:29:16.546774Z"
    }
   },
   "outputs": [],
   "source": [
    "n = 25\n",
    "M = np.eye(25)\n",
    "q = 1.05 + 2 * 0.01\n",
    "t = 2 + n\n",
    "tau = np.sum ( q ** (2 * i) for i in range(1,26))\n",
    "f = np.zeros(n)\n",
    "for i in range(n):\n",
    "    for j in range(n):\n",
    "        if i == j:\n",
    "            M[i,j] = 2 * q ** i * t ** 2\n",
    "        else: \n",
    "            M[i,j] = 2 * tau + (q ** i + q ** j) * t\n",
    "    f[i] = tau + 3 * q ** i"
   ]
  },
  {
   "cell_type": "code",
   "execution_count": 301,
   "metadata": {
    "ExecuteTime": {
     "end_time": "2019-03-18T12:29:20.872721Z",
     "start_time": "2019-03-18T12:29:20.862619Z"
    }
   },
   "outputs": [
    {
     "name": "stdout",
     "output_type": "stream",
     "text": [
      "[0.04049766 0.03626625 0.03253423 0.02922528 0.02627771 0.0236411\n",
      " 0.02127386 0.01914136 0.01721454 0.01546882 0.01388329 0.01244002\n",
      " 0.01112358 0.00992058 0.00881939 0.00780983 0.00688295 0.00603087\n",
      " 0.00524662 0.00452399 0.00385746 0.00324211 0.00267351 0.00214769\n",
      " 0.00166106]\n"
     ]
    }
   ],
   "source": [
    "y_np = np.linalg.solve(M,f)\n",
    "print(\"Ответ с помощью встроенных функций\", y_np)"
   ]
  },
  {
   "cell_type": "code",
   "execution_count": 302,
   "metadata": {
    "ExecuteTime": {
     "end_time": "2019-03-18T12:29:26.480638Z",
     "start_time": "2019-03-18T12:29:26.471772Z"
    }
   },
   "outputs": [],
   "source": [
    "x_ch, it = cheb(M,f)"
   ]
  },
  {
   "cell_type": "code",
   "execution_count": 305,
   "metadata": {
    "ExecuteTime": {
     "end_time": "2019-03-18T12:31:40.608591Z",
     "start_time": "2019-03-18T12:31:40.602615Z"
    }
   },
   "outputs": [
    {
     "name": "stdout",
     "output_type": "stream",
     "text": [
      "Количество итераций:  78\n"
     ]
    }
   ],
   "source": [
    "print('Решение явного метода: ', x_ch)\n",
    "print('Количество итераций: ', it)"
   ]
  },
  {
   "cell_type": "code",
   "execution_count": 347,
   "metadata": {
    "ExecuteTime": {
     "end_time": "2019-03-18T12:52:04.538035Z",
     "start_time": "2019-03-18T12:52:04.530146Z"
    }
   },
   "outputs": [
    {
     "data": {
      "text/plain": [
       "8052.499894184206"
      ]
     },
     "execution_count": 347,
     "metadata": {},
     "output_type": "execute_result"
    }
   ],
   "source": [
    "#Cделали матрицу М1 и нашли корни уравнения\n",
    "M1 = M - np.tril(M,-2) - np.triu(M,2)\n",
    "x_ch1, it = cheb1(M,M1,f)"
   ]
  },
  {
   "cell_type": "code",
   "execution_count": 354,
   "metadata": {
    "ExecuteTime": {
     "end_time": "2019-03-18T12:52:56.374936Z",
     "start_time": "2019-03-18T12:52:56.369970Z"
    }
   },
   "outputs": [
    {
     "name": "stdout",
     "output_type": "stream",
     "text": [
      "Количество итераций:  53\n"
     ]
    }
   ],
   "source": [
    "print('Решение неявного метода: ', x_ch1)\n",
    "print('Количество итераций: ', it)"
   ]
  },
  {
   "cell_type": "markdown",
   "metadata": {},
   "source": [
    "Применение неявного метода позволило сократить количестов итераций"
   ]
  }
 ],
 "metadata": {
  "kernelspec": {
   "display_name": "Python 3",
   "language": "python",
   "name": "python3"
  },
  "language_info": {
   "codemirror_mode": {
    "name": "ipython",
    "version": 3
   },
   "file_extension": ".py",
   "mimetype": "text/x-python",
   "name": "python",
   "nbconvert_exporter": "python",
   "pygments_lexer": "ipython3",
   "version": "3.6.5"
  }
 },
 "nbformat": 4,
 "nbformat_minor": 2
}
