{
 "cells": [
  {
   "cell_type": "code",
   "execution_count": 1,
   "metadata": {
    "ExecuteTime": {
     "end_time": "2019-05-30T11:49:02.039429Z",
     "start_time": "2019-05-30T11:48:56.183822Z"
    }
   },
   "outputs": [],
   "source": [
    "import pandas as pd\n",
    "import geocoder\n",
    "import numpy as np\n",
    "from sklearn.metrics import r2_score\n",
    "from scipy.stats import normaltest\n",
    "import matplotlib.pyplot as plt \n",
    "import statsmodels.api as sm\n",
    "from nltk.corpus import stopwords\n",
    "from sklearn.feature_extraction.text import CountVectorizer\n",
    "from sklearn.preprocessing import StandardScaler\n",
    "from sklearn.model_selection import train_test_split\n",
    "from statsmodels.stats.diagnostic import het_white,het_breuschpagan"
   ]
  },
  {
   "cell_type": "markdown",
   "metadata": {},
   "source": [
    "#  ТЕКСТОВЫЙ АНАЛИЗ НА РЫНКЕ НЕДВИЖИМОСТИ\n",
    "## Проектная работа по предмету количественные методы в экономике \n",
    "### Выполнили: Гончаров Глеб, Егоров Владимир\n",
    "### Основано на \"TEXTUAL ANALYSIS IN REAL ESTATE\"\n",
    "by ADAM NOWAK AND PATRICK SMITH"
   ]
  },
  {
   "cell_type": "markdown",
   "metadata": {},
   "source": [
    "### Работе рассматриваются три модели\n",
    "<center>1. Базовая</center>\n",
    "$$ p_it=(z_it,a_1 )+(v_i,a_2 )+ε_i$$\n",
    "<center>2. Модель с униграммами</center>\n",
    "$$ p_it=(z_it,a_1 )+(v_i,a_2 )+ε_i$$\n",
    "<center>3. Модель с биграммами</center>\n",
    "$$ p_it=(z_it,a_1 )+(w_i,a_2 )+ε_i$$"
   ]
  },
  {
   "cell_type": "code",
   "execution_count": 2,
   "metadata": {
    "ExecuteTime": {
     "end_time": "2019-05-30T11:49:02.057563Z",
     "start_time": "2019-05-30T11:49:02.043181Z"
    }
   },
   "outputs": [],
   "source": [
    "def adj_r2_score(y_true, y_pred, n):\n",
    "    return 1 - (1 - r2_score(y_true, y_pred)) * (y_true.shape[0] - 1 )/ ( y_true.shape[0] - n - 1)\n",
    "def return_words(vectorizer, regresor, n):\n",
    "    params = np.array(regresor.params[3:])\n",
    "    good_ind = params.argsort()[-n:]\n",
    "    bad_ind = params.argsort()[:n]\n",
    "    good, bad = [],[]\n",
    "    \n",
    "    for i in good_ind:\n",
    "        for key, value in vectorizer.vocabulary_.items():\n",
    "            if value == i:\n",
    "                good.append(key)\n",
    "    for i in bad_ind:\n",
    "        for key, value in vectorizer.vocabulary_.items():\n",
    "            if value == i:\n",
    "                bad.append(key)\n",
    "    return good, bad"
   ]
  },
  {
   "cell_type": "markdown",
   "metadata": {},
   "source": [
    "# I. Обработка первончальных данных, описательная статистика"
   ]
  },
  {
   "cell_type": "markdown",
   "metadata": {},
   "source": [
    "### Вид первончальных данных"
   ]
  },
  {
   "cell_type": "code",
   "execution_count": 3,
   "metadata": {
    "ExecuteTime": {
     "end_time": "2019-05-30T11:49:02.137648Z",
     "start_time": "2019-05-30T11:49:02.062487Z"
    }
   },
   "outputs": [
    {
     "data": {
      "text/html": [
       "<div>\n",
       "<style scoped>\n",
       "    .dataframe tbody tr th:only-of-type {\n",
       "        vertical-align: middle;\n",
       "    }\n",
       "\n",
       "    .dataframe tbody tr th {\n",
       "        vertical-align: top;\n",
       "    }\n",
       "\n",
       "    .dataframe thead th {\n",
       "        text-align: right;\n",
       "    }\n",
       "</style>\n",
       "<table border=\"1\" class=\"dataframe\">\n",
       "  <thead>\n",
       "    <tr style=\"text-align: right;\">\n",
       "      <th></th>\n",
       "      <th>advAddress</th>\n",
       "      <th>metro</th>\n",
       "      <th>price</th>\n",
       "      <th>advName</th>\n",
       "      <th>description</th>\n",
       "    </tr>\n",
       "  </thead>\n",
       "  <tbody>\n",
       "    <tr>\n",
       "      <th>0</th>\n",
       "      <td>Московская область, Одинцово, мкр. 4, ул. Ново...</td>\n",
       "      <td>-</td>\n",
       "      <td>6 950 000</td>\n",
       "      <td>4-комн. квартира, 65 м²</td>\n",
       "      <td>Продается 4-х комнатная квартира! г. Одинцово,...</td>\n",
       "    </tr>\n",
       "    <tr>\n",
       "      <th>1</th>\n",
       "      <td>Московская область, Одинцово, ул. Сколковская, 3А</td>\n",
       "      <td>-</td>\n",
       "      <td>4 485 000</td>\n",
       "      <td>1-комн. квартира, 38 м²</td>\n",
       "      <td>Сколковский.ПЕРЕУСТУПКА от Собственника!!!  Де...</td>\n",
       "    </tr>\n",
       "    <tr>\n",
       "      <th>2</th>\n",
       "      <td>Московская область, Одинцово, ул. Гвардейская, 9</td>\n",
       "      <td>Молодежная, Крылатское, Кунцевская</td>\n",
       "      <td>5 450 000</td>\n",
       "      <td>1-комн. квартира, 39 м²</td>\n",
       "      <td>Проедается новая квартира с качественной дизай...</td>\n",
       "    </tr>\n",
       "    <tr>\n",
       "      <th>3</th>\n",
       "      <td>Московская область, Одинцово, Северная ул., 5к3</td>\n",
       "      <td>Славянский бульвар, Кунцевская, Молодежная</td>\n",
       "      <td>5 700 000</td>\n",
       "      <td>1-комн. квартира, 32 м²</td>\n",
       "      <td>ЖК Одинбург! Квартира только после ремонта и у...</td>\n",
       "    </tr>\n",
       "    <tr>\n",
       "      <th>4</th>\n",
       "      <td>Московская область, Одинцово, мкр. 7, 7-й микр...</td>\n",
       "      <td>Кунцевская, Славянский бульвар</td>\n",
       "      <td>2 402 000</td>\n",
       "      <td>Студия, 25,4 м²</td>\n",
       "      <td>Продается квартира-студия площадью 25,4 кв.м н...</td>\n",
       "    </tr>\n",
       "  </tbody>\n",
       "</table>\n",
       "</div>"
      ],
      "text/plain": [
       "                                          advAddress  \\\n",
       "0  Московская область, Одинцово, мкр. 4, ул. Ново...   \n",
       "1  Московская область, Одинцово, ул. Сколковская, 3А   \n",
       "2   Московская область, Одинцово, ул. Гвардейская, 9   \n",
       "3    Московская область, Одинцово, Северная ул., 5к3   \n",
       "4  Московская область, Одинцово, мкр. 7, 7-й микр...   \n",
       "\n",
       "                                        metro      price  \\\n",
       "0                                           -  6 950 000   \n",
       "1                                           -  4 485 000   \n",
       "2          Молодежная, Крылатское, Кунцевская  5 450 000   \n",
       "3  Славянский бульвар, Кунцевская, Молодежная  5 700 000   \n",
       "4              Кунцевская, Славянский бульвар  2 402 000   \n",
       "\n",
       "                   advName                                        description  \n",
       "0  4-комн. квартира, 65 м²  Продается 4-х комнатная квартира! г. Одинцово,...  \n",
       "1  1-комн. квартира, 38 м²  Сколковский.ПЕРЕУСТУПКА от Собственника!!!  Де...  \n",
       "2  1-комн. квартира, 39 м²  Проедается новая квартира с качественной дизай...  \n",
       "3  1-комн. квартира, 32 м²  ЖК Одинбург! Квартира только после ремонта и у...  \n",
       "4          Студия, 25,4 м²  Продается квартира-студия площадью 25,4 кв.м н...  "
      ]
     },
     "execution_count": 3,
     "metadata": {},
     "output_type": "execute_result"
    }
   ],
   "source": [
    "#Initail datased (parsed cian)\n",
    "df = pd.read_csv('odi_cian.csv')\n",
    "df.head()"
   ]
  },
  {
   "cell_type": "markdown",
   "metadata": {},
   "source": [
    "### Из поля advName взяли количество комнат и квадратных метров, добавили дами-переменные для станций метро"
   ]
  },
  {
   "cell_type": "code",
   "execution_count": 4,
   "metadata": {
    "ExecuteTime": {
     "end_time": "2019-05-30T11:49:02.197432Z",
     "start_time": "2019-05-30T11:49:02.141992Z"
    }
   },
   "outputs": [],
   "source": [
    "#Added rooms and sq param\n",
    "df['rooms'] = df['advName'].apply(lambda x: int(x[0]) if str.isdigit(x[0]) else 1)\n",
    "df['sq'] = df['advName'].apply(lambda x: int(x.split(',')[-1].split(' ')[1]) \n",
    "                                if x.split(',')[-1].split(' ')[1] != 'м²' \n",
    "                                 else int(x.split(',')[-2].split(' ')[1]))\n",
    "df.drop('advName',axis=1,inplace=True)\n",
    "#Added dummies for subway stations\n",
    "metr = []\n",
    "for s in df['metro'].unique()[1:]:\n",
    "    for j in s.split(','):\n",
    "        if j.strip() not in metr:\n",
    "            metr.append(j.strip())\n",
    "for m in metr:\n",
    "    df[m] = df['metro'].apply(lambda x : 1 if m in x else 0)\n",
    "df.drop('metro',inplace=True,axis=1)"
   ]
  },
  {
   "cell_type": "code",
   "execution_count": 5,
   "metadata": {
    "ExecuteTime": {
     "end_time": "2019-05-30T11:49:02.229810Z",
     "start_time": "2019-05-30T11:49:02.200542Z"
    },
    "scrolled": true
   },
   "outputs": [
    {
     "data": {
      "text/html": [
       "<div>\n",
       "<style scoped>\n",
       "    .dataframe tbody tr th:only-of-type {\n",
       "        vertical-align: middle;\n",
       "    }\n",
       "\n",
       "    .dataframe tbody tr th {\n",
       "        vertical-align: top;\n",
       "    }\n",
       "\n",
       "    .dataframe thead th {\n",
       "        text-align: right;\n",
       "    }\n",
       "</style>\n",
       "<table border=\"1\" class=\"dataframe\">\n",
       "  <thead>\n",
       "    <tr style=\"text-align: right;\">\n",
       "      <th></th>\n",
       "      <th>advAddress</th>\n",
       "      <th>price</th>\n",
       "      <th>description</th>\n",
       "      <th>rooms</th>\n",
       "      <th>sq</th>\n",
       "      <th>Молодежная</th>\n",
       "      <th>Крылатское</th>\n",
       "      <th>Кунцевская</th>\n",
       "      <th>Славянский бульвар</th>\n",
       "      <th>Киевская</th>\n",
       "      <th>...</th>\n",
       "      <th>Боровское шоссе</th>\n",
       "      <th>Солнцево</th>\n",
       "      <th>Деловой центр</th>\n",
       "      <th>Беговая</th>\n",
       "      <th>Белорусская</th>\n",
       "      <th>Говорово</th>\n",
       "      <th>Филевский парк</th>\n",
       "      <th>Тропарево</th>\n",
       "      <th>Саларьево</th>\n",
       "      <th>Пионерская</th>\n",
       "    </tr>\n",
       "  </thead>\n",
       "  <tbody>\n",
       "    <tr>\n",
       "      <th>0</th>\n",
       "      <td>Московская область, Одинцово, мкр. 4, ул. Ново...</td>\n",
       "      <td>6 950 000</td>\n",
       "      <td>Продается 4-х комнатная квартира! г. Одинцово,...</td>\n",
       "      <td>4</td>\n",
       "      <td>65</td>\n",
       "      <td>0</td>\n",
       "      <td>0</td>\n",
       "      <td>0</td>\n",
       "      <td>0</td>\n",
       "      <td>0</td>\n",
       "      <td>...</td>\n",
       "      <td>0</td>\n",
       "      <td>0</td>\n",
       "      <td>0</td>\n",
       "      <td>0</td>\n",
       "      <td>0</td>\n",
       "      <td>0</td>\n",
       "      <td>0</td>\n",
       "      <td>0</td>\n",
       "      <td>0</td>\n",
       "      <td>0</td>\n",
       "    </tr>\n",
       "    <tr>\n",
       "      <th>1</th>\n",
       "      <td>Московская область, Одинцово, ул. Сколковская, 3А</td>\n",
       "      <td>4 485 000</td>\n",
       "      <td>Сколковский.ПЕРЕУСТУПКА от Собственника!!!  Де...</td>\n",
       "      <td>1</td>\n",
       "      <td>38</td>\n",
       "      <td>0</td>\n",
       "      <td>0</td>\n",
       "      <td>0</td>\n",
       "      <td>0</td>\n",
       "      <td>0</td>\n",
       "      <td>...</td>\n",
       "      <td>0</td>\n",
       "      <td>0</td>\n",
       "      <td>0</td>\n",
       "      <td>0</td>\n",
       "      <td>0</td>\n",
       "      <td>0</td>\n",
       "      <td>0</td>\n",
       "      <td>0</td>\n",
       "      <td>0</td>\n",
       "      <td>0</td>\n",
       "    </tr>\n",
       "    <tr>\n",
       "      <th>2</th>\n",
       "      <td>Московская область, Одинцово, ул. Гвардейская, 9</td>\n",
       "      <td>5 450 000</td>\n",
       "      <td>Проедается новая квартира с качественной дизай...</td>\n",
       "      <td>1</td>\n",
       "      <td>39</td>\n",
       "      <td>1</td>\n",
       "      <td>1</td>\n",
       "      <td>1</td>\n",
       "      <td>0</td>\n",
       "      <td>0</td>\n",
       "      <td>...</td>\n",
       "      <td>0</td>\n",
       "      <td>0</td>\n",
       "      <td>0</td>\n",
       "      <td>0</td>\n",
       "      <td>0</td>\n",
       "      <td>0</td>\n",
       "      <td>0</td>\n",
       "      <td>0</td>\n",
       "      <td>0</td>\n",
       "      <td>0</td>\n",
       "    </tr>\n",
       "    <tr>\n",
       "      <th>3</th>\n",
       "      <td>Московская область, Одинцово, Северная ул., 5к3</td>\n",
       "      <td>5 700 000</td>\n",
       "      <td>ЖК Одинбург! Квартира только после ремонта и у...</td>\n",
       "      <td>1</td>\n",
       "      <td>32</td>\n",
       "      <td>1</td>\n",
       "      <td>0</td>\n",
       "      <td>1</td>\n",
       "      <td>1</td>\n",
       "      <td>0</td>\n",
       "      <td>...</td>\n",
       "      <td>0</td>\n",
       "      <td>0</td>\n",
       "      <td>0</td>\n",
       "      <td>0</td>\n",
       "      <td>0</td>\n",
       "      <td>0</td>\n",
       "      <td>0</td>\n",
       "      <td>0</td>\n",
       "      <td>0</td>\n",
       "      <td>0</td>\n",
       "    </tr>\n",
       "    <tr>\n",
       "      <th>4</th>\n",
       "      <td>Московская область, Одинцово, мкр. 7, 7-й микр...</td>\n",
       "      <td>2 402 000</td>\n",
       "      <td>Продается квартира-студия площадью 25,4 кв.м н...</td>\n",
       "      <td>1</td>\n",
       "      <td>25</td>\n",
       "      <td>0</td>\n",
       "      <td>0</td>\n",
       "      <td>1</td>\n",
       "      <td>1</td>\n",
       "      <td>0</td>\n",
       "      <td>...</td>\n",
       "      <td>0</td>\n",
       "      <td>0</td>\n",
       "      <td>0</td>\n",
       "      <td>0</td>\n",
       "      <td>0</td>\n",
       "      <td>0</td>\n",
       "      <td>0</td>\n",
       "      <td>0</td>\n",
       "      <td>0</td>\n",
       "      <td>0</td>\n",
       "    </tr>\n",
       "  </tbody>\n",
       "</table>\n",
       "<p>5 rows × 26 columns</p>\n",
       "</div>"
      ],
      "text/plain": [
       "                                          advAddress      price  \\\n",
       "0  Московская область, Одинцово, мкр. 4, ул. Ново...  6 950 000   \n",
       "1  Московская область, Одинцово, ул. Сколковская, 3А  4 485 000   \n",
       "2   Московская область, Одинцово, ул. Гвардейская, 9  5 450 000   \n",
       "3    Московская область, Одинцово, Северная ул., 5к3  5 700 000   \n",
       "4  Московская область, Одинцово, мкр. 7, 7-й микр...  2 402 000   \n",
       "\n",
       "                                         description  rooms  sq  Молодежная  \\\n",
       "0  Продается 4-х комнатная квартира! г. Одинцово,...      4  65           0   \n",
       "1  Сколковский.ПЕРЕУСТУПКА от Собственника!!!  Де...      1  38           0   \n",
       "2  Проедается новая квартира с качественной дизай...      1  39           1   \n",
       "3  ЖК Одинбург! Квартира только после ремонта и у...      1  32           1   \n",
       "4  Продается квартира-студия площадью 25,4 кв.м н...      1  25           0   \n",
       "\n",
       "   Крылатское  Кунцевская  Славянский бульвар  Киевская     ...      \\\n",
       "0           0           0                   0         0     ...       \n",
       "1           0           0                   0         0     ...       \n",
       "2           1           1                   0         0     ...       \n",
       "3           0           1                   1         0     ...       \n",
       "4           0           1                   1         0     ...       \n",
       "\n",
       "   Боровское шоссе  Солнцево  Деловой центр  Беговая  Белорусская  Говорово  \\\n",
       "0                0         0              0        0            0         0   \n",
       "1                0         0              0        0            0         0   \n",
       "2                0         0              0        0            0         0   \n",
       "3                0         0              0        0            0         0   \n",
       "4                0         0              0        0            0         0   \n",
       "\n",
       "   Филевский парк  Тропарево  Саларьево  Пионерская  \n",
       "0               0          0          0           0  \n",
       "1               0          0          0           0  \n",
       "2               0          0          0           0  \n",
       "3               0          0          0           0  \n",
       "4               0          0          0           0  \n",
       "\n",
       "[5 rows x 26 columns]"
      ]
     },
     "execution_count": 5,
     "metadata": {},
     "output_type": "execute_result"
    }
   ],
   "source": [
    "df.head()"
   ]
  },
  {
   "cell_type": "markdown",
   "metadata": {},
   "source": [
    "### Перевели адреса в координаты"
   ]
  },
  {
   "cell_type": "code",
   "execution_count": 7,
   "metadata": {
    "ExecuteTime": {
     "end_time": "2019-05-30T11:55:35.244904Z",
     "start_time": "2019-05-30T11:55:30.483751Z"
    },
    "collapsed": true
   },
   "outputs": [
    {
     "ename": "KeyboardInterrupt",
     "evalue": "",
     "output_type": "error",
     "traceback": [
      "\u001b[0;31m---------------------------------------------------------------------------\u001b[0m",
      "\u001b[0;31mTypeError\u001b[0m                                 Traceback (most recent call last)",
      "\u001b[0;32m/anaconda3/lib/python3.6/site-packages/urllib3/connectionpool.py\u001b[0m in \u001b[0;36m_make_request\u001b[0;34m(self, conn, method, url, timeout, chunked, **httplib_request_kw)\u001b[0m\n\u001b[1;32m    379\u001b[0m             \u001b[0;32mtry\u001b[0m\u001b[0;34m:\u001b[0m  \u001b[0;31m# Python 2.7, use buffering of HTTP responses\u001b[0m\u001b[0;34m\u001b[0m\u001b[0m\n\u001b[0;32m--> 380\u001b[0;31m                 \u001b[0mhttplib_response\u001b[0m \u001b[0;34m=\u001b[0m \u001b[0mconn\u001b[0m\u001b[0;34m.\u001b[0m\u001b[0mgetresponse\u001b[0m\u001b[0;34m(\u001b[0m\u001b[0mbuffering\u001b[0m\u001b[0;34m=\u001b[0m\u001b[0;32mTrue\u001b[0m\u001b[0;34m)\u001b[0m\u001b[0;34m\u001b[0m\u001b[0m\n\u001b[0m\u001b[1;32m    381\u001b[0m             \u001b[0;32mexcept\u001b[0m \u001b[0mTypeError\u001b[0m\u001b[0;34m:\u001b[0m  \u001b[0;31m# Python 2.6 and older, Python 3\u001b[0m\u001b[0;34m\u001b[0m\u001b[0m\n",
      "\u001b[0;31mTypeError\u001b[0m: getresponse() got an unexpected keyword argument 'buffering'",
      "\nDuring handling of the above exception, another exception occurred:\n",
      "\u001b[0;31mWantReadError\u001b[0m                             Traceback (most recent call last)",
      "\u001b[0;32m/anaconda3/lib/python3.6/site-packages/urllib3/contrib/pyopenssl.py\u001b[0m in \u001b[0;36mrecv_into\u001b[0;34m(self, *args, **kwargs)\u001b[0m\n\u001b[1;32m    279\u001b[0m         \u001b[0;32mtry\u001b[0m\u001b[0;34m:\u001b[0m\u001b[0;34m\u001b[0m\u001b[0m\n\u001b[0;32m--> 280\u001b[0;31m             \u001b[0;32mreturn\u001b[0m \u001b[0mself\u001b[0m\u001b[0;34m.\u001b[0m\u001b[0mconnection\u001b[0m\u001b[0;34m.\u001b[0m\u001b[0mrecv_into\u001b[0m\u001b[0;34m(\u001b[0m\u001b[0;34m*\u001b[0m\u001b[0margs\u001b[0m\u001b[0;34m,\u001b[0m \u001b[0;34m**\u001b[0m\u001b[0mkwargs\u001b[0m\u001b[0;34m)\u001b[0m\u001b[0;34m\u001b[0m\u001b[0m\n\u001b[0m\u001b[1;32m    281\u001b[0m         \u001b[0;32mexcept\u001b[0m \u001b[0mOpenSSL\u001b[0m\u001b[0;34m.\u001b[0m\u001b[0mSSL\u001b[0m\u001b[0;34m.\u001b[0m\u001b[0mSysCallError\u001b[0m \u001b[0;32mas\u001b[0m \u001b[0me\u001b[0m\u001b[0;34m:\u001b[0m\u001b[0;34m\u001b[0m\u001b[0m\n",
      "\u001b[0;32m/anaconda3/lib/python3.6/site-packages/OpenSSL/SSL.py\u001b[0m in \u001b[0;36mrecv_into\u001b[0;34m(self, buffer, nbytes, flags)\u001b[0m\n\u001b[1;32m   1813\u001b[0m             \u001b[0mresult\u001b[0m \u001b[0;34m=\u001b[0m \u001b[0m_lib\u001b[0m\u001b[0;34m.\u001b[0m\u001b[0mSSL_read\u001b[0m\u001b[0;34m(\u001b[0m\u001b[0mself\u001b[0m\u001b[0;34m.\u001b[0m\u001b[0m_ssl\u001b[0m\u001b[0;34m,\u001b[0m \u001b[0mbuf\u001b[0m\u001b[0;34m,\u001b[0m \u001b[0mnbytes\u001b[0m\u001b[0;34m)\u001b[0m\u001b[0;34m\u001b[0m\u001b[0m\n\u001b[0;32m-> 1814\u001b[0;31m         \u001b[0mself\u001b[0m\u001b[0;34m.\u001b[0m\u001b[0m_raise_ssl_error\u001b[0m\u001b[0;34m(\u001b[0m\u001b[0mself\u001b[0m\u001b[0;34m.\u001b[0m\u001b[0m_ssl\u001b[0m\u001b[0;34m,\u001b[0m \u001b[0mresult\u001b[0m\u001b[0;34m)\u001b[0m\u001b[0;34m\u001b[0m\u001b[0m\n\u001b[0m\u001b[1;32m   1815\u001b[0m \u001b[0;34m\u001b[0m\u001b[0m\n",
      "\u001b[0;32m/anaconda3/lib/python3.6/site-packages/OpenSSL/SSL.py\u001b[0m in \u001b[0;36m_raise_ssl_error\u001b[0;34m(self, ssl, result)\u001b[0m\n\u001b[1;32m   1613\u001b[0m         \u001b[0;32mif\u001b[0m \u001b[0merror\u001b[0m \u001b[0;34m==\u001b[0m \u001b[0m_lib\u001b[0m\u001b[0;34m.\u001b[0m\u001b[0mSSL_ERROR_WANT_READ\u001b[0m\u001b[0;34m:\u001b[0m\u001b[0;34m\u001b[0m\u001b[0m\n\u001b[0;32m-> 1614\u001b[0;31m             \u001b[0;32mraise\u001b[0m \u001b[0mWantReadError\u001b[0m\u001b[0;34m(\u001b[0m\u001b[0;34m)\u001b[0m\u001b[0;34m\u001b[0m\u001b[0m\n\u001b[0m\u001b[1;32m   1615\u001b[0m         \u001b[0;32melif\u001b[0m \u001b[0merror\u001b[0m \u001b[0;34m==\u001b[0m \u001b[0m_lib\u001b[0m\u001b[0;34m.\u001b[0m\u001b[0mSSL_ERROR_WANT_WRITE\u001b[0m\u001b[0;34m:\u001b[0m\u001b[0;34m\u001b[0m\u001b[0m\n",
      "\u001b[0;31mWantReadError\u001b[0m: ",
      "\nDuring handling of the above exception, another exception occurred:\n",
      "\u001b[0;31mKeyboardInterrupt\u001b[0m                         Traceback (most recent call last)",
      "\u001b[0;32m<ipython-input-7-69604bb50194>\u001b[0m in \u001b[0;36m<module>\u001b[0;34m()\u001b[0m\n\u001b[1;32m      2\u001b[0m \u001b[0mlatlng\u001b[0m \u001b[0;34m=\u001b[0m \u001b[0;34m[\u001b[0m\u001b[0;34m]\u001b[0m\u001b[0;34m\u001b[0m\u001b[0m\n\u001b[1;32m      3\u001b[0m \u001b[0;32mfor\u001b[0m \u001b[0ms\u001b[0m \u001b[0;32min\u001b[0m \u001b[0mdf\u001b[0m\u001b[0;34m[\u001b[0m\u001b[0;34m'advAddress'\u001b[0m\u001b[0;34m]\u001b[0m\u001b[0;34m:\u001b[0m\u001b[0;34m\u001b[0m\u001b[0m\n\u001b[0;32m----> 4\u001b[0;31m     \u001b[0mlatlng\u001b[0m\u001b[0;34m.\u001b[0m\u001b[0mappend\u001b[0m\u001b[0;34m(\u001b[0m\u001b[0mgeocoder\u001b[0m\u001b[0;34m.\u001b[0m\u001b[0myandex\u001b[0m\u001b[0;34m(\u001b[0m\u001b[0ms\u001b[0m\u001b[0;34m)\u001b[0m\u001b[0;34m.\u001b[0m\u001b[0mlatlng\u001b[0m\u001b[0;34m)\u001b[0m\u001b[0;34m\u001b[0m\u001b[0m\n\u001b[0m\u001b[1;32m      5\u001b[0m \u001b[0mdf\u001b[0m\u001b[0;34m.\u001b[0m\u001b[0mdrop\u001b[0m\u001b[0;34m(\u001b[0m\u001b[0;34m'advAddress'\u001b[0m\u001b[0;34m,\u001b[0m\u001b[0maxis\u001b[0m\u001b[0;34m=\u001b[0m\u001b[0;36m1\u001b[0m\u001b[0;34m,\u001b[0m\u001b[0minplace\u001b[0m\u001b[0;34m=\u001b[0m\u001b[0;32mTrue\u001b[0m\u001b[0;34m)\u001b[0m\u001b[0;34m\u001b[0m\u001b[0m\n\u001b[1;32m      6\u001b[0m \u001b[0mlatlng\u001b[0m \u001b[0;34m=\u001b[0m \u001b[0mnp\u001b[0m\u001b[0;34m.\u001b[0m\u001b[0marray\u001b[0m\u001b[0;34m(\u001b[0m\u001b[0mlatlng\u001b[0m\u001b[0;34m)\u001b[0m\u001b[0;34m\u001b[0m\u001b[0m\n",
      "\u001b[0;32m/anaconda3/lib/python3.6/site-packages/geocoder/api.py\u001b[0m in \u001b[0;36myandex\u001b[0;34m(location, **kwargs)\u001b[0m\n\u001b[1;32m    265\u001b[0m         \u001b[0;34m>\u001b[0m \u001b[0mlocality\u001b[0m \u001b[0;34m-\u001b[0m \u001b[0mlocality\u001b[0m \u001b[0;34m(\u001b[0m\u001b[0mcity\u001b[0m\u001b[0;34m,\u001b[0m \u001b[0mtown\u001b[0m\u001b[0;34m,\u001b[0m \u001b[0mvillage\u001b[0m\u001b[0;34m,\u001b[0m \u001b[0metc\u001b[0m\u001b[0;34m.\u001b[0m\u001b[0;34m)\u001b[0m\u001b[0;34m\u001b[0m\u001b[0m\n\u001b[1;32m    266\u001b[0m     \"\"\"\n\u001b[0;32m--> 267\u001b[0;31m     \u001b[0;32mreturn\u001b[0m \u001b[0mget\u001b[0m\u001b[0;34m(\u001b[0m\u001b[0mlocation\u001b[0m\u001b[0;34m,\u001b[0m \u001b[0mprovider\u001b[0m\u001b[0;34m=\u001b[0m\u001b[0;34m'yandex'\u001b[0m\u001b[0;34m,\u001b[0m \u001b[0;34m**\u001b[0m\u001b[0mkwargs\u001b[0m\u001b[0;34m)\u001b[0m\u001b[0;34m\u001b[0m\u001b[0m\n\u001b[0m\u001b[1;32m    268\u001b[0m \u001b[0;34m\u001b[0m\u001b[0m\n\u001b[1;32m    269\u001b[0m \u001b[0;34m\u001b[0m\u001b[0m\n",
      "\u001b[0;32m/anaconda3/lib/python3.6/site-packages/geocoder/api.py\u001b[0m in \u001b[0;36mget\u001b[0;34m(location, **kwargs)\u001b[0m\n\u001b[1;32m    196\u001b[0m         \u001b[0;32mif\u001b[0m \u001b[0mmethod\u001b[0m \u001b[0;32mnot\u001b[0m \u001b[0;32min\u001b[0m \u001b[0moptions\u001b[0m\u001b[0;34m[\u001b[0m\u001b[0mprovider\u001b[0m\u001b[0;34m]\u001b[0m\u001b[0;34m:\u001b[0m\u001b[0;34m\u001b[0m\u001b[0m\n\u001b[1;32m    197\u001b[0m             \u001b[0;32mraise\u001b[0m \u001b[0mValueError\u001b[0m\u001b[0;34m(\u001b[0m\u001b[0;34m\"Invalid method\"\u001b[0m\u001b[0;34m)\u001b[0m\u001b[0;34m\u001b[0m\u001b[0m\n\u001b[0;32m--> 198\u001b[0;31m     \u001b[0;32mreturn\u001b[0m \u001b[0moptions\u001b[0m\u001b[0;34m[\u001b[0m\u001b[0mprovider\u001b[0m\u001b[0;34m]\u001b[0m\u001b[0;34m[\u001b[0m\u001b[0mmethod\u001b[0m\u001b[0;34m]\u001b[0m\u001b[0;34m(\u001b[0m\u001b[0mlocation\u001b[0m\u001b[0;34m,\u001b[0m \u001b[0;34m**\u001b[0m\u001b[0mkwargs\u001b[0m\u001b[0;34m)\u001b[0m\u001b[0;34m\u001b[0m\u001b[0m\n\u001b[0m\u001b[1;32m    199\u001b[0m \u001b[0;34m\u001b[0m\u001b[0m\n\u001b[1;32m    200\u001b[0m \u001b[0;34m\u001b[0m\u001b[0m\n",
      "\u001b[0;32m/anaconda3/lib/python3.6/site-packages/geocoder/base.py\u001b[0m in \u001b[0;36m__init__\u001b[0;34m(self, location, **kwargs)\u001b[0m\n\u001b[1;32m    408\u001b[0m \u001b[0;34m\u001b[0m\u001b[0m\n\u001b[1;32m    409\u001b[0m         \u001b[0;31m# query and parse results\u001b[0m\u001b[0;34m\u001b[0m\u001b[0;34m\u001b[0m\u001b[0m\n\u001b[0;32m--> 410\u001b[0;31m         \u001b[0mself\u001b[0m\u001b[0;34m.\u001b[0m\u001b[0m_initialize\u001b[0m\u001b[0;34m(\u001b[0m\u001b[0;34m)\u001b[0m\u001b[0;34m\u001b[0m\u001b[0m\n\u001b[0m\u001b[1;32m    411\u001b[0m \u001b[0;34m\u001b[0m\u001b[0m\n\u001b[1;32m    412\u001b[0m     \u001b[0;32mdef\u001b[0m \u001b[0m__getitem__\u001b[0m\u001b[0;34m(\u001b[0m\u001b[0mself\u001b[0m\u001b[0;34m,\u001b[0m \u001b[0mkey\u001b[0m\u001b[0;34m)\u001b[0m\u001b[0;34m:\u001b[0m\u001b[0;34m\u001b[0m\u001b[0m\n",
      "\u001b[0;32m/anaconda3/lib/python3.6/site-packages/geocoder/base.py\u001b[0m in \u001b[0;36m_initialize\u001b[0;34m(self)\u001b[0m\n\u001b[1;32m    455\u001b[0m     \u001b[0;32mdef\u001b[0m \u001b[0m_initialize\u001b[0m\u001b[0;34m(\u001b[0m\u001b[0mself\u001b[0m\u001b[0;34m)\u001b[0m\u001b[0;34m:\u001b[0m\u001b[0;34m\u001b[0m\u001b[0m\n\u001b[1;32m    456\u001b[0m         \u001b[0;31m# query URL and get valid JSON (also stored in self.json)\u001b[0m\u001b[0;34m\u001b[0m\u001b[0;34m\u001b[0m\u001b[0m\n\u001b[0;32m--> 457\u001b[0;31m         \u001b[0mjson_response\u001b[0m \u001b[0;34m=\u001b[0m \u001b[0mself\u001b[0m\u001b[0;34m.\u001b[0m\u001b[0m_connect\u001b[0m\u001b[0;34m(\u001b[0m\u001b[0;34m)\u001b[0m\u001b[0;34m\u001b[0m\u001b[0m\n\u001b[0m\u001b[1;32m    458\u001b[0m \u001b[0;34m\u001b[0m\u001b[0m\n\u001b[1;32m    459\u001b[0m         \u001b[0;31m# catch errors\u001b[0m\u001b[0;34m\u001b[0m\u001b[0;34m\u001b[0m\u001b[0m\n",
      "\u001b[0;32m/anaconda3/lib/python3.6/site-packages/geocoder/base.py\u001b[0m in \u001b[0;36m_connect\u001b[0;34m(self)\u001b[0m\n\u001b[1;32m    482\u001b[0m                 \u001b[0mheaders\u001b[0m\u001b[0;34m=\u001b[0m\u001b[0mself\u001b[0m\u001b[0;34m.\u001b[0m\u001b[0mheaders\u001b[0m\u001b[0;34m,\u001b[0m\u001b[0;34m\u001b[0m\u001b[0m\n\u001b[1;32m    483\u001b[0m                 \u001b[0mtimeout\u001b[0m\u001b[0;34m=\u001b[0m\u001b[0mself\u001b[0m\u001b[0;34m.\u001b[0m\u001b[0mtimeout\u001b[0m\u001b[0;34m,\u001b[0m\u001b[0;34m\u001b[0m\u001b[0m\n\u001b[0;32m--> 484\u001b[0;31m                 \u001b[0mproxies\u001b[0m\u001b[0;34m=\u001b[0m\u001b[0mself\u001b[0m\u001b[0;34m.\u001b[0m\u001b[0mproxies\u001b[0m\u001b[0;34m\u001b[0m\u001b[0m\n\u001b[0m\u001b[1;32m    485\u001b[0m             )\n\u001b[1;32m    486\u001b[0m \u001b[0;34m\u001b[0m\u001b[0m\n",
      "\u001b[0;32m/anaconda3/lib/python3.6/site-packages/geocoder/base.py\u001b[0m in \u001b[0;36mrate_limited_get\u001b[0;34m(self, url, **kwargs)\u001b[0m\n\u001b[1;32m    508\u001b[0m     \u001b[0;32mdef\u001b[0m \u001b[0mrate_limited_get\u001b[0m\u001b[0;34m(\u001b[0m\u001b[0mself\u001b[0m\u001b[0;34m,\u001b[0m \u001b[0murl\u001b[0m\u001b[0;34m,\u001b[0m \u001b[0;34m**\u001b[0m\u001b[0mkwargs\u001b[0m\u001b[0;34m)\u001b[0m\u001b[0;34m:\u001b[0m\u001b[0;34m\u001b[0m\u001b[0m\n\u001b[1;32m    509\u001b[0m         \u001b[0;34m\"\"\" By default, simply wraps a session.get request\"\"\"\u001b[0m\u001b[0;34m\u001b[0m\u001b[0m\n\u001b[0;32m--> 510\u001b[0;31m         \u001b[0;32mreturn\u001b[0m \u001b[0mself\u001b[0m\u001b[0;34m.\u001b[0m\u001b[0msession\u001b[0m\u001b[0;34m.\u001b[0m\u001b[0mget\u001b[0m\u001b[0;34m(\u001b[0m\u001b[0murl\u001b[0m\u001b[0;34m,\u001b[0m \u001b[0;34m**\u001b[0m\u001b[0mkwargs\u001b[0m\u001b[0;34m)\u001b[0m\u001b[0;34m\u001b[0m\u001b[0m\n\u001b[0m\u001b[1;32m    511\u001b[0m \u001b[0;34m\u001b[0m\u001b[0m\n\u001b[1;32m    512\u001b[0m     \u001b[0;32mdef\u001b[0m \u001b[0m_adapt_results\u001b[0m\u001b[0;34m(\u001b[0m\u001b[0mself\u001b[0m\u001b[0;34m,\u001b[0m \u001b[0mjson_response\u001b[0m\u001b[0;34m)\u001b[0m\u001b[0;34m:\u001b[0m\u001b[0;34m\u001b[0m\u001b[0m\n",
      "\u001b[0;32m/anaconda3/lib/python3.6/site-packages/requests/sessions.py\u001b[0m in \u001b[0;36mget\u001b[0;34m(self, url, **kwargs)\u001b[0m\n\u001b[1;32m    519\u001b[0m \u001b[0;34m\u001b[0m\u001b[0m\n\u001b[1;32m    520\u001b[0m         \u001b[0mkwargs\u001b[0m\u001b[0;34m.\u001b[0m\u001b[0msetdefault\u001b[0m\u001b[0;34m(\u001b[0m\u001b[0;34m'allow_redirects'\u001b[0m\u001b[0;34m,\u001b[0m \u001b[0;32mTrue\u001b[0m\u001b[0;34m)\u001b[0m\u001b[0;34m\u001b[0m\u001b[0m\n\u001b[0;32m--> 521\u001b[0;31m         \u001b[0;32mreturn\u001b[0m \u001b[0mself\u001b[0m\u001b[0;34m.\u001b[0m\u001b[0mrequest\u001b[0m\u001b[0;34m(\u001b[0m\u001b[0;34m'GET'\u001b[0m\u001b[0;34m,\u001b[0m \u001b[0murl\u001b[0m\u001b[0;34m,\u001b[0m \u001b[0;34m**\u001b[0m\u001b[0mkwargs\u001b[0m\u001b[0;34m)\u001b[0m\u001b[0;34m\u001b[0m\u001b[0m\n\u001b[0m\u001b[1;32m    522\u001b[0m \u001b[0;34m\u001b[0m\u001b[0m\n\u001b[1;32m    523\u001b[0m     \u001b[0;32mdef\u001b[0m \u001b[0moptions\u001b[0m\u001b[0;34m(\u001b[0m\u001b[0mself\u001b[0m\u001b[0;34m,\u001b[0m \u001b[0murl\u001b[0m\u001b[0;34m,\u001b[0m \u001b[0;34m**\u001b[0m\u001b[0mkwargs\u001b[0m\u001b[0;34m)\u001b[0m\u001b[0;34m:\u001b[0m\u001b[0;34m\u001b[0m\u001b[0m\n",
      "\u001b[0;32m/anaconda3/lib/python3.6/site-packages/requests/sessions.py\u001b[0m in \u001b[0;36mrequest\u001b[0;34m(self, method, url, params, data, headers, cookies, files, auth, timeout, allow_redirects, proxies, hooks, stream, verify, cert, json)\u001b[0m\n\u001b[1;32m    506\u001b[0m         }\n\u001b[1;32m    507\u001b[0m         \u001b[0msend_kwargs\u001b[0m\u001b[0;34m.\u001b[0m\u001b[0mupdate\u001b[0m\u001b[0;34m(\u001b[0m\u001b[0msettings\u001b[0m\u001b[0;34m)\u001b[0m\u001b[0;34m\u001b[0m\u001b[0m\n\u001b[0;32m--> 508\u001b[0;31m         \u001b[0mresp\u001b[0m \u001b[0;34m=\u001b[0m \u001b[0mself\u001b[0m\u001b[0;34m.\u001b[0m\u001b[0msend\u001b[0m\u001b[0;34m(\u001b[0m\u001b[0mprep\u001b[0m\u001b[0;34m,\u001b[0m \u001b[0;34m**\u001b[0m\u001b[0msend_kwargs\u001b[0m\u001b[0;34m)\u001b[0m\u001b[0;34m\u001b[0m\u001b[0m\n\u001b[0m\u001b[1;32m    509\u001b[0m \u001b[0;34m\u001b[0m\u001b[0m\n\u001b[1;32m    510\u001b[0m         \u001b[0;32mreturn\u001b[0m \u001b[0mresp\u001b[0m\u001b[0;34m\u001b[0m\u001b[0m\n",
      "\u001b[0;32m/anaconda3/lib/python3.6/site-packages/requests/sessions.py\u001b[0m in \u001b[0;36msend\u001b[0;34m(self, request, **kwargs)\u001b[0m\n\u001b[1;32m    616\u001b[0m \u001b[0;34m\u001b[0m\u001b[0m\n\u001b[1;32m    617\u001b[0m         \u001b[0;31m# Send the request\u001b[0m\u001b[0;34m\u001b[0m\u001b[0;34m\u001b[0m\u001b[0m\n\u001b[0;32m--> 618\u001b[0;31m         \u001b[0mr\u001b[0m \u001b[0;34m=\u001b[0m \u001b[0madapter\u001b[0m\u001b[0;34m.\u001b[0m\u001b[0msend\u001b[0m\u001b[0;34m(\u001b[0m\u001b[0mrequest\u001b[0m\u001b[0;34m,\u001b[0m \u001b[0;34m**\u001b[0m\u001b[0mkwargs\u001b[0m\u001b[0;34m)\u001b[0m\u001b[0;34m\u001b[0m\u001b[0m\n\u001b[0m\u001b[1;32m    619\u001b[0m \u001b[0;34m\u001b[0m\u001b[0m\n\u001b[1;32m    620\u001b[0m         \u001b[0;31m# Total elapsed time of the request (approximately)\u001b[0m\u001b[0;34m\u001b[0m\u001b[0;34m\u001b[0m\u001b[0m\n",
      "\u001b[0;32m/anaconda3/lib/python3.6/site-packages/requests/adapters.py\u001b[0m in \u001b[0;36msend\u001b[0;34m(self, request, stream, timeout, verify, cert, proxies)\u001b[0m\n\u001b[1;32m    438\u001b[0m                     \u001b[0mdecode_content\u001b[0m\u001b[0;34m=\u001b[0m\u001b[0;32mFalse\u001b[0m\u001b[0;34m,\u001b[0m\u001b[0;34m\u001b[0m\u001b[0m\n\u001b[1;32m    439\u001b[0m                     \u001b[0mretries\u001b[0m\u001b[0;34m=\u001b[0m\u001b[0mself\u001b[0m\u001b[0;34m.\u001b[0m\u001b[0mmax_retries\u001b[0m\u001b[0;34m,\u001b[0m\u001b[0;34m\u001b[0m\u001b[0m\n\u001b[0;32m--> 440\u001b[0;31m                     \u001b[0mtimeout\u001b[0m\u001b[0;34m=\u001b[0m\u001b[0mtimeout\u001b[0m\u001b[0;34m\u001b[0m\u001b[0m\n\u001b[0m\u001b[1;32m    441\u001b[0m                 )\n\u001b[1;32m    442\u001b[0m \u001b[0;34m\u001b[0m\u001b[0m\n",
      "\u001b[0;32m/anaconda3/lib/python3.6/site-packages/urllib3/connectionpool.py\u001b[0m in \u001b[0;36murlopen\u001b[0;34m(self, method, url, body, headers, retries, redirect, assert_same_host, timeout, pool_timeout, release_conn, chunked, body_pos, **response_kw)\u001b[0m\n\u001b[1;32m    599\u001b[0m                                                   \u001b[0mtimeout\u001b[0m\u001b[0;34m=\u001b[0m\u001b[0mtimeout_obj\u001b[0m\u001b[0;34m,\u001b[0m\u001b[0;34m\u001b[0m\u001b[0m\n\u001b[1;32m    600\u001b[0m                                                   \u001b[0mbody\u001b[0m\u001b[0;34m=\u001b[0m\u001b[0mbody\u001b[0m\u001b[0;34m,\u001b[0m \u001b[0mheaders\u001b[0m\u001b[0;34m=\u001b[0m\u001b[0mheaders\u001b[0m\u001b[0;34m,\u001b[0m\u001b[0;34m\u001b[0m\u001b[0m\n\u001b[0;32m--> 601\u001b[0;31m                                                   chunked=chunked)\n\u001b[0m\u001b[1;32m    602\u001b[0m \u001b[0;34m\u001b[0m\u001b[0m\n\u001b[1;32m    603\u001b[0m             \u001b[0;31m# If we're going to release the connection in ``finally:``, then\u001b[0m\u001b[0;34m\u001b[0m\u001b[0;34m\u001b[0m\u001b[0m\n",
      "\u001b[0;32m/anaconda3/lib/python3.6/site-packages/urllib3/connectionpool.py\u001b[0m in \u001b[0;36m_make_request\u001b[0;34m(self, conn, method, url, timeout, chunked, **httplib_request_kw)\u001b[0m\n\u001b[1;32m    381\u001b[0m             \u001b[0;32mexcept\u001b[0m \u001b[0mTypeError\u001b[0m\u001b[0;34m:\u001b[0m  \u001b[0;31m# Python 2.6 and older, Python 3\u001b[0m\u001b[0;34m\u001b[0m\u001b[0m\n\u001b[1;32m    382\u001b[0m                 \u001b[0;32mtry\u001b[0m\u001b[0;34m:\u001b[0m\u001b[0;34m\u001b[0m\u001b[0m\n\u001b[0;32m--> 383\u001b[0;31m                     \u001b[0mhttplib_response\u001b[0m \u001b[0;34m=\u001b[0m \u001b[0mconn\u001b[0m\u001b[0;34m.\u001b[0m\u001b[0mgetresponse\u001b[0m\u001b[0;34m(\u001b[0m\u001b[0;34m)\u001b[0m\u001b[0;34m\u001b[0m\u001b[0m\n\u001b[0m\u001b[1;32m    384\u001b[0m                 \u001b[0;32mexcept\u001b[0m \u001b[0mException\u001b[0m \u001b[0;32mas\u001b[0m \u001b[0me\u001b[0m\u001b[0;34m:\u001b[0m\u001b[0;34m\u001b[0m\u001b[0m\n\u001b[1;32m    385\u001b[0m                     \u001b[0;31m# Remove the TypeError from the exception chain in Python 3;\u001b[0m\u001b[0;34m\u001b[0m\u001b[0;34m\u001b[0m\u001b[0m\n",
      "\u001b[0;32m/anaconda3/lib/python3.6/http/client.py\u001b[0m in \u001b[0;36mgetresponse\u001b[0;34m(self)\u001b[0m\n\u001b[1;32m   1329\u001b[0m         \u001b[0;32mtry\u001b[0m\u001b[0;34m:\u001b[0m\u001b[0;34m\u001b[0m\u001b[0m\n\u001b[1;32m   1330\u001b[0m             \u001b[0;32mtry\u001b[0m\u001b[0;34m:\u001b[0m\u001b[0;34m\u001b[0m\u001b[0m\n\u001b[0;32m-> 1331\u001b[0;31m                 \u001b[0mresponse\u001b[0m\u001b[0;34m.\u001b[0m\u001b[0mbegin\u001b[0m\u001b[0;34m(\u001b[0m\u001b[0;34m)\u001b[0m\u001b[0;34m\u001b[0m\u001b[0m\n\u001b[0m\u001b[1;32m   1332\u001b[0m             \u001b[0;32mexcept\u001b[0m \u001b[0mConnectionError\u001b[0m\u001b[0;34m:\u001b[0m\u001b[0;34m\u001b[0m\u001b[0m\n\u001b[1;32m   1333\u001b[0m                 \u001b[0mself\u001b[0m\u001b[0;34m.\u001b[0m\u001b[0mclose\u001b[0m\u001b[0;34m(\u001b[0m\u001b[0;34m)\u001b[0m\u001b[0;34m\u001b[0m\u001b[0m\n",
      "\u001b[0;32m/anaconda3/lib/python3.6/http/client.py\u001b[0m in \u001b[0;36mbegin\u001b[0;34m(self)\u001b[0m\n\u001b[1;32m    295\u001b[0m         \u001b[0;31m# read until we get a non-100 response\u001b[0m\u001b[0;34m\u001b[0m\u001b[0;34m\u001b[0m\u001b[0m\n\u001b[1;32m    296\u001b[0m         \u001b[0;32mwhile\u001b[0m \u001b[0;32mTrue\u001b[0m\u001b[0;34m:\u001b[0m\u001b[0;34m\u001b[0m\u001b[0m\n\u001b[0;32m--> 297\u001b[0;31m             \u001b[0mversion\u001b[0m\u001b[0;34m,\u001b[0m \u001b[0mstatus\u001b[0m\u001b[0;34m,\u001b[0m \u001b[0mreason\u001b[0m \u001b[0;34m=\u001b[0m \u001b[0mself\u001b[0m\u001b[0;34m.\u001b[0m\u001b[0m_read_status\u001b[0m\u001b[0;34m(\u001b[0m\u001b[0;34m)\u001b[0m\u001b[0;34m\u001b[0m\u001b[0m\n\u001b[0m\u001b[1;32m    298\u001b[0m             \u001b[0;32mif\u001b[0m \u001b[0mstatus\u001b[0m \u001b[0;34m!=\u001b[0m \u001b[0mCONTINUE\u001b[0m\u001b[0;34m:\u001b[0m\u001b[0;34m\u001b[0m\u001b[0m\n\u001b[1;32m    299\u001b[0m                 \u001b[0;32mbreak\u001b[0m\u001b[0;34m\u001b[0m\u001b[0m\n",
      "\u001b[0;32m/anaconda3/lib/python3.6/http/client.py\u001b[0m in \u001b[0;36m_read_status\u001b[0;34m(self)\u001b[0m\n\u001b[1;32m    256\u001b[0m \u001b[0;34m\u001b[0m\u001b[0m\n\u001b[1;32m    257\u001b[0m     \u001b[0;32mdef\u001b[0m \u001b[0m_read_status\u001b[0m\u001b[0;34m(\u001b[0m\u001b[0mself\u001b[0m\u001b[0;34m)\u001b[0m\u001b[0;34m:\u001b[0m\u001b[0;34m\u001b[0m\u001b[0m\n\u001b[0;32m--> 258\u001b[0;31m         \u001b[0mline\u001b[0m \u001b[0;34m=\u001b[0m \u001b[0mstr\u001b[0m\u001b[0;34m(\u001b[0m\u001b[0mself\u001b[0m\u001b[0;34m.\u001b[0m\u001b[0mfp\u001b[0m\u001b[0;34m.\u001b[0m\u001b[0mreadline\u001b[0m\u001b[0;34m(\u001b[0m\u001b[0m_MAXLINE\u001b[0m \u001b[0;34m+\u001b[0m \u001b[0;36m1\u001b[0m\u001b[0;34m)\u001b[0m\u001b[0;34m,\u001b[0m \u001b[0;34m\"iso-8859-1\"\u001b[0m\u001b[0;34m)\u001b[0m\u001b[0;34m\u001b[0m\u001b[0m\n\u001b[0m\u001b[1;32m    259\u001b[0m         \u001b[0;32mif\u001b[0m \u001b[0mlen\u001b[0m\u001b[0;34m(\u001b[0m\u001b[0mline\u001b[0m\u001b[0;34m)\u001b[0m \u001b[0;34m>\u001b[0m \u001b[0m_MAXLINE\u001b[0m\u001b[0;34m:\u001b[0m\u001b[0;34m\u001b[0m\u001b[0m\n\u001b[1;32m    260\u001b[0m             \u001b[0;32mraise\u001b[0m \u001b[0mLineTooLong\u001b[0m\u001b[0;34m(\u001b[0m\u001b[0;34m\"status line\"\u001b[0m\u001b[0;34m)\u001b[0m\u001b[0;34m\u001b[0m\u001b[0m\n",
      "\u001b[0;32m/anaconda3/lib/python3.6/socket.py\u001b[0m in \u001b[0;36mreadinto\u001b[0;34m(self, b)\u001b[0m\n\u001b[1;32m    584\u001b[0m         \u001b[0;32mwhile\u001b[0m \u001b[0;32mTrue\u001b[0m\u001b[0;34m:\u001b[0m\u001b[0;34m\u001b[0m\u001b[0m\n\u001b[1;32m    585\u001b[0m             \u001b[0;32mtry\u001b[0m\u001b[0;34m:\u001b[0m\u001b[0;34m\u001b[0m\u001b[0m\n\u001b[0;32m--> 586\u001b[0;31m                 \u001b[0;32mreturn\u001b[0m \u001b[0mself\u001b[0m\u001b[0;34m.\u001b[0m\u001b[0m_sock\u001b[0m\u001b[0;34m.\u001b[0m\u001b[0mrecv_into\u001b[0m\u001b[0;34m(\u001b[0m\u001b[0mb\u001b[0m\u001b[0;34m)\u001b[0m\u001b[0;34m\u001b[0m\u001b[0m\n\u001b[0m\u001b[1;32m    587\u001b[0m             \u001b[0;32mexcept\u001b[0m \u001b[0mtimeout\u001b[0m\u001b[0;34m:\u001b[0m\u001b[0;34m\u001b[0m\u001b[0m\n\u001b[1;32m    588\u001b[0m                 \u001b[0mself\u001b[0m\u001b[0;34m.\u001b[0m\u001b[0m_timeout_occurred\u001b[0m \u001b[0;34m=\u001b[0m \u001b[0;32mTrue\u001b[0m\u001b[0;34m\u001b[0m\u001b[0m\n",
      "\u001b[0;32m/anaconda3/lib/python3.6/site-packages/urllib3/contrib/pyopenssl.py\u001b[0m in \u001b[0;36mrecv_into\u001b[0;34m(self, *args, **kwargs)\u001b[0m\n\u001b[1;32m    290\u001b[0m                 \u001b[0;32mraise\u001b[0m\u001b[0;34m\u001b[0m\u001b[0m\n\u001b[1;32m    291\u001b[0m         \u001b[0;32mexcept\u001b[0m \u001b[0mOpenSSL\u001b[0m\u001b[0;34m.\u001b[0m\u001b[0mSSL\u001b[0m\u001b[0;34m.\u001b[0m\u001b[0mWantReadError\u001b[0m\u001b[0;34m:\u001b[0m\u001b[0;34m\u001b[0m\u001b[0m\n\u001b[0;32m--> 292\u001b[0;31m             \u001b[0mrd\u001b[0m \u001b[0;34m=\u001b[0m \u001b[0mutil\u001b[0m\u001b[0;34m.\u001b[0m\u001b[0mwait_for_read\u001b[0m\u001b[0;34m(\u001b[0m\u001b[0mself\u001b[0m\u001b[0;34m.\u001b[0m\u001b[0msocket\u001b[0m\u001b[0;34m,\u001b[0m \u001b[0mself\u001b[0m\u001b[0;34m.\u001b[0m\u001b[0msocket\u001b[0m\u001b[0;34m.\u001b[0m\u001b[0mgettimeout\u001b[0m\u001b[0;34m(\u001b[0m\u001b[0;34m)\u001b[0m\u001b[0;34m)\u001b[0m\u001b[0;34m\u001b[0m\u001b[0m\n\u001b[0m\u001b[1;32m    293\u001b[0m             \u001b[0;32mif\u001b[0m \u001b[0;32mnot\u001b[0m \u001b[0mrd\u001b[0m\u001b[0;34m:\u001b[0m\u001b[0;34m\u001b[0m\u001b[0m\n\u001b[1;32m    294\u001b[0m                 \u001b[0;32mraise\u001b[0m \u001b[0mtimeout\u001b[0m\u001b[0;34m(\u001b[0m\u001b[0;34m'The read operation timed out'\u001b[0m\u001b[0;34m)\u001b[0m\u001b[0;34m\u001b[0m\u001b[0m\n",
      "\u001b[0;32m/anaconda3/lib/python3.6/site-packages/urllib3/util/wait.py\u001b[0m in \u001b[0;36mwait_for_read\u001b[0;34m(socks, timeout)\u001b[0m\n\u001b[1;32m     31\u001b[0m     \u001b[0;32mor\u001b[0m \u001b[0moptionally\u001b[0m \u001b[0ma\u001b[0m \u001b[0msingle\u001b[0m \u001b[0msocket\u001b[0m \u001b[0;32mif\u001b[0m \u001b[0mpassed\u001b[0m \u001b[0;32min\u001b[0m\u001b[0;34m.\u001b[0m \u001b[0mReturns\u001b[0m \u001b[0ma\u001b[0m \u001b[0mlist\u001b[0m \u001b[0mof\u001b[0m\u001b[0;34m\u001b[0m\u001b[0m\n\u001b[1;32m     32\u001b[0m     sockets that can be read from immediately. \"\"\"\n\u001b[0;32m---> 33\u001b[0;31m     \u001b[0;32mreturn\u001b[0m \u001b[0m_wait_for_io_events\u001b[0m\u001b[0;34m(\u001b[0m\u001b[0msocks\u001b[0m\u001b[0;34m,\u001b[0m \u001b[0mEVENT_READ\u001b[0m\u001b[0;34m,\u001b[0m \u001b[0mtimeout\u001b[0m\u001b[0;34m)\u001b[0m\u001b[0;34m\u001b[0m\u001b[0m\n\u001b[0m\u001b[1;32m     34\u001b[0m \u001b[0;34m\u001b[0m\u001b[0m\n\u001b[1;32m     35\u001b[0m \u001b[0;34m\u001b[0m\u001b[0m\n",
      "\u001b[0;32m/anaconda3/lib/python3.6/site-packages/urllib3/util/wait.py\u001b[0m in \u001b[0;36m_wait_for_io_events\u001b[0;34m(socks, events, timeout)\u001b[0m\n\u001b[1;32m     24\u001b[0m             \u001b[0mselector\u001b[0m\u001b[0;34m.\u001b[0m\u001b[0mregister\u001b[0m\u001b[0;34m(\u001b[0m\u001b[0msock\u001b[0m\u001b[0;34m,\u001b[0m \u001b[0mevents\u001b[0m\u001b[0;34m)\u001b[0m\u001b[0;34m\u001b[0m\u001b[0m\n\u001b[1;32m     25\u001b[0m         return [key[0].fileobj for key in\n\u001b[0;32m---> 26\u001b[0;31m                 selector.select(timeout) if key[1] & events]\n\u001b[0m\u001b[1;32m     27\u001b[0m \u001b[0;34m\u001b[0m\u001b[0m\n\u001b[1;32m     28\u001b[0m \u001b[0;34m\u001b[0m\u001b[0m\n",
      "\u001b[0;32m/anaconda3/lib/python3.6/site-packages/urllib3/util/selectors.py\u001b[0m in \u001b[0;36mselect\u001b[0;34m(self, timeout)\u001b[0m\n\u001b[1;32m    511\u001b[0m \u001b[0;34m\u001b[0m\u001b[0m\n\u001b[1;32m    512\u001b[0m             kevent_list = _syscall_wrapper(self._kqueue.control, True,\n\u001b[0;32m--> 513\u001b[0;31m                                            None, max_events, timeout)\n\u001b[0m\u001b[1;32m    514\u001b[0m \u001b[0;34m\u001b[0m\u001b[0m\n\u001b[1;32m    515\u001b[0m             \u001b[0;32mfor\u001b[0m \u001b[0mkevent\u001b[0m \u001b[0;32min\u001b[0m \u001b[0mkevent_list\u001b[0m\u001b[0;34m:\u001b[0m\u001b[0;34m\u001b[0m\u001b[0m\n",
      "\u001b[0;32m/anaconda3/lib/python3.6/site-packages/urllib3/util/selectors.py\u001b[0m in \u001b[0;36m_syscall_wrapper\u001b[0;34m(func, _, *args, **kwargs)\u001b[0m\n\u001b[1;32m     62\u001b[0m         and recalculate their timeouts. \"\"\"\n\u001b[1;32m     63\u001b[0m         \u001b[0;32mtry\u001b[0m\u001b[0;34m:\u001b[0m\u001b[0;34m\u001b[0m\u001b[0m\n\u001b[0;32m---> 64\u001b[0;31m             \u001b[0;32mreturn\u001b[0m \u001b[0mfunc\u001b[0m\u001b[0;34m(\u001b[0m\u001b[0;34m*\u001b[0m\u001b[0margs\u001b[0m\u001b[0;34m,\u001b[0m \u001b[0;34m**\u001b[0m\u001b[0mkwargs\u001b[0m\u001b[0;34m)\u001b[0m\u001b[0;34m\u001b[0m\u001b[0m\n\u001b[0m\u001b[1;32m     65\u001b[0m         \u001b[0;32mexcept\u001b[0m \u001b[0;34m(\u001b[0m\u001b[0mOSError\u001b[0m\u001b[0;34m,\u001b[0m \u001b[0mIOError\u001b[0m\u001b[0;34m,\u001b[0m \u001b[0mselect\u001b[0m\u001b[0;34m.\u001b[0m\u001b[0merror\u001b[0m\u001b[0;34m)\u001b[0m \u001b[0;32mas\u001b[0m \u001b[0me\u001b[0m\u001b[0;34m:\u001b[0m\u001b[0;34m\u001b[0m\u001b[0m\n\u001b[1;32m     66\u001b[0m             \u001b[0merrcode\u001b[0m \u001b[0;34m=\u001b[0m \u001b[0;32mNone\u001b[0m\u001b[0;34m\u001b[0m\u001b[0m\n",
      "\u001b[0;31mKeyboardInterrupt\u001b[0m: "
     ]
    }
   ],
   "source": [
    "#Executes about 8 minutes\n",
    "latlng = [] \n",
    "for s in df['advAddress']:\n",
    "    latlng.append(geocoder.yandex(s).latlng)\n",
    "df.drop('advAddress',axis=1,inplace=True)\n",
    "latlng = np.array(latlng)\n",
    "df['lat'] = latlng[:,0]\n",
    "df['lon'] = latlng[:,1]\n",
    "df.head()\n",
    "col = ['price','rooms', 'sq','lat', 'lon','description', 'Молодежная', 'Крылатское',\n",
    "       'Кунцевская', 'Славянский бульвар', 'Киевская', 'Парк Победы',\n",
    "       'Юго-Западная', 'Новопеределкино', 'Фили', 'Рассказовка', 'Кутузовская',\n",
    "       'Боровское шоссе', 'Солнцево', 'Деловой центр', 'Беговая',\n",
    "       'Белорусская', 'Говорово', 'Филевский парк', 'Тропарево', 'Саларьево',\n",
    "       'Пионерская']\n",
    "df = df.reindex(columns=col)\n",
    "df.to_csv('odi_latlon.csv',index=False)"
   ]
  },
  {
   "cell_type": "code",
   "execution_count": 8,
   "metadata": {
    "ExecuteTime": {
     "end_time": "2019-05-30T11:55:39.749805Z",
     "start_time": "2019-05-30T11:55:39.660797Z"
    }
   },
   "outputs": [
    {
     "data": {
      "text/html": [
       "<div>\n",
       "<style scoped>\n",
       "    .dataframe tbody tr th:only-of-type {\n",
       "        vertical-align: middle;\n",
       "    }\n",
       "\n",
       "    .dataframe tbody tr th {\n",
       "        vertical-align: top;\n",
       "    }\n",
       "\n",
       "    .dataframe thead th {\n",
       "        text-align: right;\n",
       "    }\n",
       "</style>\n",
       "<table border=\"1\" class=\"dataframe\">\n",
       "  <thead>\n",
       "    <tr style=\"text-align: right;\">\n",
       "      <th></th>\n",
       "      <th>price</th>\n",
       "      <th>rooms</th>\n",
       "      <th>sq</th>\n",
       "      <th>lat</th>\n",
       "      <th>lon</th>\n",
       "      <th>description</th>\n",
       "      <th>Молодежная</th>\n",
       "      <th>Крылатское</th>\n",
       "      <th>Кунцевская</th>\n",
       "      <th>Славянский бульвар</th>\n",
       "      <th>...</th>\n",
       "      <th>Боровское шоссе</th>\n",
       "      <th>Солнцево</th>\n",
       "      <th>Деловой центр</th>\n",
       "      <th>Беговая</th>\n",
       "      <th>Белорусская</th>\n",
       "      <th>Говорово</th>\n",
       "      <th>Филевский парк</th>\n",
       "      <th>Тропарево</th>\n",
       "      <th>Саларьево</th>\n",
       "      <th>Пионерская</th>\n",
       "    </tr>\n",
       "  </thead>\n",
       "  <tbody>\n",
       "    <tr>\n",
       "      <th>0</th>\n",
       "      <td>6 950 000</td>\n",
       "      <td>4</td>\n",
       "      <td>65</td>\n",
       "      <td>55.683686</td>\n",
       "      <td>37.284908</td>\n",
       "      <td>Продается 4-х комнатная квартира! г. Одинцово,...</td>\n",
       "      <td>0</td>\n",
       "      <td>0</td>\n",
       "      <td>0</td>\n",
       "      <td>0</td>\n",
       "      <td>...</td>\n",
       "      <td>0</td>\n",
       "      <td>0</td>\n",
       "      <td>0</td>\n",
       "      <td>0</td>\n",
       "      <td>0</td>\n",
       "      <td>0</td>\n",
       "      <td>0</td>\n",
       "      <td>0</td>\n",
       "      <td>0</td>\n",
       "      <td>0</td>\n",
       "    </tr>\n",
       "    <tr>\n",
       "      <th>1</th>\n",
       "      <td>4 485 000</td>\n",
       "      <td>1</td>\n",
       "      <td>38</td>\n",
       "      <td>55.696357</td>\n",
       "      <td>37.322934</td>\n",
       "      <td>Сколковский.ПЕРЕУСТУПКА от Собственника!!!  Де...</td>\n",
       "      <td>0</td>\n",
       "      <td>0</td>\n",
       "      <td>0</td>\n",
       "      <td>0</td>\n",
       "      <td>...</td>\n",
       "      <td>0</td>\n",
       "      <td>0</td>\n",
       "      <td>0</td>\n",
       "      <td>0</td>\n",
       "      <td>0</td>\n",
       "      <td>0</td>\n",
       "      <td>0</td>\n",
       "      <td>0</td>\n",
       "      <td>0</td>\n",
       "      <td>0</td>\n",
       "    </tr>\n",
       "    <tr>\n",
       "      <th>2</th>\n",
       "      <td>5 450 000</td>\n",
       "      <td>1</td>\n",
       "      <td>39</td>\n",
       "      <td>55.655249</td>\n",
       "      <td>37.231378</td>\n",
       "      <td>Проедается новая квартира с качественной дизай...</td>\n",
       "      <td>1</td>\n",
       "      <td>1</td>\n",
       "      <td>1</td>\n",
       "      <td>0</td>\n",
       "      <td>...</td>\n",
       "      <td>0</td>\n",
       "      <td>0</td>\n",
       "      <td>0</td>\n",
       "      <td>0</td>\n",
       "      <td>0</td>\n",
       "      <td>0</td>\n",
       "      <td>0</td>\n",
       "      <td>0</td>\n",
       "      <td>0</td>\n",
       "      <td>0</td>\n",
       "    </tr>\n",
       "    <tr>\n",
       "      <th>3</th>\n",
       "      <td>5 700 000</td>\n",
       "      <td>1</td>\n",
       "      <td>32</td>\n",
       "      <td>55.681047</td>\n",
       "      <td>37.245751</td>\n",
       "      <td>ЖК Одинбург! Квартира только после ремонта и у...</td>\n",
       "      <td>1</td>\n",
       "      <td>0</td>\n",
       "      <td>1</td>\n",
       "      <td>1</td>\n",
       "      <td>...</td>\n",
       "      <td>0</td>\n",
       "      <td>0</td>\n",
       "      <td>0</td>\n",
       "      <td>0</td>\n",
       "      <td>0</td>\n",
       "      <td>0</td>\n",
       "      <td>0</td>\n",
       "      <td>0</td>\n",
       "      <td>0</td>\n",
       "      <td>0</td>\n",
       "    </tr>\n",
       "    <tr>\n",
       "      <th>4</th>\n",
       "      <td>2 402 000</td>\n",
       "      <td>1</td>\n",
       "      <td>25</td>\n",
       "      <td>55.677905</td>\n",
       "      <td>37.287873</td>\n",
       "      <td>Продается квартира-студия площадью 25,4 кв.м н...</td>\n",
       "      <td>0</td>\n",
       "      <td>0</td>\n",
       "      <td>1</td>\n",
       "      <td>1</td>\n",
       "      <td>...</td>\n",
       "      <td>0</td>\n",
       "      <td>0</td>\n",
       "      <td>0</td>\n",
       "      <td>0</td>\n",
       "      <td>0</td>\n",
       "      <td>0</td>\n",
       "      <td>0</td>\n",
       "      <td>0</td>\n",
       "      <td>0</td>\n",
       "      <td>0</td>\n",
       "    </tr>\n",
       "  </tbody>\n",
       "</table>\n",
       "<p>5 rows × 27 columns</p>\n",
       "</div>"
      ],
      "text/plain": [
       "       price  rooms  sq        lat        lon  \\\n",
       "0  6 950 000      4  65  55.683686  37.284908   \n",
       "1  4 485 000      1  38  55.696357  37.322934   \n",
       "2  5 450 000      1  39  55.655249  37.231378   \n",
       "3  5 700 000      1  32  55.681047  37.245751   \n",
       "4  2 402 000      1  25  55.677905  37.287873   \n",
       "\n",
       "                                         description  Молодежная  Крылатское  \\\n",
       "0  Продается 4-х комнатная квартира! г. Одинцово,...           0           0   \n",
       "1  Сколковский.ПЕРЕУСТУПКА от Собственника!!!  Де...           0           0   \n",
       "2  Проедается новая квартира с качественной дизай...           1           1   \n",
       "3  ЖК Одинбург! Квартира только после ремонта и у...           1           0   \n",
       "4  Продается квартира-студия площадью 25,4 кв.м н...           0           0   \n",
       "\n",
       "   Кунцевская  Славянский бульвар     ...      Боровское шоссе  Солнцево  \\\n",
       "0           0                   0     ...                    0         0   \n",
       "1           0                   0     ...                    0         0   \n",
       "2           1                   0     ...                    0         0   \n",
       "3           1                   1     ...                    0         0   \n",
       "4           1                   1     ...                    0         0   \n",
       "\n",
       "   Деловой центр  Беговая  Белорусская  Говорово  Филевский парк  Тропарево  \\\n",
       "0              0        0            0         0               0          0   \n",
       "1              0        0            0         0               0          0   \n",
       "2              0        0            0         0               0          0   \n",
       "3              0        0            0         0               0          0   \n",
       "4              0        0            0         0               0          0   \n",
       "\n",
       "   Саларьево  Пионерская  \n",
       "0          0           0  \n",
       "1          0           0  \n",
       "2          0           0  \n",
       "3          0           0  \n",
       "4          0           0  \n",
       "\n",
       "[5 rows x 27 columns]"
      ]
     },
     "execution_count": 8,
     "metadata": {},
     "output_type": "execute_result"
    }
   ],
   "source": [
    "df = pd.read_csv('odi_latlon.csv')\n",
    "df.head()"
   ]
  },
  {
   "cell_type": "markdown",
   "metadata": {},
   "source": [
    "### Мы поняли, что добавлять каждую станцию метро - это не оч хорошая идея, потому что они \"идут\" вместе. Объеденили станции в три группы: желтая и красная - по цвету веток, остальные - отдельная группа. Получили вид итогового датасета."
   ]
  },
  {
   "cell_type": "code",
   "execution_count": null,
   "metadata": {
    "ExecuteTime": {
     "end_time": "2019-05-30T11:55:16.682386Z",
     "start_time": "2019-05-30T11:48:56.306Z"
    }
   },
   "outputs": [],
   "source": [
    "#To add subways isn't really good idea, so we united them in groups\n",
    "railway = ['Молодежная', \"Крылатское\", \"Кунцевская\", \"Славянский бульвар\", \"Киевская\",\"Парк Победы\",\"Фили\", \"Кутузовская\",\"Деловой центр\", \"Филевский парк\", \"Пионерская\",\"Беговая\", \"Белорусская\"]\n",
    "red = [\"Юго-Западная\", \"Тропарево\",\"Саларьево\"]\n",
    "yellow =[\"Новопеределкино\",\"Рассказовка\", \"Боровское шоссе\", \"Солнцево\",\"Говорово\"]\n",
    "col = df['Молодежная'].copy()\n",
    "for i in railway[1:]:\n",
    "    col += df[i]\n",
    "df['railway'] = col.apply(lambda x: 1 if x >= 1 else 0)\n",
    "col = df['Юго-Западная'].copy()\n",
    "for i in red[1:]:\n",
    "    col += df[i]\n",
    "df['red'] = col.apply(lambda x: 1 if x >= 1 else 0)\n",
    "col = df['Новопеределкино'].copy()\n",
    "for i in yellow[1:]:\n",
    "    col += df[i]\n",
    "df['yellow'] = col.apply(lambda x: 1 if x >= 1 else 0)\n",
    "df.drop(railway,axis=1,inplace=True)\n",
    "df.drop(red,axis=1,inplace=True)\n",
    "df.drop(yellow,axis=1,inplace=True)\n",
    "df['price'] = df['price'].apply(lambda x: x.replace(' ',''))\n",
    "df['price'].astype('int64')\n",
    "df['description'] = df['description'].apply(lambda x: str.lower(x))\n",
    "df.head()\n",
    "df.to_csv('odi_final.csv',index=False)"
   ]
  },
  {
   "cell_type": "code",
   "execution_count": 9,
   "metadata": {
    "ExecuteTime": {
     "end_time": "2019-05-30T11:55:47.057945Z",
     "start_time": "2019-05-30T11:55:46.998071Z"
    }
   },
   "outputs": [
    {
     "data": {
      "text/html": [
       "<div>\n",
       "<style scoped>\n",
       "    .dataframe tbody tr th:only-of-type {\n",
       "        vertical-align: middle;\n",
       "    }\n",
       "\n",
       "    .dataframe tbody tr th {\n",
       "        vertical-align: top;\n",
       "    }\n",
       "\n",
       "    .dataframe thead th {\n",
       "        text-align: right;\n",
       "    }\n",
       "</style>\n",
       "<table border=\"1\" class=\"dataframe\">\n",
       "  <thead>\n",
       "    <tr style=\"text-align: right;\">\n",
       "      <th></th>\n",
       "      <th>price</th>\n",
       "      <th>rooms</th>\n",
       "      <th>sq</th>\n",
       "      <th>lat</th>\n",
       "      <th>lon</th>\n",
       "      <th>description</th>\n",
       "      <th>railway</th>\n",
       "      <th>red</th>\n",
       "      <th>yellow</th>\n",
       "    </tr>\n",
       "  </thead>\n",
       "  <tbody>\n",
       "    <tr>\n",
       "      <th>0</th>\n",
       "      <td>6950000</td>\n",
       "      <td>4</td>\n",
       "      <td>65</td>\n",
       "      <td>55.683686</td>\n",
       "      <td>37.284908</td>\n",
       "      <td>продается 4-х комнатная квартира! г. одинцово,...</td>\n",
       "      <td>0</td>\n",
       "      <td>0</td>\n",
       "      <td>0</td>\n",
       "    </tr>\n",
       "    <tr>\n",
       "      <th>1</th>\n",
       "      <td>4485000</td>\n",
       "      <td>1</td>\n",
       "      <td>38</td>\n",
       "      <td>55.696357</td>\n",
       "      <td>37.322934</td>\n",
       "      <td>сколковский.переуступка от собственника!!!  де...</td>\n",
       "      <td>0</td>\n",
       "      <td>0</td>\n",
       "      <td>0</td>\n",
       "    </tr>\n",
       "    <tr>\n",
       "      <th>2</th>\n",
       "      <td>5450000</td>\n",
       "      <td>1</td>\n",
       "      <td>39</td>\n",
       "      <td>55.655249</td>\n",
       "      <td>37.231378</td>\n",
       "      <td>проедается новая квартира с качественной дизай...</td>\n",
       "      <td>1</td>\n",
       "      <td>0</td>\n",
       "      <td>0</td>\n",
       "    </tr>\n",
       "    <tr>\n",
       "      <th>3</th>\n",
       "      <td>5700000</td>\n",
       "      <td>1</td>\n",
       "      <td>32</td>\n",
       "      <td>55.681047</td>\n",
       "      <td>37.245751</td>\n",
       "      <td>жк одинбург! квартира только после ремонта и у...</td>\n",
       "      <td>1</td>\n",
       "      <td>0</td>\n",
       "      <td>0</td>\n",
       "    </tr>\n",
       "    <tr>\n",
       "      <th>4</th>\n",
       "      <td>2402000</td>\n",
       "      <td>1</td>\n",
       "      <td>25</td>\n",
       "      <td>55.677905</td>\n",
       "      <td>37.287873</td>\n",
       "      <td>продается квартира-студия площадью 25,4 кв.м н...</td>\n",
       "      <td>1</td>\n",
       "      <td>0</td>\n",
       "      <td>0</td>\n",
       "    </tr>\n",
       "  </tbody>\n",
       "</table>\n",
       "</div>"
      ],
      "text/plain": [
       "     price  rooms  sq        lat        lon  \\\n",
       "0  6950000      4  65  55.683686  37.284908   \n",
       "1  4485000      1  38  55.696357  37.322934   \n",
       "2  5450000      1  39  55.655249  37.231378   \n",
       "3  5700000      1  32  55.681047  37.245751   \n",
       "4  2402000      1  25  55.677905  37.287873   \n",
       "\n",
       "                                         description  railway  red  yellow  \n",
       "0  продается 4-х комнатная квартира! г. одинцово,...        0    0       0  \n",
       "1  сколковский.переуступка от собственника!!!  де...        0    0       0  \n",
       "2  проедается новая квартира с качественной дизай...        1    0       0  \n",
       "3  жк одинбург! квартира только после ремонта и у...        1    0       0  \n",
       "4  продается квартира-студия площадью 25,4 кв.м н...        1    0       0  "
      ]
     },
     "execution_count": 9,
     "metadata": {},
     "output_type": "execute_result"
    }
   ],
   "source": [
    "df = pd.read_csv('odi_final.csv')\n",
    "df.head()"
   ]
  },
  {
   "cell_type": "markdown",
   "metadata": {},
   "source": [
    "### Корреляция между квадратными метрами и количеством комнта сильная - убираем количество комнат из модели. "
   ]
  },
  {
   "cell_type": "code",
   "execution_count": 10,
   "metadata": {
    "ExecuteTime": {
     "end_time": "2019-05-30T11:55:50.034576Z",
     "start_time": "2019-05-30T11:55:50.003173Z"
    }
   },
   "outputs": [
    {
     "data": {
      "text/html": [
       "<div>\n",
       "<style scoped>\n",
       "    .dataframe tbody tr th:only-of-type {\n",
       "        vertical-align: middle;\n",
       "    }\n",
       "\n",
       "    .dataframe tbody tr th {\n",
       "        vertical-align: top;\n",
       "    }\n",
       "\n",
       "    .dataframe thead th {\n",
       "        text-align: right;\n",
       "    }\n",
       "</style>\n",
       "<table border=\"1\" class=\"dataframe\">\n",
       "  <thead>\n",
       "    <tr style=\"text-align: right;\">\n",
       "      <th></th>\n",
       "      <th>price</th>\n",
       "      <th>rooms</th>\n",
       "      <th>sq</th>\n",
       "      <th>lat</th>\n",
       "      <th>lon</th>\n",
       "      <th>railway</th>\n",
       "      <th>red</th>\n",
       "      <th>yellow</th>\n",
       "    </tr>\n",
       "  </thead>\n",
       "  <tbody>\n",
       "    <tr>\n",
       "      <th>price</th>\n",
       "      <td>1.000000</td>\n",
       "      <td>0.610630</td>\n",
       "      <td>0.823488</td>\n",
       "      <td>0.033051</td>\n",
       "      <td>0.057811</td>\n",
       "      <td>-0.068953</td>\n",
       "      <td>-0.081625</td>\n",
       "      <td>-0.020665</td>\n",
       "    </tr>\n",
       "    <tr>\n",
       "      <th>rooms</th>\n",
       "      <td>0.610630</td>\n",
       "      <td>1.000000</td>\n",
       "      <td>0.820306</td>\n",
       "      <td>0.027184</td>\n",
       "      <td>0.005037</td>\n",
       "      <td>-0.044604</td>\n",
       "      <td>-0.043580</td>\n",
       "      <td>0.017983</td>\n",
       "    </tr>\n",
       "    <tr>\n",
       "      <th>sq</th>\n",
       "      <td>0.823488</td>\n",
       "      <td>0.820306</td>\n",
       "      <td>1.000000</td>\n",
       "      <td>0.023177</td>\n",
       "      <td>0.035656</td>\n",
       "      <td>-0.009463</td>\n",
       "      <td>-0.064793</td>\n",
       "      <td>-0.012960</td>\n",
       "    </tr>\n",
       "    <tr>\n",
       "      <th>lat</th>\n",
       "      <td>0.033051</td>\n",
       "      <td>0.027184</td>\n",
       "      <td>0.023177</td>\n",
       "      <td>1.000000</td>\n",
       "      <td>0.741241</td>\n",
       "      <td>-0.010806</td>\n",
       "      <td>-0.131368</td>\n",
       "      <td>-0.005670</td>\n",
       "    </tr>\n",
       "    <tr>\n",
       "      <th>lon</th>\n",
       "      <td>0.057811</td>\n",
       "      <td>0.005037</td>\n",
       "      <td>0.035656</td>\n",
       "      <td>0.741241</td>\n",
       "      <td>1.000000</td>\n",
       "      <td>-0.004548</td>\n",
       "      <td>-0.138533</td>\n",
       "      <td>-0.051824</td>\n",
       "    </tr>\n",
       "    <tr>\n",
       "      <th>railway</th>\n",
       "      <td>-0.068953</td>\n",
       "      <td>-0.044604</td>\n",
       "      <td>-0.009463</td>\n",
       "      <td>-0.010806</td>\n",
       "      <td>-0.004548</td>\n",
       "      <td>1.000000</td>\n",
       "      <td>0.149773</td>\n",
       "      <td>-0.173609</td>\n",
       "    </tr>\n",
       "    <tr>\n",
       "      <th>red</th>\n",
       "      <td>-0.081625</td>\n",
       "      <td>-0.043580</td>\n",
       "      <td>-0.064793</td>\n",
       "      <td>-0.131368</td>\n",
       "      <td>-0.138533</td>\n",
       "      <td>0.149773</td>\n",
       "      <td>1.000000</td>\n",
       "      <td>-0.036145</td>\n",
       "    </tr>\n",
       "    <tr>\n",
       "      <th>yellow</th>\n",
       "      <td>-0.020665</td>\n",
       "      <td>0.017983</td>\n",
       "      <td>-0.012960</td>\n",
       "      <td>-0.005670</td>\n",
       "      <td>-0.051824</td>\n",
       "      <td>-0.173609</td>\n",
       "      <td>-0.036145</td>\n",
       "      <td>1.000000</td>\n",
       "    </tr>\n",
       "  </tbody>\n",
       "</table>\n",
       "</div>"
      ],
      "text/plain": [
       "            price     rooms        sq       lat       lon   railway       red  \\\n",
       "price    1.000000  0.610630  0.823488  0.033051  0.057811 -0.068953 -0.081625   \n",
       "rooms    0.610630  1.000000  0.820306  0.027184  0.005037 -0.044604 -0.043580   \n",
       "sq       0.823488  0.820306  1.000000  0.023177  0.035656 -0.009463 -0.064793   \n",
       "lat      0.033051  0.027184  0.023177  1.000000  0.741241 -0.010806 -0.131368   \n",
       "lon      0.057811  0.005037  0.035656  0.741241  1.000000 -0.004548 -0.138533   \n",
       "railway -0.068953 -0.044604 -0.009463 -0.010806 -0.004548  1.000000  0.149773   \n",
       "red     -0.081625 -0.043580 -0.064793 -0.131368 -0.138533  0.149773  1.000000   \n",
       "yellow  -0.020665  0.017983 -0.012960 -0.005670 -0.051824 -0.173609 -0.036145   \n",
       "\n",
       "           yellow  \n",
       "price   -0.020665  \n",
       "rooms    0.017983  \n",
       "sq      -0.012960  \n",
       "lat     -0.005670  \n",
       "lon     -0.051824  \n",
       "railway -0.173609  \n",
       "red     -0.036145  \n",
       "yellow   1.000000  "
      ]
     },
     "execution_count": 10,
     "metadata": {},
     "output_type": "execute_result"
    }
   ],
   "source": [
    "df.corr()"
   ]
  },
  {
   "cell_type": "code",
   "execution_count": 11,
   "metadata": {
    "ExecuteTime": {
     "end_time": "2019-05-30T11:55:52.768035Z",
     "start_time": "2019-05-30T11:55:52.710961Z"
    }
   },
   "outputs": [
    {
     "data": {
      "text/html": [
       "<div>\n",
       "<style scoped>\n",
       "    .dataframe tbody tr th:only-of-type {\n",
       "        vertical-align: middle;\n",
       "    }\n",
       "\n",
       "    .dataframe tbody tr th {\n",
       "        vertical-align: top;\n",
       "    }\n",
       "\n",
       "    .dataframe thead th {\n",
       "        text-align: right;\n",
       "    }\n",
       "</style>\n",
       "<table border=\"1\" class=\"dataframe\">\n",
       "  <thead>\n",
       "    <tr style=\"text-align: right;\">\n",
       "      <th></th>\n",
       "      <th>price</th>\n",
       "      <th>rooms</th>\n",
       "      <th>sq</th>\n",
       "      <th>lat</th>\n",
       "      <th>lon</th>\n",
       "      <th>railway</th>\n",
       "      <th>red</th>\n",
       "      <th>yellow</th>\n",
       "    </tr>\n",
       "  </thead>\n",
       "  <tbody>\n",
       "    <tr>\n",
       "      <th>count</th>\n",
       "      <td>1.497000e+03</td>\n",
       "      <td>1497.000000</td>\n",
       "      <td>1497.000000</td>\n",
       "      <td>1497.000000</td>\n",
       "      <td>1497.000000</td>\n",
       "      <td>1497.000000</td>\n",
       "      <td>1497.000000</td>\n",
       "      <td>1497.000000</td>\n",
       "    </tr>\n",
       "    <tr>\n",
       "      <th>mean</th>\n",
       "      <td>7.173949e+06</td>\n",
       "      <td>1.937876</td>\n",
       "      <td>60.323981</td>\n",
       "      <td>55.680439</td>\n",
       "      <td>37.285373</td>\n",
       "      <td>0.566466</td>\n",
       "      <td>0.031396</td>\n",
       "      <td>0.038744</td>\n",
       "    </tr>\n",
       "    <tr>\n",
       "      <th>std</th>\n",
       "      <td>4.204186e+06</td>\n",
       "      <td>0.886328</td>\n",
       "      <td>25.325552</td>\n",
       "      <td>0.015960</td>\n",
       "      <td>0.031733</td>\n",
       "      <td>0.495728</td>\n",
       "      <td>0.174444</td>\n",
       "      <td>0.193049</td>\n",
       "    </tr>\n",
       "    <tr>\n",
       "      <th>min</th>\n",
       "      <td>2.170011e+06</td>\n",
       "      <td>1.000000</td>\n",
       "      <td>18.000000</td>\n",
       "      <td>55.652557</td>\n",
       "      <td>37.227129</td>\n",
       "      <td>0.000000</td>\n",
       "      <td>0.000000</td>\n",
       "      <td>0.000000</td>\n",
       "    </tr>\n",
       "    <tr>\n",
       "      <th>25%</th>\n",
       "      <td>4.970000e+06</td>\n",
       "      <td>1.000000</td>\n",
       "      <td>42.000000</td>\n",
       "      <td>55.664822</td>\n",
       "      <td>37.258615</td>\n",
       "      <td>0.000000</td>\n",
       "      <td>0.000000</td>\n",
       "      <td>0.000000</td>\n",
       "    </tr>\n",
       "    <tr>\n",
       "      <th>50%</th>\n",
       "      <td>6.126820e+06</td>\n",
       "      <td>2.000000</td>\n",
       "      <td>57.000000</td>\n",
       "      <td>55.681981</td>\n",
       "      <td>37.289562</td>\n",
       "      <td>1.000000</td>\n",
       "      <td>0.000000</td>\n",
       "      <td>0.000000</td>\n",
       "    </tr>\n",
       "    <tr>\n",
       "      <th>75%</th>\n",
       "      <td>8.000000e+06</td>\n",
       "      <td>3.000000</td>\n",
       "      <td>72.000000</td>\n",
       "      <td>55.694758</td>\n",
       "      <td>37.319161</td>\n",
       "      <td>1.000000</td>\n",
       "      <td>0.000000</td>\n",
       "      <td>0.000000</td>\n",
       "    </tr>\n",
       "    <tr>\n",
       "      <th>max</th>\n",
       "      <td>5.600000e+07</td>\n",
       "      <td>5.000000</td>\n",
       "      <td>249.000000</td>\n",
       "      <td>55.707415</td>\n",
       "      <td>37.333265</td>\n",
       "      <td>1.000000</td>\n",
       "      <td>1.000000</td>\n",
       "      <td>1.000000</td>\n",
       "    </tr>\n",
       "  </tbody>\n",
       "</table>\n",
       "</div>"
      ],
      "text/plain": [
       "              price        rooms           sq          lat          lon  \\\n",
       "count  1.497000e+03  1497.000000  1497.000000  1497.000000  1497.000000   \n",
       "mean   7.173949e+06     1.937876    60.323981    55.680439    37.285373   \n",
       "std    4.204186e+06     0.886328    25.325552     0.015960     0.031733   \n",
       "min    2.170011e+06     1.000000    18.000000    55.652557    37.227129   \n",
       "25%    4.970000e+06     1.000000    42.000000    55.664822    37.258615   \n",
       "50%    6.126820e+06     2.000000    57.000000    55.681981    37.289562   \n",
       "75%    8.000000e+06     3.000000    72.000000    55.694758    37.319161   \n",
       "max    5.600000e+07     5.000000   249.000000    55.707415    37.333265   \n",
       "\n",
       "           railway          red       yellow  \n",
       "count  1497.000000  1497.000000  1497.000000  \n",
       "mean      0.566466     0.031396     0.038744  \n",
       "std       0.495728     0.174444     0.193049  \n",
       "min       0.000000     0.000000     0.000000  \n",
       "25%       0.000000     0.000000     0.000000  \n",
       "50%       1.000000     0.000000     0.000000  \n",
       "75%       1.000000     0.000000     0.000000  \n",
       "max       1.000000     1.000000     1.000000  "
      ]
     },
     "execution_count": 11,
     "metadata": {},
     "output_type": "execute_result"
    }
   ],
   "source": [
    "df.describe()"
   ]
  },
  {
   "cell_type": "markdown",
   "metadata": {},
   "source": [
    "### Объявление с максимальной ценой"
   ]
  },
  {
   "cell_type": "code",
   "execution_count": 12,
   "metadata": {
    "ExecuteTime": {
     "end_time": "2019-05-30T11:56:05.958969Z",
     "start_time": "2019-05-30T11:56:05.942547Z"
    }
   },
   "outputs": [
    {
     "data": {
      "text/html": [
       "<div>\n",
       "<style scoped>\n",
       "    .dataframe tbody tr th:only-of-type {\n",
       "        vertical-align: middle;\n",
       "    }\n",
       "\n",
       "    .dataframe tbody tr th {\n",
       "        vertical-align: top;\n",
       "    }\n",
       "\n",
       "    .dataframe thead th {\n",
       "        text-align: right;\n",
       "    }\n",
       "</style>\n",
       "<table border=\"1\" class=\"dataframe\">\n",
       "  <thead>\n",
       "    <tr style=\"text-align: right;\">\n",
       "      <th></th>\n",
       "      <th>1409</th>\n",
       "    </tr>\n",
       "  </thead>\n",
       "  <tbody>\n",
       "    <tr>\n",
       "      <th>price</th>\n",
       "      <td>56000000</td>\n",
       "    </tr>\n",
       "    <tr>\n",
       "      <th>rooms</th>\n",
       "      <td>4</td>\n",
       "    </tr>\n",
       "    <tr>\n",
       "      <th>sq</th>\n",
       "      <td>249</td>\n",
       "    </tr>\n",
       "    <tr>\n",
       "      <th>lat</th>\n",
       "      <td>55.6526</td>\n",
       "    </tr>\n",
       "    <tr>\n",
       "      <th>lon</th>\n",
       "      <td>37.244</td>\n",
       "    </tr>\n",
       "    <tr>\n",
       "      <th>description</th>\n",
       "      <td>лот: 0500477. квартира под отделку 250 кв.м на...</td>\n",
       "    </tr>\n",
       "    <tr>\n",
       "      <th>railway</th>\n",
       "      <td>1</td>\n",
       "    </tr>\n",
       "    <tr>\n",
       "      <th>red</th>\n",
       "      <td>0</td>\n",
       "    </tr>\n",
       "    <tr>\n",
       "      <th>yellow</th>\n",
       "      <td>0</td>\n",
       "    </tr>\n",
       "  </tbody>\n",
       "</table>\n",
       "</div>"
      ],
      "text/plain": [
       "                                                          1409\n",
       "price                                                 56000000\n",
       "rooms                                                        4\n",
       "sq                                                         249\n",
       "lat                                                    55.6526\n",
       "lon                                                     37.244\n",
       "description  лот: 0500477. квартира под отделку 250 кв.м на...\n",
       "railway                                                      1\n",
       "red                                                          0\n",
       "yellow                                                       0"
      ]
     },
     "execution_count": 12,
     "metadata": {},
     "output_type": "execute_result"
    }
   ],
   "source": [
    "df[df['price'] == df['price'].max()].T"
   ]
  },
  {
   "cell_type": "markdown",
   "metadata": {},
   "source": [
    "## II. Model #1. Simple Linear Regression"
   ]
  },
  {
   "cell_type": "code",
   "execution_count": 13,
   "metadata": {
    "ExecuteTime": {
     "end_time": "2019-05-30T11:56:10.220562Z",
     "start_time": "2019-05-30T11:56:10.181431Z"
    }
   },
   "outputs": [
    {
     "name": "stdout",
     "output_type": "stream",
     "text": [
      "                            OLS Regression Results                            \n",
      "==============================================================================\n",
      "Dep. Variable:                  price   R-squared:                       1.000\n",
      "Model:                            OLS   Adj. R-squared:                  1.000\n",
      "Method:                 Least Squares   F-statistic:                 1.343e+06\n",
      "Date:                Thu, 30 May 2019   Prob (F-statistic):               0.00\n",
      "Time:                        14:56:10   Log-Likelihood:                 284.13\n",
      "No. Observations:                1197   AIC:                            -556.3\n",
      "Df Residuals:                    1191   BIC:                            -525.7\n",
      "Df Model:                           6                                         \n",
      "Covariance Type:            nonrobust                                         \n",
      "==============================================================================\n",
      "                 coef    std err          t      P>|t|      [0.025      0.975]\n",
      "------------------------------------------------------------------------------\n",
      "sq             0.0135      0.000     61.535      0.000       0.013       0.014\n",
      "lat           -0.8081      0.149     -5.438      0.000      -1.100      -0.517\n",
      "lon            1.6067      0.222      7.240      0.000       1.171       2.042\n",
      "railway       -0.0497      0.011     -4.322      0.000      -0.072      -0.027\n",
      "red           -0.1362      0.031     -4.338      0.000      -0.198      -0.075\n",
      "yellow        -0.0243      0.029     -0.828      0.408      -0.082       0.033\n",
      "==============================================================================\n",
      "Omnibus:                      141.931   Durbin-Watson:                   2.053\n",
      "Prob(Omnibus):                  0.000   Jarque-Bera (JB):              894.938\n",
      "Skew:                           0.335   Prob(JB):                    4.64e-195\n",
      "Kurtosis:                       7.183   Cond. No.                     4.44e+03\n",
      "==============================================================================\n",
      "\n",
      "Warnings:\n",
      "[1] Standard Errors assume that the covariance matrix of the errors is correctly specified.\n",
      "[2] The condition number is large, 4.44e+03. This might indicate that there are\n",
      "strong multicollinearity or other numerical problems.\n"
     ]
    }
   ],
   "source": [
    "df.drop('rooms',axis=1,inplace=True)\n",
    "X_train, X_test, Y_train, Y_test  = train_test_split(df.drop(['price'], axis=1),\n",
    "                                                     np.log(df['price']), test_size=0.2, random_state=3)\n",
    "lr = sm.OLS(Y_train,X_train.drop(['description'],axis=1)).fit()\n",
    "print(lr.summary())"
   ]
  },
  {
   "cell_type": "markdown",
   "metadata": {},
   "source": [
    "### R2 и Adjusted R2"
   ]
  },
  {
   "cell_type": "code",
   "execution_count": 14,
   "metadata": {
    "ExecuteTime": {
     "end_time": "2019-05-30T11:56:14.710042Z",
     "start_time": "2019-05-30T11:56:14.691430Z"
    }
   },
   "outputs": [
    {
     "name": "stdout",
     "output_type": "stream",
     "text": [
      "In sample r2: 0.7687854294881439 Out of sample r2: 0.7385740295124328\n"
     ]
    }
   ],
   "source": [
    "print('In sample r2:',adj_r2_score(Y_train,lr.predict(X_train.drop('description',axis=1)),X_train.shape[1] - 1), \n",
    "      'Out of sample r2:',adj_r2_score(Y_test,lr.predict(X_test.drop('description',axis=1)),X_train.shape[1]))"
   ]
  },
  {
   "cell_type": "markdown",
   "metadata": {},
   "source": [
    "### Проверка предпосылок теоремы Гаусса-Маркова\n",
    "1. Равенство матожидания 0"
   ]
  },
  {
   "cell_type": "code",
   "execution_count": 15,
   "metadata": {
    "ExecuteTime": {
     "end_time": "2019-05-30T11:56:42.059390Z",
     "start_time": "2019-05-30T11:56:41.800480Z"
    }
   },
   "outputs": [
    {
     "name": "stdout",
     "output_type": "stream",
     "text": [
      "Residuals mean: -3.0051958806700314e-06\n"
     ]
    }
   ],
   "source": [
    "eps = Y_train - lr.predict(X_train.drop('description',axis=1))\n",
    "print('Residuals mean:', eps.mean())"
   ]
  },
  {
   "cell_type": "markdown",
   "metadata": {},
   "source": [
    "2. Независимость остатков и переменных видна из графика"
   ]
  },
  {
   "cell_type": "code",
   "execution_count": 16,
   "metadata": {
    "ExecuteTime": {
     "end_time": "2019-05-30T11:56:43.129988Z",
     "start_time": "2019-05-30T11:56:42.942352Z"
    }
   },
   "outputs": [
    {
     "data": {
      "image/png": "[encoded data removed]",
      "text/plain": [
       "<Figure size 576x576 with 1 Axes>"
      ]
     },
     "metadata": {},
     "output_type": "display_data"
    }
   ],
   "source": [
    "plt.figure(figsize=(8,8))\n",
    "plt.scatter(range(len(eps)),eps,s=3);"
   ]
  },
  {
   "cell_type": "markdown",
   "metadata": {},
   "source": [
    "3. Согласно тесту условие гетероскедастичности не выполняется"
   ]
  },
  {
   "cell_type": "code",
   "execution_count": 17,
   "metadata": {
    "ExecuteTime": {
     "end_time": "2019-05-30T11:56:43.844619Z",
     "start_time": "2019-05-30T11:56:43.830269Z"
    }
   },
   "outputs": [
    {
     "name": "stdout",
     "output_type": "stream",
     "text": [
      "P-value: 3.099797766677566e-52\n"
     ]
    }
   ],
   "source": [
    "p_value = het_breuschpagan(eps,lr.model.exog)[-1]\n",
    "print('P-value:', p_value)"
   ]
  },
  {
   "cell_type": "markdown",
   "metadata": {},
   "source": [
    "4. Не понимаем, как проверить ковариации остатков"
   ]
  },
  {
   "cell_type": "markdown",
   "metadata": {},
   "source": [
    "### Проверка нормальности распредления остатков\n",
    "Из теста на нормальность, как и из графика видно, что остатки не распределны нормально"
   ]
  },
  {
   "cell_type": "code",
   "execution_count": 18,
   "metadata": {
    "ExecuteTime": {
     "end_time": "2019-05-30T11:56:45.082362Z",
     "start_time": "2019-05-30T11:56:44.898540Z"
    }
   },
   "outputs": [
    {
     "name": "stdout",
     "output_type": "stream",
     "text": [
      "P-value: 1.5137330946725402e-31 \n",
      "p-value почти ноль - отклоняем нулевую гипотезу, поэтому распредление остатков не является нормальным\n"
     ]
    },
    {
     "data": {
      "image/png": "[encoded data removed]",
      "text/plain": [
       "<Figure size 576x576 with 1 Axes>"
      ]
     },
     "metadata": {},
     "output_type": "display_data"
    }
   ],
   "source": [
    "plt.figure(figsize=(8,8))\n",
    "plt.hist(eps)\n",
    "print('P-value:', normaltest(eps)[-1], '\\np-value почти ноль - отклоняем нулевую гипотезу, поэтому распредление остатков не является нормальным')"
   ]
  },
  {
   "cell_type": "markdown",
   "metadata": {},
   "source": [
    "## Model #2. Linear Regression with Unigrams"
   ]
  },
  {
   "cell_type": "code",
   "execution_count": 19,
   "metadata": {
    "ExecuteTime": {
     "end_time": "2019-05-30T11:56:46.109900Z",
     "start_time": "2019-05-30T11:56:45.887391Z"
    }
   },
   "outputs": [
    {
     "data": {
      "text/plain": [
       "(1197, 140)"
      ]
     },
     "execution_count": 19,
     "metadata": {},
     "output_type": "execute_result"
    }
   ],
   "source": [
    "stop_words = stopwords.words('russian')\n",
    "vectorizer_uni = CountVectorizer(min_df=120,stop_words=stop_words)\n",
    "train_uni_descr = vectorizer_uni.fit_transform(X_train['description'])\n",
    "test_uni_descr = vectorizer_uni.transform(X_test['description'])\n",
    "train_uni_descr.shape"
   ]
  },
  {
   "cell_type": "code",
   "execution_count": 20,
   "metadata": {
    "ExecuteTime": {
     "end_time": "2019-05-30T11:56:46.570078Z",
     "start_time": "2019-05-30T11:56:46.554606Z"
    }
   },
   "outputs": [
    {
     "data": {
      "text/plain": [
       "(1197, 143)"
      ]
     },
     "execution_count": 20,
     "metadata": {},
     "output_type": "execute_result"
    }
   ],
   "source": [
    "X_train_unigram = np.hstack([X_train[['sq','lat','lon']], train_uni_descr.toarray()])\n",
    "X_test_unigram = np.hstack([X_test[['sq','lat','lon']], test_uni_descr.toarray()])\n",
    "X_train_unigram.shape"
   ]
  },
  {
   "cell_type": "code",
   "execution_count": 21,
   "metadata": {
    "ExecuteTime": {
     "end_time": "2019-05-30T11:56:47.130145Z",
     "start_time": "2019-05-30T11:56:47.119111Z"
    }
   },
   "outputs": [
    {
     "data": {
      "text/plain": [
       "array([59.      , 55.697904, 37.320158,  0.      ,  0.      ,  1.      ,\n",
       "        0.      ,  2.      ,  0.      ,  3.      ,  0.      ,  2.      ,\n",
       "        0.      ,  0.      ,  0.      ,  0.      ,  0.      ,  0.      ,\n",
       "        0.      ,  0.      ,  0.      ,  0.      ,  1.      ,  0.      ,\n",
       "        0.      ,  2.      ,  0.      ,  0.      ,  0.      ,  0.      ,\n",
       "        0.      ,  0.      ,  1.      ,  0.      ,  2.      ,  0.      ,\n",
       "        0.      ,  0.      ,  0.      ,  3.      ,  0.      ,  0.      ,\n",
       "        0.      ,  0.      ,  0.      ,  0.      ,  1.      ,  2.      ,\n",
       "        2.      ,  1.      ,  0.      ,  1.      ,  0.      ,  0.      ,\n",
       "        0.      ,  0.      ,  0.      ,  1.      ,  0.      ,  0.      ,\n",
       "        0.      ,  0.      ,  0.      ,  1.      ,  0.      ,  0.      ,\n",
       "        1.      ,  0.      ,  0.      ,  0.      ,  0.      ,  0.      ,\n",
       "        0.      ,  2.      ,  0.      ,  1.      ,  1.      ,  1.      ,\n",
       "        1.      ,  0.      ,  1.      ,  0.      ,  0.      ,  1.      ,\n",
       "        0.      ,  0.      ,  0.      ,  0.      ,  0.      ,  0.      ,\n",
       "        1.      ,  0.      ,  1.      ,  1.      ,  0.      ,  1.      ,\n",
       "        1.      ,  1.      ,  0.      ,  1.      ,  1.      ,  1.      ,\n",
       "        0.      ,  0.      ,  0.      ,  0.      ,  1.      ,  0.      ,\n",
       "        0.      ,  0.      ,  0.      ,  0.      ,  1.      ,  0.      ,\n",
       "        0.      ,  0.      ,  1.      ,  0.      ,  2.      ,  0.      ,\n",
       "        0.      ,  0.      ,  0.      ,  0.      ,  0.      ,  0.      ,\n",
       "        1.      ,  0.      ,  0.      ,  0.      ,  0.      ,  0.      ,\n",
       "        0.      ,  0.      ,  0.      ,  1.      ,  0.      ,  0.      ,\n",
       "        0.      ,  1.      ,  1.      ,  1.      ,  0.      ])"
      ]
     },
     "execution_count": 21,
     "metadata": {},
     "output_type": "execute_result"
    }
   ],
   "source": [
    "X_test_unigram[0,:]"
   ]
  },
  {
   "cell_type": "code",
   "execution_count": 22,
   "metadata": {
    "ExecuteTime": {
     "end_time": "2019-05-30T11:56:48.104623Z",
     "start_time": "2019-05-30T11:56:47.954369Z"
    }
   },
   "outputs": [
    {
     "name": "stdout",
     "output_type": "stream",
     "text": [
      "                            OLS Regression Results                            \n",
      "==============================================================================\n",
      "Dep. Variable:                  price   R-squared:                       1.000\n",
      "Model:                            OLS   Adj. R-squared:                  1.000\n",
      "Method:                 Least Squares   F-statistic:                 8.390e+04\n",
      "Date:                Thu, 30 May 2019   Prob (F-statistic):               0.00\n",
      "Time:                        14:56:48   Log-Likelihood:                 595.72\n",
      "No. Observations:                1197   AIC:                            -905.4\n",
      "Df Residuals:                    1054   BIC:                            -177.9\n",
      "Df Model:                         143                                         \n",
      "Covariance Type:            nonrobust                                         \n",
      "==============================================================================\n",
      "                 coef    std err          t      P>|t|      [0.025      0.975]\n",
      "------------------------------------------------------------------------------\n",
      "x1             0.0129      0.000     60.564      0.000       0.012       0.013\n",
      "x2            -0.7434      0.174     -4.265      0.000      -1.085      -0.401\n",
      "x3             1.5089      0.260      5.795      0.000       0.998       2.020\n",
      "x4             0.0112      0.011      1.034      0.301      -0.010       0.032\n",
      "x5            -0.0038      0.013     -0.289      0.773      -0.030       0.022\n",
      "x6            -0.0100      0.018     -0.547      0.585      -0.046       0.026\n",
      "x7            -0.0143      0.011     -1.328      0.184      -0.036       0.007\n",
      "x8             0.0200      0.016      1.232      0.218      -0.012       0.052\n",
      "x9            -0.0108      0.014     -0.798      0.425      -0.037       0.016\n",
      "x10            0.0174      0.016      1.116      0.265      -0.013       0.048\n",
      "x11            0.0161      0.019      0.852      0.395      -0.021       0.053\n",
      "x12            0.1336      0.045      2.987      0.003       0.046       0.221\n",
      "x13           -0.0323      0.020     -1.646      0.100      -0.071       0.006\n",
      "x14            0.0250      0.016      1.572      0.116      -0.006       0.056\n",
      "x15            0.0270      0.022      1.220      0.223      -0.016       0.070\n",
      "x16           -0.0022      0.014     -0.151      0.880      -0.030       0.026\n",
      "x17            0.0152      0.059      0.258      0.796      -0.101       0.131\n",
      "x18            0.0112      0.017      0.673      0.501      -0.022       0.044\n",
      "x19           -0.0263      0.016     -1.660      0.097      -0.057       0.005\n",
      "x20            0.0053      0.018      0.298      0.766      -0.029       0.040\n",
      "x21            0.0092      0.018      0.499      0.618      -0.027       0.045\n",
      "x22           -0.0002      0.017     -0.011      0.991      -0.033       0.033\n",
      "x23           -0.0051      0.060     -0.085      0.932      -0.122       0.112\n",
      "x24           -0.0043      0.015     -0.291      0.771      -0.033       0.024\n",
      "x25            0.0473      0.016      2.969      0.003       0.016       0.079\n",
      "x26           -0.0487      0.020     -2.480      0.013      -0.087      -0.010\n",
      "x27           -0.0247      0.016     -1.500      0.134      -0.057       0.008\n",
      "x28           -0.0139      0.013     -1.096      0.273      -0.039       0.011\n",
      "x29           -0.0012      0.018     -0.069      0.945      -0.037       0.034\n",
      "x30           -0.0076      0.020     -0.371      0.711      -0.048       0.033\n",
      "x31            0.0248      0.018      1.408      0.159      -0.010       0.059\n",
      "x32            0.0056      0.025      0.230      0.818      -0.042       0.054\n",
      "x33           -0.0234      0.025     -0.940      0.347      -0.072       0.025\n",
      "x34            0.0046      0.010      0.459      0.646      -0.015       0.024\n",
      "x35            0.0076      0.010      0.785      0.433      -0.011       0.027\n",
      "x36           -0.0048      0.013     -0.368      0.713      -0.030       0.021\n",
      "x37            0.0044      0.019      0.228      0.820      -0.034       0.043\n",
      "x38            0.0827      0.044      1.878      0.061      -0.004       0.169\n",
      "x39           -0.0209      0.023     -0.904      0.366      -0.066       0.024\n",
      "x40            0.0424      0.028      1.515      0.130      -0.013       0.097\n",
      "x41           -0.0750      0.032     -2.349      0.019      -0.138      -0.012\n",
      "x42           -0.0283      0.011     -2.487      0.013      -0.051      -0.006\n",
      "x43           -0.0673      0.042     -1.619      0.106      -0.149       0.014\n",
      "x44           -0.0067      0.016     -0.433      0.665      -0.037       0.024\n",
      "x45           -0.0149      0.017     -0.853      0.394      -0.049       0.019\n",
      "x46           -0.0281      0.016     -1.707      0.088      -0.060       0.004\n",
      "x47           -0.0080      0.005     -1.562      0.119      -0.018       0.002\n",
      "x48           -0.0626      0.029     -2.175      0.030      -0.119      -0.006\n",
      "x49            0.0244      0.008      3.182      0.002       0.009       0.039\n",
      "x50            0.0303      0.012      2.565      0.010       0.007       0.053\n",
      "x51            0.0076      0.015      0.510      0.610      -0.022       0.037\n",
      "x52           -0.0142      0.013     -1.088      0.277      -0.040       0.011\n",
      "x53            0.1020      0.018      5.545      0.000       0.066       0.138\n",
      "x54            0.0296      0.021      1.415      0.157      -0.011       0.071\n",
      "x55           -0.0368      0.014     -2.696      0.007      -0.064      -0.010\n",
      "x56            0.0026      0.014      0.186      0.852      -0.024       0.030\n",
      "x57           -0.0006      0.013     -0.044      0.965      -0.026       0.025\n",
      "x58            0.0326      0.039      0.841      0.401      -0.044       0.109\n",
      "x59            0.0219      0.015      1.433      0.152      -0.008       0.052\n",
      "x60            0.0306      0.012      2.600      0.009       0.008       0.054\n",
      "x61           -0.0315      0.018     -1.753      0.080      -0.067       0.004\n",
      "x62            0.0054      0.014      0.399      0.690      -0.021       0.032\n",
      "x63           -0.0023      0.013     -0.173      0.862      -0.028       0.024\n",
      "x64            0.1298      0.023      5.622      0.000       0.085       0.175\n",
      "x65            0.0656      0.017      3.906      0.000       0.033       0.099\n",
      "x66           -0.0094      0.010     -0.916      0.360      -0.030       0.011\n",
      "x67            0.0019      0.031      0.061      0.951      -0.059       0.063\n",
      "x68           -0.0127      0.010     -1.332      0.183      -0.031       0.006\n",
      "x69            0.0008      0.011      0.073      0.942      -0.020       0.021\n",
      "x70           -0.0015      0.016     -0.099      0.921      -0.032       0.029\n",
      "x71           -0.0063      0.024     -0.265      0.791      -0.053       0.041\n",
      "x72           -0.0203      0.023     -0.880      0.379      -0.066       0.025\n",
      "x73           -0.0202      0.015     -1.303      0.193      -0.051       0.010\n",
      "x74           -0.0061      0.023     -0.269      0.788      -0.050       0.038\n",
      "x75            0.0051      0.021      0.240      0.810      -0.037       0.047\n",
      "x76            0.0097      0.022      0.440      0.660      -0.034       0.053\n",
      "x77            0.0895      0.033      2.734      0.006       0.025       0.154\n",
      "x78           -0.1051      0.034     -3.098      0.002      -0.172      -0.039\n",
      "x79           -0.0070      0.008     -0.861      0.389      -0.023       0.009\n",
      "x80            0.0008      0.011      0.067      0.947      -0.022       0.023\n",
      "x81           -0.0632      0.024     -2.614      0.009      -0.111      -0.016\n",
      "x82            0.0317      0.018      1.777      0.076      -0.003       0.067\n",
      "x83           -0.0677      0.018     -3.753      0.000      -0.103      -0.032\n",
      "x84            0.0153      0.034      0.448      0.654      -0.052       0.082\n",
      "x85            0.0174      0.022      0.793      0.428      -0.026       0.060\n",
      "x86           -0.0032      0.013     -0.243      0.808      -0.029       0.022\n",
      "x87           -0.0216      0.017     -1.281      0.201      -0.055       0.011\n",
      "x88            0.0438      0.020      2.233      0.026       0.005       0.082\n",
      "x89           -0.0717      0.047     -1.539      0.124      -0.163       0.020\n",
      "x90            0.0184      0.014      1.343      0.179      -0.008       0.045\n",
      "x91            0.0208      0.016      1.269      0.205      -0.011       0.053\n",
      "x92            0.0647      0.022      2.928      0.003       0.021       0.108\n",
      "x93           -0.0253      0.016     -1.550      0.122      -0.057       0.007\n",
      "x94           -0.0395      0.026     -1.533      0.126      -0.090       0.011\n",
      "x95            0.0552      0.031      1.802      0.072      -0.005       0.115\n",
      "x96            0.0248      0.022      1.130      0.259      -0.018       0.068\n",
      "x97            0.0088      0.019      0.477      0.633      -0.028       0.045\n",
      "x98           -0.0109      0.028     -0.390      0.697      -0.065       0.044\n",
      "x99           -0.0002      0.012     -0.016      0.987      -0.023       0.023\n",
      "x100          -0.0024      0.017     -0.146      0.884      -0.035       0.030\n",
      "x101          -0.0231      0.020     -1.129      0.259      -0.063       0.017\n",
      "x102          -0.0346      0.034     -1.026      0.305      -0.101       0.032\n",
      "x103          -0.0029      0.014     -0.210      0.834      -0.030       0.024\n",
      "x104           0.0134      0.020      0.673      0.501      -0.026       0.053\n",
      "x105           0.0007      0.018      0.039      0.969      -0.035       0.036\n",
      "x106          -0.0241      0.017     -1.394      0.164      -0.058       0.010\n",
      "x107          -0.0112      0.015     -0.741      0.459      -0.041       0.019\n",
      "x108          -0.0040      0.020     -0.199      0.843      -0.043       0.035\n",
      "x109           0.0279      0.013      2.079      0.038       0.002       0.054\n",
      "x110           0.0824      0.015      5.365      0.000       0.052       0.112\n",
      "x111           0.0083      0.011      0.759      0.448      -0.013       0.030\n",
      "x112          -0.0449      0.027     -1.686      0.092      -0.097       0.007\n",
      "x113          -0.0093      0.031     -0.298      0.766      -0.070       0.052\n",
      "x114          -0.0465      0.023     -2.030      0.043      -0.091      -0.002\n",
      "x115           0.0093      0.015      0.603      0.547      -0.021       0.040\n",
      "x116           0.0039      0.017      0.224      0.823      -0.030       0.038\n",
      "x117           0.0181      0.018      0.995      0.320      -0.018       0.054\n",
      "x118           0.0085      0.020      0.434      0.665      -0.030       0.047\n",
      "x119          -0.1328      0.042     -3.171      0.002      -0.215      -0.051\n",
      "x120          -0.0236      0.060     -0.394      0.694      -0.141       0.094\n",
      "x121           0.0001      0.014      0.008      0.993      -0.027       0.028\n",
      "x122           0.0107      0.019      0.570      0.569      -0.026       0.048\n",
      "x123          -0.0743      0.023     -3.184      0.001      -0.120      -0.029\n",
      "x124          -0.0020      0.012     -0.171      0.864      -0.025       0.021\n",
      "x125          -0.0022      0.016     -0.137      0.891      -0.033       0.029\n",
      "x126           0.0176      0.019      0.925      0.355      -0.020       0.055\n",
      "x127           0.0365      0.018      2.007      0.045       0.001       0.072\n",
      "x128           0.0407      0.016      2.564      0.010       0.010       0.072\n",
      "x129           0.0041      0.023      0.178      0.859      -0.041       0.049\n",
      "x130          -0.0035      0.018     -0.194      0.846      -0.039       0.032\n",
      "x131           0.0300      0.017      1.780      0.075      -0.003       0.063\n",
      "x132           0.0555      0.020      2.757      0.006       0.016       0.095\n",
      "x133           0.0047      0.012      0.397      0.691      -0.019       0.028\n",
      "x134          -0.0067      0.016     -0.417      0.677      -0.038       0.025\n",
      "x135          -0.0746      0.045     -1.641      0.101      -0.164       0.015\n",
      "x136           0.0034      0.016      0.213      0.831      -0.028       0.035\n",
      "x137           0.0205      0.018      1.167      0.243      -0.014       0.055\n",
      "x138           0.0078      0.018      0.428      0.669      -0.028       0.044\n",
      "x139          -0.0233      0.026     -0.896      0.371      -0.074       0.028\n",
      "x140          -0.0208      0.017     -1.251      0.211      -0.054       0.012\n",
      "x141          -0.0046      0.023     -0.200      0.841      -0.050       0.041\n",
      "x142          -0.0780      0.026     -2.958      0.003      -0.130      -0.026\n",
      "x143           0.0358      0.043      0.843      0.400      -0.048       0.119\n",
      "==============================================================================\n",
      "Omnibus:                       92.172   Durbin-Watson:                   2.035\n",
      "Prob(Omnibus):                  0.000   Jarque-Bera (JB):              429.145\n",
      "Skew:                           0.160   Prob(JB):                     6.49e-94\n",
      "Kurtosis:                       5.916   Cond. No.                     6.37e+03\n",
      "==============================================================================\n",
      "\n",
      "Warnings:\n",
      "[1] Standard Errors assume that the covariance matrix of the errors is correctly specified.\n",
      "[2] The condition number is large, 6.37e+03. This might indicate that there are\n",
      "strong multicollinearity or other numerical problems.\n"
     ]
    }
   ],
   "source": [
    "lr_uni = sm.OLS(Y_train,X_train_unigram).fit()\n",
    "print(lr_uni.summary())"
   ]
  },
  {
   "cell_type": "markdown",
   "metadata": {},
   "source": [
    "### R2 и Adjusted R2"
   ]
  },
  {
   "cell_type": "code",
   "execution_count": 23,
   "metadata": {
    "ExecuteTime": {
     "end_time": "2019-05-30T11:56:48.925623Z",
     "start_time": "2019-05-30T11:56:48.913994Z"
    }
   },
   "outputs": [
    {
     "name": "stdout",
     "output_type": "stream",
     "text": [
      "In sample r2: 0.8625067156323412 Out of sample r2: 0.7926274842323343\n"
     ]
    }
   ],
   "source": [
    "print('In sample r2:',adj_r2_score(Y_train,lr_uni.predict(X_train_unigram),X_train.shape[1]), \n",
    "      'Out of sample r2:',adj_r2_score(Y_test,lr_uni.predict(X_test_unigram),X_train.shape[1]))"
   ]
  },
  {
   "cell_type": "code",
   "execution_count": 24,
   "metadata": {
    "ExecuteTime": {
     "end_time": "2019-05-30T11:56:49.463478Z",
     "start_time": "2019-05-30T11:56:49.450459Z"
    }
   },
   "outputs": [
    {
     "name": "stdout",
     "output_type": "stream",
     "text": [
      "Good ones:\n",
      " ['квартире', 'кухня', 'остановка', 'комфортной', 'юго', 'территория', 'техникой', 'жизни', 'паркинг', 'города', 'победы', 'фитнес', 'площадки', 'мебель', 'ремонтом', 'доступности', 'общей', 'класса', 'материалов', 'up']\n",
      "Bad ones:\n",
      " ['сколковский', 'огороженная', 'это', 'жилой', 'шаговой', 'спортивные', 'пешей', 'отделки', 'западная', 'остается', 'квартал', 'готовы', 'сады', 'сад', 'площадью', 'комната', 'проекта', 'аптеки', 'лет', 'жк']\n"
     ]
    }
   ],
   "source": [
    "good_uni, bad_uni = return_words(vectorizer_uni, lr_uni,20)\n",
    "print('Good ones:\\n', good_uni)\n",
    "print('Bad ones:\\n',bad_uni)"
   ]
  },
  {
   "cell_type": "markdown",
   "metadata": {},
   "source": [
    "<div style='float:left'><img width=400 src=\"1.png\" alt=\"HSE logo\"></img></div> \n",
    "<div style='float:right'><img width=400 src=\"2.png\" alt=\"HSE logo\"></img></div> \n",
    "\n"
   ]
  },
  {
   "cell_type": "markdown",
   "metadata": {},
   "source": [
    "## Model #3. Linear Regression with Bigrams"
   ]
  },
  {
   "cell_type": "code",
   "execution_count": 25,
   "metadata": {
    "ExecuteTime": {
     "end_time": "2019-05-30T11:56:51.609125Z",
     "start_time": "2019-05-30T11:56:51.265996Z"
    }
   },
   "outputs": [
    {
     "data": {
      "text/plain": [
       "(1197, 137)"
      ]
     },
     "execution_count": 25,
     "metadata": {},
     "output_type": "execute_result"
    }
   ],
   "source": [
    "vectorizer_bi = CountVectorizer(min_df=76,stop_words=stop_words,ngram_range=(2,2))\n",
    "train_bi_descr = vectorizer_bi.fit_transform(X_train['description'])\n",
    "test_bi_descr = vectorizer_bi.transform(X_test['description'])\n",
    "train_bi_descr.shape"
   ]
  },
  {
   "cell_type": "code",
   "execution_count": 26,
   "metadata": {
    "ExecuteTime": {
     "end_time": "2019-05-30T11:56:51.632210Z",
     "start_time": "2019-05-30T11:56:51.613725Z"
    }
   },
   "outputs": [
    {
     "data": {
      "text/plain": [
       "(1197, 140)"
      ]
     },
     "execution_count": 26,
     "metadata": {},
     "output_type": "execute_result"
    }
   ],
   "source": [
    "X_train_bigram = np.hstack([X_train[['sq','lat','lon']], train_bi_descr.toarray()])\n",
    "X_test_bigram = np.hstack([X_test[['sq','lat','lon']], test_bi_descr.toarray()])\n",
    "X_train_bigram.shape"
   ]
  },
  {
   "cell_type": "code",
   "execution_count": 27,
   "metadata": {
    "ExecuteTime": {
     "end_time": "2019-05-30T11:56:52.126812Z",
     "start_time": "2019-05-30T11:56:51.998151Z"
    }
   },
   "outputs": [
    {
     "name": "stdout",
     "output_type": "stream",
     "text": [
      "                            OLS Regression Results                            \n",
      "==============================================================================\n",
      "Dep. Variable:                  price   R-squared:                       1.000\n",
      "Model:                            OLS   Adj. R-squared:                  1.000\n",
      "Method:                 Least Squares   F-statistic:                 1.002e+05\n",
      "Date:                Thu, 30 May 2019   Prob (F-statistic):               0.00\n",
      "Time:                        14:56:52   Log-Likelihood:                 416.69\n",
      "No. Observations:                1197   AIC:                            -647.4\n",
      "Df Residuals:                    1104   BIC:                            -174.2\n",
      "Df Model:                          93                                         \n",
      "Covariance Type:            nonrobust                                         \n",
      "==============================================================================\n",
      "                 coef    std err          t      P>|t|      [0.025      0.975]\n",
      "------------------------------------------------------------------------------\n",
      "x1             0.0132      0.000     58.641      0.000       0.013       0.014\n",
      "x2            -0.5021      0.192     -2.617      0.009      -0.878      -0.126\n",
      "x3             1.1489      0.287      4.010      0.000       0.587       1.711\n",
      "x4             0.0202      0.025      0.823      0.411      -0.028       0.068\n",
      "x5             0.0644      0.181      0.357      0.721      -0.290       0.419\n",
      "x6            -1.5607      0.753     -2.072      0.038      -3.039      -0.083\n",
      "x7            -0.0075      0.024     -0.314      0.754      -0.054       0.039\n",
      "x8            -0.1551      0.127     -1.223      0.221      -0.404       0.094\n",
      "x9             1.8202      0.738      2.466      0.014       0.372       3.268\n",
      "x10            0.4907      0.184      2.666      0.008       0.130       0.852\n",
      "x11            0.0416      0.081      0.512      0.609      -0.118       0.201\n",
      "x12           -0.4271      0.187     -2.283      0.023      -0.794      -0.060\n",
      "x13            0.0409      0.050      0.820      0.413      -0.057       0.139\n",
      "x14            0.4907      0.184      2.666      0.008       0.130       0.852\n",
      "x15            0.0786      0.082      0.959      0.338      -0.082       0.239\n",
      "x16            0.0007      0.031      0.021      0.983      -0.061       0.062\n",
      "x17            0.1443      0.030      4.819      0.000       0.086       0.203\n",
      "x18           -0.0778      0.108     -0.723      0.470      -0.289       0.133\n",
      "x19           -0.1391      0.094     -1.484      0.138      -0.323       0.045\n",
      "x20            0.0165      0.015      1.098      0.272      -0.013       0.046\n",
      "x21            0.0409      0.050      0.820      0.413      -0.057       0.139\n",
      "x22            0.0137      0.021      0.646      0.519      -0.028       0.055\n",
      "x23            0.0622      0.107      0.583      0.560      -0.147       0.272\n",
      "x24            0.0034      0.044      0.077      0.939      -0.084       0.090\n",
      "x25           -0.0413      0.108     -0.383      0.702      -0.253       0.170\n",
      "x26            0.0137      0.021      0.646      0.519      -0.028       0.055\n",
      "x27           -0.1302      0.050     -2.601      0.009      -0.228      -0.032\n",
      "x28            0.0469      0.022      2.107      0.035       0.003       0.091\n",
      "x29            0.0225      0.018      1.265      0.206      -0.012       0.057\n",
      "x30           -0.0080      0.016     -0.488      0.626      -0.040       0.024\n",
      "x31            0.0444      0.035      1.272      0.204      -0.024       0.113\n",
      "x32           -0.2311      0.154     -1.498      0.134      -0.534       0.072\n",
      "x33           -0.1391      0.094     -1.484      0.138      -0.323       0.045\n",
      "x34            0.0409      0.050      0.820      0.413      -0.057       0.139\n",
      "x35            0.0395      0.069      0.572      0.568      -0.096       0.175\n",
      "x36            0.0137      0.021      0.646      0.519      -0.028       0.055\n",
      "x37            0.0101      0.052      0.192      0.847      -0.093       0.113\n",
      "x38            0.0137      0.021      0.646      0.519      -0.028       0.055\n",
      "x39            0.0395      0.069      0.572      0.568      -0.096       0.175\n",
      "x40            0.0418      0.023      1.831      0.067      -0.003       0.087\n",
      "x41            0.3211      0.183      1.753      0.080      -0.038       0.680\n",
      "x42           -0.2506      0.308     -0.815      0.415      -0.854       0.353\n",
      "x43           -0.0413      0.108     -0.383      0.702      -0.253       0.170\n",
      "x44            0.0286      0.025      1.159      0.247      -0.020       0.077\n",
      "x45            0.0162      0.017      0.932      0.351      -0.018       0.050\n",
      "x46            0.0030      0.044      0.067      0.946      -0.084       0.090\n",
      "x47           -0.0866      0.029     -2.940      0.003      -0.144      -0.029\n",
      "x48            0.1648      0.040      4.145      0.000       0.087       0.243\n",
      "x49           -0.0414      0.032     -1.306      0.192      -0.104       0.021\n",
      "x50            0.0409      0.050      0.820      0.413      -0.057       0.139\n",
      "x51           -0.7007      0.294     -2.387      0.017      -1.277      -0.125\n",
      "x52            0.0409      0.050      0.820      0.413      -0.057       0.139\n",
      "x53            0.0034      0.044      0.077      0.939      -0.084       0.090\n",
      "x54            0.0137      0.021      0.646      0.519      -0.028       0.055\n",
      "x55           -0.0414      0.032     -1.306      0.192      -0.104       0.021\n",
      "x56           -0.0414      0.032     -1.306      0.192      -0.104       0.021\n",
      "x57           -0.0414      0.032     -1.306      0.192      -0.104       0.021\n",
      "x58            0.0028      0.030      0.095      0.925      -0.056       0.061\n",
      "x59            0.0409      0.050      0.820      0.413      -0.057       0.139\n",
      "x60           -0.0002      0.018     -0.012      0.990      -0.036       0.035\n",
      "x61            0.0844      0.045      1.885      0.060      -0.003       0.172\n",
      "x62            0.0020      0.020      0.101      0.920      -0.037       0.041\n",
      "x63            0.0159      0.020      0.789      0.430      -0.024       0.056\n",
      "x64           -0.0053      0.096     -0.055      0.956      -0.194       0.184\n",
      "x65            0.1504      0.074      2.027      0.043       0.005       0.296\n",
      "x66           -0.0003      0.022     -0.015      0.988      -0.044       0.044\n",
      "x67            0.3483      0.280      1.242      0.215      -0.202       0.899\n",
      "x68            0.1881      0.198      0.950      0.342      -0.200       0.577\n",
      "x69           -0.0414      0.032     -1.306      0.192      -0.104       0.021\n",
      "x70            0.0034      0.044      0.077      0.939      -0.084       0.090\n",
      "x71            0.0137      0.021      0.646      0.519      -0.028       0.055\n",
      "x72           -0.0392      0.019     -2.115      0.035      -0.076      -0.003\n",
      "x73            0.0757      0.024      3.205      0.001       0.029       0.122\n",
      "x74            0.0049      0.040      0.121      0.904      -0.074       0.084\n",
      "x75           -0.2312      0.198     -1.169      0.243      -0.619       0.157\n",
      "x76           -0.0767      0.021     -3.672      0.000      -0.118      -0.036\n",
      "x77           -0.0207      0.050     -0.411      0.681      -0.119       0.078\n",
      "x78           -0.0349      0.023     -1.527      0.127      -0.080       0.010\n",
      "x79            0.0016      0.021      0.078      0.938      -0.040       0.043\n",
      "x80            0.4907      0.184      2.666      0.008       0.130       0.852\n",
      "x81            0.0137      0.021      0.646      0.519      -0.028       0.055\n",
      "x82            0.1617      0.082      1.979      0.048       0.001       0.322\n",
      "x83            0.0228      0.028      0.825      0.410      -0.031       0.077\n",
      "x84           -0.0361      0.130     -0.278      0.781      -0.290       0.218\n",
      "x85            0.0094      0.016      0.571      0.568      -0.023       0.042\n",
      "x86            0.0407      0.125      0.325      0.745      -0.205       0.286\n",
      "x87           -0.0002      0.027     -0.007      0.994      -0.053       0.053\n",
      "x88            0.0395      0.069      0.572      0.568      -0.096       0.175\n",
      "x89            0.0030      0.044      0.067      0.946      -0.084       0.090\n",
      "x90            0.2077      0.182      1.143      0.253      -0.149       0.564\n",
      "x91            0.0055      0.020      0.268      0.789      -0.035       0.046\n",
      "x92            0.0030      0.044      0.067      0.946      -0.084       0.090\n",
      "x93            0.0137      0.021      0.646      0.519      -0.028       0.055\n",
      "x94            0.2456      0.220      1.116      0.265      -0.186       0.677\n",
      "x95            0.0444      0.112      0.397      0.691      -0.175       0.264\n",
      "x96            0.0137      0.021      0.646      0.519      -0.028       0.055\n",
      "x97            0.0113      0.023      0.488      0.625      -0.034       0.057\n",
      "x98            0.3151      0.128      2.456      0.014       0.063       0.567\n",
      "x99            0.0137      0.021      0.646      0.519      -0.028       0.055\n",
      "x100           0.0239      0.033      0.717      0.473      -0.041       0.089\n",
      "x101          -0.0094      0.016     -0.607      0.544      -0.040       0.021\n",
      "x102          -0.1903      0.188     -1.012      0.312      -0.559       0.179\n",
      "x103           0.0034      0.044      0.077      0.939      -0.084       0.090\n",
      "x104          -0.2311      0.154     -1.498      0.134      -0.534       0.072\n",
      "x105           0.0034      0.044      0.077      0.939      -0.084       0.090\n",
      "x106           0.0034      0.044      0.077      0.939      -0.084       0.090\n",
      "x107           0.0321      0.019      1.682      0.093      -0.005       0.070\n",
      "x108          -0.1003      0.063     -1.592      0.112      -0.224       0.023\n",
      "x109           0.0261      0.027      0.964      0.335      -0.027       0.079\n",
      "x110          -0.1088      0.063     -1.725      0.085      -0.232       0.015\n",
      "x111           0.0326      0.013      2.535      0.011       0.007       0.058\n",
      "x112           0.0608      0.190      0.320      0.749      -0.312       0.433\n",
      "x113           0.0409      0.050      0.820      0.413      -0.057       0.139\n",
      "x114          -0.1090      0.193     -0.566      0.572      -0.487       0.269\n",
      "x115           0.0030      0.044      0.067      0.946      -0.084       0.090\n",
      "x116           0.0961      0.159      0.606      0.545      -0.215       0.407\n",
      "x117           0.0117      0.023      0.515      0.607      -0.033       0.056\n",
      "x118           0.0588      0.259      0.227      0.820      -0.449       0.567\n",
      "x119           0.0395      0.069      0.572      0.568      -0.096       0.175\n",
      "x120           0.0541      0.026      2.106      0.035       0.004       0.105\n",
      "x121          -0.0414      0.032     -1.306      0.192      -0.104       0.021\n",
      "x122          -0.0198      0.017     -1.147      0.252      -0.054       0.014\n",
      "x123          -0.3226      0.189     -1.709      0.088      -0.693       0.048\n",
      "x124          -0.0414      0.032     -1.306      0.192      -0.104       0.021\n",
      "x125           0.0545      0.142      0.385      0.701      -0.223       0.332\n",
      "x126           0.0294      0.025      1.190      0.234      -0.019       0.078\n",
      "x127          -0.0142      0.028     -0.502      0.616      -0.070       0.041\n",
      "x128          -0.0007      0.017     -0.043      0.966      -0.034       0.033\n",
      "x129           0.0137      0.021      0.646      0.519      -0.028       0.055\n",
      "x130          -0.0414      0.032     -1.306      0.192      -0.104       0.021\n",
      "x131           0.0030      0.044      0.067      0.946      -0.084       0.090\n",
      "x132          -0.5002      0.446     -1.121      0.263      -1.376       0.376\n",
      "x133           0.0169      0.015      1.093      0.275      -0.013       0.047\n",
      "x134          -0.1391      0.094     -1.484      0.138      -0.323       0.045\n",
      "x135          -0.0790      0.082     -0.968      0.333      -0.239       0.081\n",
      "x136          -0.2311      0.154     -1.498      0.134      -0.534       0.072\n",
      "x137           0.0030      0.044      0.067      0.946      -0.084       0.090\n",
      "x138          -0.0543      0.032     -1.702      0.089      -0.117       0.008\n",
      "x139          -0.2311      0.154     -1.498      0.134      -0.534       0.072\n",
      "x140          -0.0871      0.042     -2.053      0.040      -0.170      -0.004\n",
      "==============================================================================\n",
      "Omnibus:                      112.809   Durbin-Watson:                   2.040\n",
      "Prob(Omnibus):                  0.000   Jarque-Bera (JB):              686.575\n",
      "Skew:                           0.149   Prob(JB):                    8.17e-150\n",
      "Kurtosis:                       6.698   Cond. No.                     1.40e+16\n",
      "==============================================================================\n",
      "\n",
      "Warnings:\n",
      "[1] Standard Errors assume that the covariance matrix of the errors is correctly specified.\n",
      "[2] The smallest eigenvalue is 5.13e-26. This might indicate that there are\n",
      "strong multicollinearity problems or that the design matrix is singular.\n"
     ]
    }
   ],
   "source": [
    "lr_bi = sm.OLS(Y_train,X_train_bigram).fit()\n",
    "print(lr_bi.summary())"
   ]
  },
  {
   "cell_type": "code",
   "execution_count": 28,
   "metadata": {
    "ExecuteTime": {
     "end_time": "2019-05-30T11:56:52.424934Z",
     "start_time": "2019-05-30T11:56:52.412977Z"
    }
   },
   "outputs": [
    {
     "name": "stdout",
     "output_type": "stream",
     "text": [
      "In sample r2: 0.8145649550489513 Out of sample r2: 0.7242669198096012\n"
     ]
    }
   ],
   "source": [
    "print('In sample r2:',adj_r2_score(Y_train,lr_bi.predict(X_train_bigram),X_train.shape[1]), \n",
    "      'Out of sample r2:',adj_r2_score(Y_test,lr_bi.predict(X_test_bigram),X_train.shape[1]))"
   ]
  },
  {
   "cell_type": "code",
   "execution_count": 29,
   "metadata": {
    "ExecuteTime": {
     "end_time": "2019-05-30T11:56:52.816635Z",
     "start_time": "2019-05-30T11:56:52.801643Z"
    }
   },
   "outputs": [
    {
     "name": "stdout",
     "output_type": "stream",
     "text": [
      "Good ones:\n",
      " ['выход сделку', '10 млн', 'общей площадью', 'безопасность сделки', 'минскому шоссе', 'сколковский престижном', 'бизнес класса', 'многое другое', 'отделочных материалов', 'комфортной жизни', 'новый up', 'пол потолок', 'предчистовой отделкой', 'продаётся квартира', 'квартал сколковский', 'монолитных корпусов', 'оригинальной архитектуры', '25 этажей', 'архитектуры 17', '25 га']\n",
      "Bad ones:\n",
      " ['13 монолитных', 'корпусов переменной', 'черновые работы', 'up квартал', 'стены полностью', 'квартиры позволяет', 'одинцово входит', 'районе это', 'этажей огороженная', 'это дома', 'дома оригинальной', 'разводка электрики', '17 25', 'школа многое', 'другое вашей', 'вашей комфортной', 'гусарская баллада', 'сделки рамках', 'свободная планировка', 'сада школа']\n"
     ]
    }
   ],
   "source": [
    "good_bi, bad_bi = return_words(vectorizer_bi, lr_bi,20)\n",
    "print('Good ones:\\n', good_bi)\n",
    "print('Bad ones:\\n', bad_bi)"
   ]
  },
  {
   "cell_type": "markdown",
   "metadata": {
    "ExecuteTime": {
     "end_time": "2019-05-30T11:25:45.994631Z",
     "start_time": "2019-05-30T11:25:45.986596Z"
    }
   },
   "source": [
    "<div style='float:left'><img width=400 src=\"3.png\" alt=\"HSE logo\"></img></div> \n",
    "<div style='float:right'><img width=400 src=\"4.png\" alt=\"HSE logo\"></img></div> \n"
   ]
  },
  {
   "cell_type": "code",
   "execution_count": null,
   "metadata": {},
   "outputs": [],
   "source": []
  }
 ],
 "metadata": {
  "kernelspec": {
   "display_name": "Python 3",
   "language": "python",
   "name": "python3"
  },
  "language_info": {
   "codemirror_mode": {
    "name": "ipython",
    "version": 3
   },
   "file_extension": ".py",
   "mimetype": "text/x-python",
   "name": "python",
   "nbconvert_exporter": "python",
   "pygments_lexer": "ipython3",
   "version": "3.6.5"
  }
 },
 "nbformat": 4,
 "nbformat_minor": 2
}
